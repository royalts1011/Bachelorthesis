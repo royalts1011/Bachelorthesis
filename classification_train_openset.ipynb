{
 "cells": [
  {
   "cell_type": "code",
   "execution_count": 1,
   "metadata": {},
   "outputs": [
    {
     "output_type": "stream",
     "name": "stderr",
     "text": "Using TensorFlow backend.\n"
    }
   ],
   "source": [
    "from keras import backend as K, models\n",
    "from keras.models import *\n",
    "from keras.layers import *\n",
    "from keras.layers.normalization import BatchNormalization\n",
    "from keras.applications import MobileNetV2\n",
    "from keras.regularizers import l2\n",
    "from keras.activations import relu\n",
    "from keras.callbacks import ModelCheckpoint, EarlyStopping\n",
    "import os\n",
    "from os.path import join as join_\n",
    "import numpy as np\n",
    "from PIL import Image\n",
    "import cv2"
   ]
  },
  {
   "cell_type": "code",
   "execution_count": 2,
   "metadata": {},
   "outputs": [],
   "source": [
    "# Setting up the dataset\n",
    "\n",
    "SET_DIR = '../AMI/'\n",
    "NUM_CLASSES = len(os.listdir('../AMI/'))\n",
    "\n",
    "# The shape which MobilenetV2 accepts as input and thus each image is resized to\n",
    "image_shape = (224, 224, 3)\n",
    "\n",
    "# NUM_EXAMPLES is the number of (A,P,N) triplets chosen for the same class (N belongs to a different class of course)\n",
    "NUM_EXAMPLES = 15\n",
    "\n",
    "# Triplets list will contain anchor(A), positive(P) and negative(N) triplets.\n",
    "triplets = []\n",
    "A = P = N = []\n",
    "\n",
    "# creating anchor, positive, negative triplets\n",
    "for _ in range(NUM_EXAMPLES):\n",
    "    for direc in os.listdir(SET_DIR):\n",
    "        dir_path = SET_DIR + direc\n",
    "        dir_contents = os.listdir(dir_path)\n",
    "        length = len(dir_contents)\n",
    "        \n",
    "        anchor = np.asarray(Image.open(join_(dir_path, dir_contents[np.random.randint(0, length)])))/255\n",
    "        anchor = cv2.resize(anchor, (180, 200)) \n",
    "        anchor = np.array([np.pad(a, ((22,22), (12,12)), 'constant') for a in anchor.T]).T\n",
    "        # anchor.shape = (200, 180, 3)\n",
    "        \n",
    "        \n",
    "        positive = np.asarray(Image.open(join_(dir_path, dir_contents[np.random.randint(0, length)])))/255\n",
    "        positive = cv2.resize(positive, (180, 200)) \n",
    "        positive = np.array([np.pad(a, ((22,22), (12,12)), 'constant') for a in positive.T]).T\n",
    "        \n",
    "        neg_dir = os.listdir(SET_DIR)[np.random.randint(NUM_CLASSES)]\n",
    "        while neg_dir == direc: \n",
    "            neg_dir = os.listdir(SET_DIR)[np.random.randint(NUM_CLASSES)]\n",
    "            \n",
    "        length_negative = len(os.listdir(SET_DIR + neg_dir))\n",
    "        negative = np.asarray(Image.open(\n",
    "                       join_(SET_DIR + neg_dir, \n",
    "                        os.listdir(SET_DIR + neg_dir)[np.random.randint(0, length_negative)])))/255\n",
    "        negative = cv2.resize(negative, (180, 200)) \n",
    "        negative = np.array([np.pad(a, ((22,22), (12,12)), 'constant') for a in negative.T]).T\n",
    "        \n",
    "        # append triplet\n",
    "        triplets.append([anchor, positive, negative])\n",
    "        A.append(anchor)\n",
    "        P.append(positive)\n",
    "        N.append(negative)"
   ]
  },
  {
   "cell_type": "code",
   "execution_count": 3,
   "metadata": {},
   "outputs": [],
   "source": [
    "def triplet_function(vects, alpha=0.4):\n",
    "    x, y, z = vects\n",
    "    sum_square_xy = K.sum(K.square(x - y), axis=1, keepdims=True)\n",
    "    sum_square_xz = K.sum(K.square(x - z), axis=1, keepdims=True)\n",
    "    return K.sum(K.maximum(sum_square_xy - sum_square_xz + alpha, 0), axis=0)\n"
   ]
  },
  {
   "cell_type": "code",
   "execution_count": 5,
   "metadata": {},
   "outputs": [],
   "source": [
    "def VGG():\n",
    "    image_input = Input(shape=(224, 224, 3))\n",
    "    model = MobileNetV2(input_tensor=image_input, weights='imagenet',include_top=True)\n",
    "    model.layers[-1].activation = relu\n",
    "    x_out = Dense(32)(model.layers[-1].output)\n",
    "    \n",
    "    new_model = Model(inputs=image_input, outputs=x_out)\n",
    "    return new_model"
   ]
  },
  {
   "cell_type": "code",
   "execution_count": 6,
   "metadata": {},
   "outputs": [],
   "source": [
    "def get_model():\n",
    "    anchor = Input(shape=image_shape, name='anchor')\n",
    "    positive = Input(shape=image_shape, name='positive')\n",
    "    negative = Input(shape=image_shape, name='negative')\n",
    "    \n",
    "    # Passing each image through the VGG model\n",
    "    anchor_encoding = VGG()(anchor)\n",
    "    positive_encoding = VGG()(positive)\n",
    "    negative_encoding = VGG()(negative)\n",
    "\n",
    "    # Incorporating the triplet loss in the SimVecLayer\n",
    "    SimVecLayer = Lambda(triplet_function, output_shape=(1,))\n",
    "    \n",
    "    sim_APN = SimVecLayer([anchor_encoding, positive_encoding, negative_encoding])\n",
    "    \n",
    "    return Model(inputs=[anchor, positive, negative], outputs=sim_APN)"
   ]
  },
  {
   "cell_type": "code",
   "execution_count": 11,
   "metadata": {},
   "outputs": [
    {
     "output_type": "stream",
     "name": "stdout",
     "text": "Model: \"model_12\"\n__________________________________________________________________________________________________\nLayer (type)                    Output Shape         Param #     Connected to                     \n==================================================================================================\nanchor (InputLayer)             (None, 224, 224, 3)  0                                            \n__________________________________________________________________________________________________\npositive (InputLayer)           (None, 224, 224, 3)  0                                            \n__________________________________________________________________________________________________\nnegative (InputLayer)           (None, 224, 224, 3)  0                                            \n__________________________________________________________________________________________________\nmodel_9 (Model)                 (None, 32)           3571016     anchor[0][0]                     \n__________________________________________________________________________________________________\nmodel_10 (Model)                (None, 32)           3571016     positive[0][0]                   \n__________________________________________________________________________________________________\nmodel_11 (Model)                (None, 32)           3571016     negative[0][0]                   \n__________________________________________________________________________________________________\nlambda_3 (Lambda)               (None, 1)            0           model_9[1][0]                    \n                                                                 model_10[1][0]                   \n                                                                 model_11[1][0]                   \n==================================================================================================\nTotal params: 10,713,048\nTrainable params: 10,610,712\nNon-trainable params: 102,336\n__________________________________________________________________________________________________\n"
    }
   ],
   "source": [
    "model = get_model()\n",
    "\n",
    "# Compile the model with a loss and optimizer\n",
    "model.compile(loss='mean_squared_error', optimizer='adam', metrics=['mae']) \n",
    "model.summary()"
   ]
  },
  {
   "cell_type": "code",
   "execution_count": 12,
   "metadata": {},
   "outputs": [
    {
     "output_type": "execute_result",
     "data": {
      "text/plain": "<IPython.core.display.SVG object>",
      "image/svg+xml": "<svg height=\"255pt\" viewBox=\"0.00 0.00 422.50 191.00\" width=\"563pt\" xmlns=\"http://www.w3.org/2000/svg\" xmlns:xlink=\"http://www.w3.org/1999/xlink\">\n<g class=\"graph\" id=\"graph0\" transform=\"scale(1.33 1.33) rotate(0) translate(4 187)\">\n<title>G</title>\n<polygon fill=\"white\" points=\"-4,4 -4,-187 418.5,-187 418.5,4 -4,4\" stroke=\"transparent\"/>\n<!-- 5684672912 -->\n<g class=\"node\" id=\"node1\">\n<title>5684672912</title>\n<polygon fill=\"none\" points=\"0,-146.5 0,-182.5 121,-182.5 121,-146.5 0,-146.5\" stroke=\"black\"/>\n<text font-family=\"Times,serif\" font-size=\"14.00\" text-anchor=\"middle\" x=\"60.5\" y=\"-160.8\">anchor: InputLayer</text>\n</g>\n<!-- 5696055888 -->\n<g class=\"node\" id=\"node4\">\n<title>5696055888</title>\n<polygon fill=\"none\" points=\"12.5,-73.5 12.5,-109.5 120.5,-109.5 120.5,-73.5 12.5,-73.5\" stroke=\"black\"/>\n<text font-family=\"Times,serif\" font-size=\"14.00\" text-anchor=\"middle\" x=\"66.5\" y=\"-87.8\">model_9: Model</text>\n</g>\n<!-- 5684672912&#45;&gt;5696055888 -->\n<g class=\"edge\" id=\"edge1\">\n<title>5684672912-&gt;5696055888</title>\n<path d=\"M61.95,-146.31C62.63,-138.29 63.45,-128.55 64.21,-119.57\" fill=\"none\" stroke=\"black\"/>\n<polygon fill=\"black\" points=\"67.71,-119.79 65.06,-109.53 60.73,-119.2 67.71,-119.79\" stroke=\"black\"/>\n</g>\n<!-- 5684672272 -->\n<g class=\"node\" id=\"node2\">\n<title>5684672272</title>\n<polygon fill=\"none\" points=\"139,-146.5 139,-182.5 266,-182.5 266,-146.5 139,-146.5\" stroke=\"black\"/>\n<text font-family=\"Times,serif\" font-size=\"14.00\" text-anchor=\"middle\" x=\"202.5\" y=\"-160.8\">positive: InputLayer</text>\n</g>\n<!-- 5717433872 -->\n<g class=\"node\" id=\"node5\">\n<title>5717433872</title>\n<polygon fill=\"none\" points=\"145,-73.5 145,-109.5 260,-109.5 260,-73.5 145,-73.5\" stroke=\"black\"/>\n<text font-family=\"Times,serif\" font-size=\"14.00\" text-anchor=\"middle\" x=\"202.5\" y=\"-87.8\">model_10: Model</text>\n</g>\n<!-- 5684672272&#45;&gt;5717433872 -->\n<g class=\"edge\" id=\"edge2\">\n<title>5684672272-&gt;5717433872</title>\n<path d=\"M202.5,-146.31C202.5,-138.29 202.5,-128.55 202.5,-119.57\" fill=\"none\" stroke=\"black\"/>\n<polygon fill=\"black\" points=\"206,-119.53 202.5,-109.53 199,-119.53 206,-119.53\" stroke=\"black\"/>\n</g>\n<!-- 5684673040 -->\n<g class=\"node\" id=\"node3\">\n<title>5684673040</title>\n<polygon fill=\"none\" points=\"284.5,-146.5 284.5,-182.5 414.5,-182.5 414.5,-146.5 284.5,-146.5\" stroke=\"black\"/>\n<text font-family=\"Times,serif\" font-size=\"14.00\" text-anchor=\"middle\" x=\"349.5\" y=\"-160.8\">negative: InputLayer</text>\n</g>\n<!-- 5738950544 -->\n<g class=\"node\" id=\"node6\">\n<title>5738950544</title>\n<polygon fill=\"none\" points=\"285,-73.5 285,-109.5 400,-109.5 400,-73.5 285,-73.5\" stroke=\"black\"/>\n<text font-family=\"Times,serif\" font-size=\"14.00\" text-anchor=\"middle\" x=\"342.5\" y=\"-87.8\">model_11: Model</text>\n</g>\n<!-- 5684673040&#45;&gt;5738950544 -->\n<g class=\"edge\" id=\"edge3\">\n<title>5684673040-&gt;5738950544</title>\n<path d=\"M347.81,-146.31C347.01,-138.29 346.05,-128.55 345.17,-119.57\" fill=\"none\" stroke=\"black\"/>\n<polygon fill=\"black\" points=\"348.64,-119.14 344.18,-109.53 341.68,-119.82 348.64,-119.14\" stroke=\"black\"/>\n</g>\n<!-- 5748543184 -->\n<g class=\"node\" id=\"node7\">\n<title>5748543184</title>\n<polygon fill=\"none\" points=\"141,-0.5 141,-36.5 264,-36.5 264,-0.5 141,-0.5\" stroke=\"black\"/>\n<text font-family=\"Times,serif\" font-size=\"14.00\" text-anchor=\"middle\" x=\"202.5\" y=\"-14.8\">lambda_3: Lambda</text>\n</g>\n<!-- 5696055888&#45;&gt;5748543184 -->\n<g class=\"edge\" id=\"edge4\">\n<title>5696055888-&gt;5748543184</title>\n<path d=\"M99.08,-73.49C117.53,-63.86 140.81,-51.71 160.61,-41.37\" fill=\"none\" stroke=\"black\"/>\n<polygon fill=\"black\" points=\"162.47,-44.34 169.72,-36.61 159.23,-38.14 162.47,-44.34\" stroke=\"black\"/>\n</g>\n<!-- 5717433872&#45;&gt;5748543184 -->\n<g class=\"edge\" id=\"edge5\">\n<title>5717433872-&gt;5748543184</title>\n<path d=\"M202.5,-73.31C202.5,-65.29 202.5,-55.55 202.5,-46.57\" fill=\"none\" stroke=\"black\"/>\n<polygon fill=\"black\" points=\"206,-46.53 202.5,-36.53 199,-46.53 206,-46.53\" stroke=\"black\"/>\n</g>\n<!-- 5738950544&#45;&gt;5748543184 -->\n<g class=\"edge\" id=\"edge6\">\n<title>5738950544-&gt;5748543184</title>\n<path d=\"M308.97,-73.49C289.89,-63.82 265.79,-51.6 245.35,-41.23\" fill=\"none\" stroke=\"black\"/>\n<polygon fill=\"black\" points=\"246.75,-38.02 236.25,-36.61 243.58,-44.26 246.75,-38.02\" stroke=\"black\"/>\n</g>\n</g>\n</svg>"
     },
     "metadata": {},
     "execution_count": 12
    }
   ],
   "source": [
    "from IPython.display import SVG\n",
    "from keras.utils.vis_utils import model_to_dot\n",
    "\n",
    "SVG(model_to_dot(model).create(prog='dot', format='svg'))"
   ]
  },
  {
   "cell_type": "code",
   "execution_count": 9,
   "metadata": {},
   "outputs": [
    {
     "output_type": "error",
     "ename": "NameError",
     "evalue": "name 'model' is not defined",
     "traceback": [
      "\u001b[0;31m---------------------------------------------------------------------------\u001b[0m",
      "\u001b[0;31mNameError\u001b[0m                                 Traceback (most recent call last)",
      "\u001b[0;32m<ipython-input-9-4a9f05430b5a>\u001b[0m in \u001b[0;36m<module>\u001b[0;34m\u001b[0m\n\u001b[1;32m      1\u001b[0m \u001b[0;31m# Train the model (done over the intel cloud)\u001b[0m\u001b[0;34m\u001b[0m\u001b[0;34m\u001b[0m\u001b[0;34m\u001b[0m\u001b[0m\n\u001b[0;32m----> 2\u001b[0;31m model.fit(x = [A, P, N], y = np.zeros((len(A),1)),\n\u001b[0m\u001b[1;32m      3\u001b[0m                   \u001b[0mepochs\u001b[0m\u001b[0;34m=\u001b[0m\u001b[0;36m10\u001b[0m\u001b[0;34m,\u001b[0m \u001b[0mverbose\u001b[0m\u001b[0;34m=\u001b[0m\u001b[0;36m1\u001b[0m\u001b[0;34m,\u001b[0m\u001b[0;34m\u001b[0m\u001b[0;34m\u001b[0m\u001b[0m\n\u001b[1;32m      4\u001b[0m                   \u001b[0mbatch_size\u001b[0m\u001b[0;34m=\u001b[0m\u001b[0;36m32\u001b[0m\u001b[0;34m,\u001b[0m \u001b[0mvalidation_split\u001b[0m\u001b[0;34m=\u001b[0m\u001b[0;36m0.2\u001b[0m\u001b[0;34m,\u001b[0m\u001b[0;34m\u001b[0m\u001b[0;34m\u001b[0m\u001b[0m\n\u001b[1;32m      5\u001b[0m                   callbacks=[EarlyStopping(monitor='val_loss', patience=2)])\n",
      "\u001b[0;31mNameError\u001b[0m: name 'model' is not defined"
     ]
    }
   ],
   "source": [
    "# Train the model (done over the intel cloud) \n",
    "model.fit(x = [A, P, N], y = np.zeros((len(A),1)),\n",
    "                  epochs=10, verbose=1,\n",
    "                  batch_size=32, validation_split=0.2,\n",
    "                  callbacks=[EarlyStopping(monitor='val_loss', patience=2)])"
   ]
  },
  {
   "cell_type": "code",
   "execution_count": 10,
   "metadata": {},
   "outputs": [
    {
     "output_type": "error",
     "ename": "NameError",
     "evalue": "name 'model' is not defined",
     "traceback": [
      "\u001b[0;31m---------------------------------------------------------------------------\u001b[0m",
      "\u001b[0;31mNameError\u001b[0m                                 Traceback (most recent call last)",
      "\u001b[0;32m<ipython-input-10-596723284980>\u001b[0m in \u001b[0;36m<module>\u001b[0;34m\u001b[0m\n\u001b[0;32m----> 1\u001b[0;31m \u001b[0mmodel\u001b[0m\u001b[0;34m.\u001b[0m\u001b[0msave\u001b[0m\u001b[0;34m(\u001b[0m\u001b[0;34m'model.h5'\u001b[0m\u001b[0;34m)\u001b[0m\u001b[0;34m\u001b[0m\u001b[0;34m\u001b[0m\u001b[0m\n\u001b[0m",
      "\u001b[0;31mNameError\u001b[0m: name 'model' is not defined"
     ]
    }
   ],
   "source": [
    "model.save('model.h5')"
   ]
  }
 ],
 "metadata": {
  "language_info": {
   "codemirror_mode": {
    "name": "ipython",
    "version": 3
   },
   "file_extension": ".py",
   "mimetype": "text/x-python",
   "name": "python",
   "nbconvert_exporter": "python",
   "pygments_lexer": "ipython3",
   "version": "3.7.7-final"
  },
  "orig_nbformat": 2,
  "kernelspec": {
   "name": "python37764bitbachelorthesisvenv02556f6d95bb441ca9c35a29550b23bd",
   "display_name": "Python 3.7.7 64-bit ('Bachelorthesis': venv)"
  }
 },
 "nbformat": 4,
 "nbformat_minor": 2
}