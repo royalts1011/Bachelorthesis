{
 "metadata": {
  "language_info": {
   "codemirror_mode": {
    "name": "ipython",
    "version": 3
   },
   "file_extension": ".py",
   "mimetype": "text/x-python",
   "name": "python",
   "nbconvert_exporter": "python",
   "pygments_lexer": "ipython3",
   "version": "3.6.8-final"
  },
  "orig_nbformat": 2,
  "kernelspec": {
   "name": "python_defaultSpec_1601384749662",
   "display_name": "Python 3.6.8 64-bit ('ear': venv)"
  }
 },
 "nbformat": 4,
 "nbformat_minor": 2,
 "cells": [
  {
   "cell_type": "code",
   "execution_count": null,
   "metadata": {},
   "outputs": [],
   "source": [
    "from sklearn.decomposition import PCA\n",
    "from sklearn.preprocessing import StandardScaler\n",
    "import pandas as pd\n",
    "from os import listdir\n",
    "from os.path import join\n",
    "import numpy as np\n",
    "import matplotlib.pyplot as plt\n",
    "from mpl_toolkits import mplot3d\n",
    "import matplotlib._color_data as mcd"
   ]
  },
  {
   "cell_type": "code",
   "execution_count": null,
   "metadata": {},
   "outputs": [],
   "source": [
    "emb_dir = './embeddings/radius_2.0'\n",
    "emb_list = listdir(emb_dir)\n",
    "emb_list.sort()"
   ]
  },
  {
   "cell_type": "code",
   "execution_count": null,
   "metadata": {},
   "outputs": [],
   "source": [
    "vectors, labels = [], []\n",
    "for label in emb_list:\n",
    "    loaded = np.load(join(emb_dir,label), allow_pickle=True)\n",
    "\n",
    "    for e in loaded:\n",
    "        vectors.append(e.detach().numpy()[0])\n",
    "        labels.append(label[:-4])\n",
    "\n",
    "x = np.asarray(vectors)"
   ]
  },
  {
   "cell_type": "code",
   "execution_count": null,
   "metadata": {
    "tags": []
   },
   "outputs": [],
   "source": [
    "# Normalize Data\n",
    "x_norm = StandardScaler().fit_transform(x) # normalizing the features\n",
    "\n",
    "print('Untouched:\\t ', np.mean(x),'\\t', np.std(x))\n",
    "print('Normalized:\\t ', np.mean(x_norm),'\\t', np.std(x_norm))\n",
    "x_norm.shape"
   ]
  },
  {
   "cell_type": "code",
   "execution_count": null,
   "metadata": {},
   "outputs": [],
   "source": [
    "\n",
    "pca = PCA(n_components=3)\n",
    "components_ear = pca.fit_transform(x_norm)\n",
    "\n",
    "ear_df = pd.DataFrame(data = components_ear, index = labels, columns = ['Component 1', 'Component 2', 'Component 3'],)\n",
    "\n",
    "\n",
    "ear_df.head()"
   ]
  },
  {
   "cell_type": "code",
   "execution_count": null,
   "metadata": {
    "tags": []
   },
   "outputs": [],
   "source": [
    "print('Explained variation per principal component: {}'.format(pca.explained_variance_ratio_))\n",
    "print('Total variance explained: {}'.format(sum(pca.explained_variance_ratio_)))\n"
   ]
  },
  {
   "cell_type": "code",
   "execution_count": null,
   "metadata": {},
   "outputs": [],
   "source": [
    "# Only for creating colors\n",
    "ear_df['label'] = pd.Categorical(labels)\n",
    "# my_color = ear_df['label'].cat.codes\n",
    "# ear_df = ear_df.drop('persons', 1)"
   ]
  },
  {
   "cell_type": "code",
   "execution_count": null,
   "metadata": {},
   "outputs": [],
   "source": [
    "unique = list(set(labels))\n",
    "unique.sort()\n",
    "\n",
    "pseudonyms = dict()\n",
    "for i, proband in enumerate(unique):\n",
    "    pseudonyms[proband] = \"Proband_\"+str(i+1)\n",
    "\n",
    "cluster_center = dict()\n",
    "for person in unique:\n",
    "    cluster_center[person] = (sum(ear_df.loc[person, 'Component 1'])/80, sum(ear_df.loc[person, 'Component 2'])/80, sum(ear_df.loc[person, 'Component 3'])/80)"
   ]
  },
  {
   "cell_type": "code",
   "execution_count": null,
   "metadata": {
    "tags": []
   },
   "outputs": [],
   "source": [
    "for i in pseudonyms:\n",
    "    print(i, '\\t--\\t', pseudonyms[i])"
   ]
  },
  {
   "cell_type": "code",
   "execution_count": null,
   "metadata": {
    "tags": []
   },
   "outputs": [],
   "source": [
    "## DEFINE X- and Y- AXIS\n",
    "x_component = 1\n",
    "y_component = 2\n",
    "assert x_component >= 1 and x_component <=3 and y_component >= 1 and y_component <=3\n",
    "# Plot preparations\n",
    "fig = plt.figure(figsize = (30,30))\n",
    "ax = fig.add_subplot(1,1,1) \n",
    "ax.set_xlabel('Principal Component ' + str(x_component), fontsize = 15)\n",
    "ax.set_ylabel('Principal Component ' + str(y_component), fontsize = 15)\n",
    "ax.set_title('PCA of ear embeddings - 2 of three dimensions ', fontsize = 20)\n",
    "targets = unique\n",
    "colors = list(mcd.XKCD_COLORS.values())\n",
    "for target, color in zip(targets,colors):\n",
    "    indicesToKeep = ear_df['label'] == target\n",
    "    # ax.scatter(x=cluster_center[target][0], y=cluster_center[target][1], s=5, c='red', marker='*')\n",
    "    ax.scatter(ear_df.loc[indicesToKeep, 'Component ' + str(x_component)]\n",
    "               , ear_df.loc[indicesToKeep, 'Component ' + str(y_component)]\n",
    "               , c = color\n",
    "               , s = 15\n",
    "               , alpha=0.6)\n",
    "\n",
    "# SWITCH annotations and legend respectively if pseudonyms are wanted\n",
    "    ax.annotate(s=pseudonyms[target], xy=(cluster_center[target][x_component-1], cluster_center[target][y_component-1]), textcoords='data' )\n",
    "    # ax.annotate(s=target, xy=(cluster_center[target][x_component-1], cluster_center[target][y_component-1]), textcoords='data' )\n",
    "ax.legend(pseudonyms.values())\n",
    "# ax.legend(targets)\n",
    "\n",
    "ax.grid()"
   ]
  },
  {
   "cell_type": "code",
   "execution_count": null,
   "metadata": {},
   "outputs": [],
   "source": [
    "def sort_dict_by_component(dictionary, component, reverse=False):\n",
    "    '''Function to sort the cluster center dictionary by the component\n",
    "    Arguments\n",
    "    ----------\n",
    "    component: 1, 2 or 3 representing the 3 dimensions\n",
    "    reverse: default is false, returning an ascending order\n",
    "\n",
    "    Returns\n",
    "    ----------\n",
    "    sorted_reduced: a list containing the tuples of (key, component) of specified component\n",
    "    '''\n",
    "\n",
    "    assert component>=1 and component<=3\n",
    "    # change to array space\n",
    "    component -= 1\n",
    "\n",
    "    sorted_values = sorted(dictionary.items(), key=lambda x: x[1][component], reverse=reverse)\n",
    "\n",
    "    sorted_reduced = [(label, values[component]) for (label, values) in sorted_values]\n",
    "    return sorted_reduced"
   ]
  },
  {
   "cell_type": "code",
   "execution_count": null,
   "metadata": {
    "tags": []
   },
   "outputs": [],
   "source": [
    "## Set component 1, 2 or 3\n",
    "c = 1\n",
    "\n",
    "sort_values = sort_dict_by_component(cluster_center, c)\n",
    "print('These are the values of the component ', c, '\\n')\n",
    "for l,v in sort_values:\n",
    "    # SWITCH respectively if pseudonyms are wanted\n",
    "    print('{:>20} : {:<}'.format(pseudonyms[l],v))\n",
    "    # print('{:>20} : {:<}'.format(l,v))\n"
   ]
  },
  {
   "cell_type": "code",
   "execution_count": null,
   "metadata": {
    "tags": []
   },
   "outputs": [],
   "source": [
    "val = [v for _,v in sort_values]\n",
    "steps = []\n",
    "for i in range(len(val)-1):\n",
    "    steps.append(abs(val[i]-val[i+1]))\n",
    "\n",
    "steps.sort()\n",
    "\n",
    "print('Average step size\\t: ', np.mean(steps))\n",
    "print('Median of step size\\t: ', np.median(steps))\n",
    "steps_int = [int(x) for x in steps]\n",
    "print(steps)\n",
    "print(steps_int)"
   ]
  },
  {
   "cell_type": "code",
   "execution_count": null,
   "metadata": {},
   "outputs": [],
   "source": []
  }
 ]
}