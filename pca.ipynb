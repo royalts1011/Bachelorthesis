{
 "metadata": {
  "language_info": {
   "codemirror_mode": {
    "name": "ipython",
    "version": 3
   },
   "file_extension": ".py",
   "mimetype": "text/x-python",
   "name": "python",
   "nbconvert_exporter": "python",
   "pygments_lexer": "ipython3",
   "version": "3.6.8-final"
  },
  "orig_nbformat": 2,
  "kernelspec": {
   "name": "python_defaultSpec_1599299718954",
   "display_name": "Python 3.6.8 64-bit ('ear': venv)"
  }
 },
 "nbformat": 4,
 "nbformat_minor": 2,
 "cells": [
  {
   "cell_type": "code",
   "execution_count": null,
   "metadata": {},
   "outputs": [],
   "source": [
    "from sklearn.decomposition import PCA\n",
    "from sklearn.preprocessing import StandardScaler\n",
    "import pandas as pd\n",
    "from os import listdir\n",
    "from os.path import join\n",
    "import numpy as np\n",
    "import matplotlib.pyplot as plt\n",
    "from mpl_toolkits import mplot3d\n",
    "import matplotlib._color_data as mcd"
   ]
  },
  {
   "cell_type": "code",
   "execution_count": null,
   "metadata": {},
   "outputs": [],
   "source": [
    "emb_dir = './embeddings/radius_2.0'\n",
    "emb_list = listdir(emb_dir)\n",
    "emb_list.sort()"
   ]
  },
  {
   "cell_type": "code",
   "execution_count": null,
   "metadata": {},
   "outputs": [],
   "source": [
    "vectors, labels = [], []\n",
    "for label in emb_list:\n",
    "    loaded = np.load(join(emb_dir,label), allow_pickle=True)\n",
    "\n",
    "    for e in loaded:\n",
    "        vectors.append(e.detach().numpy()[0])\n",
    "        labels.append(label[:-4])\n",
    "\n",
    "x = np.asarray(vectors)"
   ]
  },
  {
   "cell_type": "code",
   "execution_count": null,
   "metadata": {
    "tags": []
   },
   "outputs": [],
   "source": [
    "# Normalize Data\n",
    "x_norm = StandardScaler().fit_transform(x) # normalizing the features\n",
    "\n",
    "print('Untouched:\\t ', np.mean(x),'\\t', np.std(x))\n",
    "print('Normalized:\\t ', np.mean(x_norm),'\\t', np.std(x_norm))"
   ]
  },
  {
   "cell_type": "code",
   "execution_count": null,
   "metadata": {},
   "outputs": [],
   "source": [
    "x_norm.shape"
   ]
  },
  {
   "cell_type": "code",
   "execution_count": null,
   "metadata": {},
   "outputs": [],
   "source": [
    "\n",
    "pca = PCA(n_components=3)\n",
    "components_ear = pca.fit_transform(x_norm)\n",
    "\n",
    "ear_df = pd.DataFrame(data = components_ear, index = labels, columns = ['component 1', 'component 2', 'component 3'],)\n",
    "\n",
    "\n",
    "# print('Covariance: ', pca.get_covariance())"
   ]
  },
  {
   "cell_type": "code",
   "execution_count": null,
   "metadata": {},
   "outputs": [],
   "source": [
    "ear_df.head()"
   ]
  },
  {
   "cell_type": "code",
   "execution_count": null,
   "metadata": {
    "tags": []
   },
   "outputs": [],
   "source": [
    "print('Explained variation per principal component: {}'.format(pca.explained_variance_ratio_))"
   ]
  },
  {
   "cell_type": "code",
   "execution_count": null,
   "metadata": {},
   "outputs": [],
   "source": [
    "# Only for creating colors\n",
    "ear_df['label'] = pd.Categorical(labels)\n",
    "# my_color = ear_df['label'].cat.codes\n",
    "# ear_df = ear_df.drop('persons', 1)"
   ]
  },
  {
   "cell_type": "code",
   "execution_count": null,
   "metadata": {},
   "outputs": [],
   "source": [
    "unique = list(set(labels))\n",
    "unique.sort()"
   ]
  },
  {
   "cell_type": "code",
   "execution_count": null,
   "metadata": {},
   "outputs": [],
   "source": [
    "cluster_center = dict()\n",
    "for person in unique:\n",
    "    cluster_center[person] = (sum(ear_df.loc[person, 'component 1'])/80, sum(ear_df.loc[person, 'component 2'])/80, sum(ear_df.loc[person, 'component 3'])/80)\n",
    "\n"
   ]
  },
  {
   "cell_type": "code",
   "execution_count": null,
   "metadata": {
    "tags": []
   },
   "outputs": [],
   "source": [
    "fig = plt.figure(figsize = (30,30))\n",
    "ax = fig.add_subplot(1,1,1) \n",
    "ax.set_xlabel('Principal Component 1', fontsize = 15)\n",
    "ax.set_ylabel('Principal Component 2', fontsize = 15)\n",
    "ax.set_title('2 component PCA', fontsize = 20)\n",
    "targets = unique\n",
    "colors = list(mcd.XKCD_COLORS.values())\n",
    "for target, color in zip(targets,colors):\n",
    "    indicesToKeep = ear_df['label'] == target\n",
    "    # ax.scatter(x=cluster_center[target][0], y=cluster_center[target][1], s=5, c='red', marker='*')\n",
    "    ax.scatter(ear_df.loc[indicesToKeep, 'component 1']\n",
    "               , ear_df.loc[indicesToKeep, 'component 2']\n",
    "               , c = color\n",
    "               , s = 10)\n",
    "    ax.annotate(s=target, xy=(cluster_center[target][0], cluster_center[target][1]), textcoords='data' )\n",
    "ax.legend(targets)\n",
    "ax.grid()"
   ]
  },
  {
   "cell_type": "code",
   "execution_count": null,
   "metadata": {},
   "outputs": [],
   "source": [
    "cluster_center"
   ]
  }
 ]
}