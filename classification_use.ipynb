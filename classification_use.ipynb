{
 "cells": [
  {
   "cell_type": "code",
   "execution_count": 1,
   "metadata": {},
   "outputs": [],
   "source": [
    "import torch\n",
    "import numpy as np\n",
    "import transforms_data as td\n",
    "from PIL import Image\n",
    "import glob\n",
    "\n",
    "\n",
    "CATEGORIES = [\"Falco\", \"Jesse\", \"Konrad\", \"Nils\", \"Johannes\"]\n",
    "CATEGORIES.sort()\n",
    "AUTHORIZED = [\"Falco\",\"Konrad\"]\n",
    "RESIZE_Y = 150\n",
    "RESIZE_X = 100\n",
    "DATA_TEST_FOLDER = \"../test/*png\"\n",
    "\n",
    "model = torch.load('./class_sample/model.pt')"
   ]
  },
  {
   "cell_type": "code",
   "execution_count": 2,
   "metadata": {},
   "outputs": [],
   "source": [
    "image_array = []\n",
    "files = glob.glob (DATA_TEST_FOLDER)\n",
    "files.sort()\n",
    "# declare function of transformation\n",
    "preprocess = td.transforms_valid_and_test((RESIZE_Y, RESIZE_X),[0.485, 0.456, 0.406], [0.229, 0.224, 0.225])\n",
    "\n",
    "for f in files:\n",
    "    image = Image.open(f)\n",
    "    image_transformed = preprocess(image)\n",
    "    image_transformed = image_transformed.reshape(-1, RESIZE_Y, RESIZE_X, 1)\n",
    "    image_transformed = image_transformed.permute(3, 0, 1, 2)\n",
    "    image_array.append(image_transformed.type('torch.FloatTensor'))\n",
    "    #image_array.append(image_transformed.type('torch.cuda.FloatTensor'))\n"
   ]
  },
  {
   "cell_type": "code",
   "execution_count": 3,
   "metadata": {},
   "outputs": [
    {
     "output_type": "stream",
     "name": "stdout",
     "text": "['0.053112540394067764' '0.049723513424396515' '0.4816586375236511'\n '0.28473031520843506' '0.13077504932880402' '2.0' 'Johannes'] \n\n['0.040945570915937424' '0.03889249265193939' '0.7236711382865906'\n '0.15605700016021729' '0.04043375328183174' '2.0' 'Johannes'] \n\n['0.04938454553484917' '0.039005402475595474' '0.7324987649917603'\n '0.14009550213813782' '0.03901584446430206' '2.0' 'Johannes'] \n\n['0.02913811057806015' '0.03202831372618675' '0.7521273493766785'\n '0.1299075335264206' '0.05679870396852493' '2.0' 'Johannes'] \n\n['0.028008174151182175' '0.022685419768095016' '0.7349361777305603'\n '0.1204887330532074' '0.09388146549463272' '2.0' 'Johannes'] \n\n['0.10866987705230713' '0.10804121196269989' '0.5482330322265625'\n '0.1292331963777542' '0.10582271963357925' '2.0' 'Johannes'] \n\n['0.17764228582382202' '0.116679847240448' '0.3287028968334198'\n '0.24415956437587738' '0.132815420627594' '2.0' 'Johannes'] \n\n['0.15601035952568054' '0.06867317855358124' '0.442903071641922'\n '0.20380377769470215' '0.12860964238643646' '2.0' 'Johannes'] \n\n[2, 2, 2, 2, 2, 2, 2, 2]\n"
    }
   ],
   "source": [
    "all_classes = []\n",
    "for i in image_array:\n",
    "\twith torch.no_grad():\n",
    "\t\tpred = model(i)\n",
    "\t\tpred = torch.softmax(pred, 1)\n",
    "\t\tpred = pred.cpu().numpy()\n",
    "\n",
    "\tclasses = np.argmax(pred, 1)\n",
    "\tall_classes.append(classes[0])\n",
    "\n",
    "\tpred = np.append(pred, classes)\n",
    "\tpred = np.append(pred, CATEGORIES[classes[0]])\t\n",
    "\tprint(pred, \"\\n\")\n",
    "print(all_classes)\n"
   ]
  },
  {
   "cell_type": "code",
   "execution_count": 4,
   "metadata": {},
   "outputs": [
    {
     "output_type": "stream",
     "name": "stdout",
     "text": "{'Johannes': 8}\nAccess denied\n"
    }
   ],
   "source": [
    "# Hier besser die Warscheinlichkeit über alle Bilder ermitteln und darüber prüfen.\n",
    "# Beispiel: Bei 5 Bilder muss die aufsummierte Wahrscheinlichkeit für eine Person >4 sein!!\n",
    "\n",
    "NUMBER_AUTHORIZED = int(.8*len(image_array))\n",
    "authentification_dict = {CATEGORIES[i]:all_classes.count(i) for i in all_classes}\n",
    "print(authentification_dict) \n",
    "\n",
    "for a in authentification_dict:\n",
    "    if a in AUTHORIZED and authentification_dict[a] >= NUMBER_AUTHORIZED:\n",
    "        print(\"Access granted! Welcome \"  + a + \"!\")\n",
    "    else:\n",
    "        print(\"Access denied\")\n",
    "        break\n"
   ]
  },
  {
   "cell_type": "code",
   "execution_count": null,
   "metadata": {},
   "outputs": [],
   "source": []
  }
 ],
 "metadata": {
  "language_info": {
   "codemirror_mode": {
    "name": "ipython",
    "version": 3
   },
   "file_extension": ".py",
   "mimetype": "text/x-python",
   "name": "python",
   "nbconvert_exporter": "python",
   "pygments_lexer": "ipython3",
   "version": "3.7.7-final"
  },
  "orig_nbformat": 2,
  "kernelspec": {
   "name": "python37764bitbachelorthesisvenv02556f6d95bb441ca9c35a29550b23bd",
   "display_name": "Python 3.7.7 64-bit ('Bachelorthesis': venv)"
  }
 },
 "nbformat": 4,
 "nbformat_minor": 2
}