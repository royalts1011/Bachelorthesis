{
 "cells": [
  {
   "cell_type": "code",
   "execution_count": 8,
   "metadata": {},
   "outputs": [],
   "source": [
    "import torch.nn as nn\n",
    "import cv2\n",
    "from torchvision import transforms\n",
    "import torch\n",
    "import torchvision\n",
    "import numpy as np\n",
    "import ds_ear\n",
    "import glob\n",
    "from PIL import Image\n",
    "from matplotlib import image\n",
    "from DLBio import pt_training\n",
    "from os.path import join\n",
    "\n",
    "\n",
    "\n",
    "CATEGORIES = [\"Falco\",\"Konrad\", \"Jesse\", \"Nils\"]\n",
    "AUTHENTIFICATED = [\"Falco\",\"Konrad\"]\n",
    "RESIZE_Y = 150\n",
    "RESIZE_X = 100\n",
    "DATA_TEST_FOLDER = \"../test/*png\"\n",
    "\n",
    "\n",
    "def get_data(folder):\n",
    "    img_array = []\n",
    "    img_array_resized = []\n",
    "    files = glob.glob (folder)\n",
    "    for idx, f in zip(range(len(files)),files):\n",
    "        image = cv2.imread(f)\n",
    "        img_array.append (image)\n",
    "        img_array_resized.append(cv2.resize(img_array[idx],(RESIZE_Y,RESIZE_X)))\n",
    "    return np.asarray(img_array_resized)\n",
    "\n",
    "\n",
    "model = torch.load('./class_sample/model.pt')\n",
    "\n"
   ]
  },
  {
   "cell_type": "code",
   "execution_count": 9,
   "metadata": {},
   "outputs": [],
   "source": [
    "image_array = []\n",
    "files = glob.glob (DATA_TEST_FOLDER)\n",
    "files.sort()\n",
    "for idx, f in zip(range(len(files)),files):\n",
    "    image = Image.open(f)\n",
    "    transform=torchvision.transforms.Compose([\n",
    "        torchvision.transforms.Resize((RESIZE_Y, RESIZE_X)),\n",
    "        torchvision.transforms.Lambda(lambda x: x.convert('RGB')),\n",
    "        torchvision.transforms.ToTensor(),\n",
    "\n",
    "        torchvision.transforms.Normalize(\n",
    "            [0.485, 0.456, 0.406],\n",
    "            [0.229, 0.224, 0.225]\n",
    "        )\n",
    "    ])\n",
    "    image_transformed = transform(image)\n",
    "    image_transformed = image_transformed.reshape(-1, RESIZE_Y, RESIZE_X, 1)\n",
    "    image_transformed = image_transformed.permute(3, 0, 1, 2)\n",
    "    image_array.append(image_transformed.type('torch.cuda.FloatTensor'))\n"
   ]
  },
  {
   "cell_type": "code",
   "execution_count": 10,
   "metadata": {},
   "outputs": [
    {
     "output_type": "stream",
     "name": "stdout",
     "text": "['0.7543401718139648' '0.24565979838371277' '0.0' 'Falco'] \n\n['0.6644101738929749' '0.33558985590934753' '0.0' 'Falco'] \n\n['0.6446036696434021' '0.3553963303565979' '0.0' 'Falco'] \n\n['0.6736924052238464' '0.3263075351715088' '0.0' 'Falco'] \n\n['0.7996309995651245' '0.20036901533603668' '0.0' 'Falco'] \n\n['0.7294602990150452' '0.27053970098495483' '0.0' 'Falco'] \n\n['0.7184112668037415' '0.28158876299858093' '0.0' 'Falco'] \n\n['0.798162043094635' '0.20183798670768738' '0.0' 'Falco'] \n\n['0.07654973119497299' '0.923450231552124' '1.0' 'Konrad'] \n\n['0.11979769170284271' '0.8802022933959961' '1.0' 'Konrad'] \n\n['0.0983697846531868' '0.9016302227973938' '1.0' 'Konrad'] \n\n['0.13855870068073273' '0.8614412546157837' '1.0' 'Konrad'] \n\n['0.22020338475704193' '0.7797966599464417' '1.0' 'Konrad'] \n\n['0.3235251307487488' '0.6764748692512512' '1.0' 'Konrad'] \n\n['0.3524317145347595' '0.6475682258605957' '1.0' 'Konrad'] \n\n[0, 0, 0, 0, 0, 0, 0, 0, 1, 1, 1, 1, 1, 1, 1]\n"
    }
   ],
   "source": [
    "NUMBER_AUTHORIZED = int(.7*len(image_array))\n",
    "\n",
    "all_classes = []\n",
    "\n",
    "for i in image_array:\n",
    "\twith torch.no_grad():\n",
    "\t\tpred = model(i)\n",
    "\t\tpred = torch.softmax(pred, 1)\n",
    "\t\tpred = pred.cpu().numpy()\n",
    "\n",
    "\tclasses = np.argmax(pred, 1)\n",
    "\tall_classes.append(classes[0])\n",
    "\n",
    "\tpred = np.append(pred, classes)\n",
    "\tpred = np.append(pred, CATEGORIES[classes[0]])\t\n",
    "\tprint(pred, \"\\n\")\n",
    "print(all_classes)\n"
   ]
  },
  {
   "cell_type": "code",
   "execution_count": 11,
   "metadata": {},
   "outputs": [
    {
     "output_type": "stream",
     "name": "stdout",
     "text": "{'Falco': 8, 'Konrad': 7}\n"
    }
   ],
   "source": [
    "authentification_dict = {CATEGORIES[i]:all_classes.count(i) for i in all_classes}\n",
    "print(authentification_dict) \n",
    "\n",
    "authentification_dict.get()\n",
    "# if np.max(counts) > NUMBER_AUTHORIZED:\n",
    "# \tprint(\"Welcome to your save room \" + CATEGORIES[np.argmax(counts)] + \"!\")\n",
    "# else: \n",
    "# \tprint(\"Authentification Failed! You got no acces rights!\")"
   ]
  },
  {
   "cell_type": "code",
   "execution_count": null,
   "metadata": {},
   "outputs": [],
   "source": [
    "# TODO: OLD STUFF\n",
    "# NUMBER_AUTHORIZED = int(.7*len(data_tensor))\n",
    "# with torch.no_grad():\n",
    "# \tpred = model(data_tensor)\n",
    "# \tpred = torch.softmax(pred, 1)\n",
    "# \tpred = pred.cpu().numpy()\n",
    "\n",
    "# classes_ = np.argmax(pred, 1)\n",
    "# print(pred)\n",
    "# print(classes_)\n",
    "# counts = np.bincount(classes_)\n",
    "# if np.max(counts) > NUMBER_AUTHORIZED:\n",
    "# \tprint(\"Welcome to your save room \" + CATEGORIES[np.argmax(counts)] + \"!\")\n",
    "# else: \n",
    "# \tprint(\"Authentification Failed! You got no acces rights!\")\n",
    "\n",
    "\n",
    "# data = get_data(DATA_TEST_FOLDER)\n",
    "# data_tensor = torch.from_numpy(data)\n",
    "# data_tensor = data_tensor.permute(0, 3, 1, 2)\n",
    "# data_tensor = data_tensor.type('torch.cuda.FloatTensor')\n",
    "#device = get_device()\n",
    "#print(device)\n",
    "#if device == cpu:\n",
    "#    data_tensor = data_tensor.type('torch.FloatTensor')\n",
    "#else:\n",
    "#    data_tensor = data_tensor.type('torch.cuda.FloatTensor')\n",
    "\n",
    "\n",
    "# \tprint(\"Authentification Failed! You got no acces rights!\")"
   ]
  },
  {
   "cell_type": "code",
   "execution_count": null,
   "metadata": {},
   "outputs": [],
   "source": []
  }
 ],
 "metadata": {
  "language_info": {
   "codemirror_mode": {
    "name": "ipython",
    "version": 3
   },
   "file_extension": ".py",
   "mimetype": "text/x-python",
   "name": "python",
   "nbconvert_exporter": "python",
   "pygments_lexer": "ipython3",
   "version": "3.7.7-final"
  },
  "orig_nbformat": 2,
  "kernelspec": {
   "name": "python37764bitbachelorthesisvenvfe65d2ae6af74790a8c3d2ed63037c92",
   "display_name": "Python 3.7.7 64-bit ('Bachelorthesis': venv)"
  }
 },
 "nbformat": 4,
 "nbformat_minor": 2
}