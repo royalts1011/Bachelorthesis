{
 "cells": [
  {
   "cell_type": "code",
   "execution_count": 17,
   "metadata": {},
   "outputs": [],
   "source": [
    "import torch.nn as nn\n",
    "import cv2\n",
    "from torchvision import transforms\n",
    "import torch\n",
    "import torchvision\n",
    "import numpy as np\n",
    "import ds_ear\n",
    "import glob\n",
    "from PIL import Image\n",
    "from matplotlib import image\n",
    "from DLBio import pt_training\n",
    "from os.path import join\n",
    "\n",
    "\n",
    "CATEGORIES = [\"Falco\", \"Jesse\", \"Konrad\", \"Nils\"]\n",
    "AUTHORIZED = [\"Falco\",\"Konrad\"]\n",
    "RESIZE_Y = 150\n",
    "RESIZE_X = 100\n",
    "DATA_TEST_FOLDER = \"../test/*jpg\"\n",
    "\n",
    "\n",
    "def get_data(folder):\n",
    "    img_array = []\n",
    "    img_array_resized = []\n",
    "    files = glob.glob (folder)\n",
    "    for idx, f in zip(range(len(files)),files):\n",
    "        image = cv2.imread(f)\n",
    "        img_array.append (image)\n",
    "        img_array_resized.append(cv2.resize(img_array[idx],(RESIZE_Y,RESIZE_X)))\n",
    "    return np.asarray(img_array_resized)\n",
    "\n",
    "\n",
    "model = torch.load('./class_sample/model.pt')\n",
    "\n"
   ]
  },
  {
   "cell_type": "code",
   "execution_count": 18,
   "metadata": {},
   "outputs": [],
   "source": [
    "image_array = []\n",
    "files = glob.glob (DATA_TEST_FOLDER)\n",
    "files.sort()\n",
    "for idx, f in zip(range(len(files)),files):\n",
    "    image = Image.open(f)\n",
    "    transform=torchvision.transforms.Compose([\n",
    "        torchvision.transforms.Resize((RESIZE_Y, RESIZE_X)),\n",
    "        torchvision.transforms.Lambda(lambda x: x.convert('RGB')),\n",
    "        torchvision.transforms.ToTensor(),\n",
    "\n",
    "        torchvision.transforms.Normalize(\n",
    "            [0.485, 0.456, 0.406],\n",
    "            [0.229, 0.224, 0.225]\n",
    "        )\n",
    "    ])\n",
    "    image_transformed = transform(image)\n",
    "    image_transformed = image_transformed.reshape(-1, RESIZE_Y, RESIZE_X, 1)\n",
    "    image_transformed = image_transformed.permute(3, 0, 1, 2)\n",
    "    image_array.append(image_transformed.type('torch.cuda.FloatTensor'))\n"
   ]
  },
  {
   "cell_type": "code",
   "execution_count": 19,
   "metadata": {},
   "outputs": [
    {
     "output_type": "stream",
     "name": "stdout",
     "text": "['0.9667887091636658' '0.0005871779285371304' '0.02024783194065094'\n '0.012376310303807259' '0.0' 'Falco'] \n\n['0.9290536046028137' '0.003952649887651205' '0.02345476858317852'\n '0.04353899508714676' '0.0' 'Falco'] \n\n['0.9492008686065674' '0.02982499450445175' '0.011885423213243484'\n '0.009088710881769657' '0.0' 'Falco'] \n\n['0.9383549690246582' '0.0022658249363303185' '0.03458288311958313'\n '0.024796441197395325' '0.0' 'Falco'] \n\n['0.8705261945724487' '0.09643664956092834' '0.029231686145067215'\n '0.0038054778706282377' '0.0' 'Falco'] \n\n['0.27524513006210327' '0.20828931033611298' '0.48518282175064087'\n '0.03128273785114288' '2.0' 'Konrad'] \n\n['0.7961697578430176' '0.17696717381477356' '0.01918684132397175'\n '0.007676254026591778' '0.0' 'Falco'] \n\n['0.8900232315063477' '0.042689815163612366' '0.049403268843889236'\n '0.017883557826280594' '0.0' 'Falco'] \n\n['0.0021648008842021227' '0.017974229529500008' '0.9748411774635315'\n '0.005019825417548418' '2.0' 'Konrad'] \n\n['0.0019261729903519154' '0.0661718025803566' '0.9195771217346191'\n '0.012324902229011059' '2.0' 'Konrad'] \n\n[0, 0, 0, 0, 0, 2, 0, 0, 2, 2]\n"
    }
   ],
   "source": [
    "all_classes = []\n",
    "for i in image_array:\n",
    "\twith torch.no_grad():\n",
    "\t\tpred = model(i)\n",
    "\t\tpred = torch.softmax(pred, 1)\n",
    "\t\tpred = pred.cpu().numpy()\n",
    "\n",
    "\tclasses = np.argmax(pred, 1)\n",
    "\tall_classes.append(classes[0])\n",
    "\n",
    "\tpred = np.append(pred, classes)\n",
    "\tpred = np.append(pred, CATEGORIES[classes[0]])\t\n",
    "\tprint(pred, \"\\n\")\n",
    "print(all_classes)\n"
   ]
  },
  {
   "cell_type": "code",
   "execution_count": 20,
   "metadata": {},
   "outputs": [
    {
     "output_type": "stream",
     "name": "stdout",
     "text": "{'Falco': 7, 'Konrad': 3}\nAcces denied\n"
    }
   ],
   "source": [
    "NUMBER_AUTHORIZED = int(.8*len(image_array))\n",
    "authentification_dict = {CATEGORIES[i]:all_classes.count(i) for i in all_classes}\n",
    "print(authentification_dict) \n",
    "\n",
    "for a in authentification_dict:\n",
    "    if a in AUTHORIZED and authentification_dict[a] >= NUMBER_AUTHORIZED:\n",
    "        print(\"Acces granted! Welcome \"  + a + \"!\")\n",
    "    else:\n",
    "        print(\"Acces denied\")\n",
    "        break\n"
   ]
  },
  {
   "cell_type": "code",
   "execution_count": null,
   "metadata": {},
   "outputs": [],
   "source": []
  }
 ],
 "metadata": {
  "language_info": {
   "codemirror_mode": {
    "name": "ipython",
    "version": 3
   },
   "file_extension": ".py",
   "mimetype": "text/x-python",
   "name": "python",
   "nbconvert_exporter": "python",
   "pygments_lexer": "ipython3",
   "version": "3.7.7-final"
  },
  "orig_nbformat": 2,
  "kernelspec": {
   "name": "python37764bitearrecvenva72b417339b94420bd54db0855211b81",
   "display_name": "Python 3.7.7 64-bit ('earRec': venv)"
  }
 },
 "nbformat": 4,
 "nbformat_minor": 2
}