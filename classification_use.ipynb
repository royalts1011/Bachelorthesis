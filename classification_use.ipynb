{
 "cells": [
  {
   "cell_type": "code",
   "execution_count": 1,
   "metadata": {},
   "outputs": [],
   "source": [
    "import torch\n",
    "import numpy as np\n",
    "import transforms_data as td\n",
    "from PIL import Image\n",
    "import glob\n",
    "from torch import cuda\n",
    "\n",
    "\n",
    "CATEGORIES = [\"Falco\", \"Jesse\", \"Konrad\", \"Nils\", \"Johannes\"]\n",
    "CATEGORIES.sort()\n",
    "AUTHORIZED = [\"Falco\",\"Konrad\"]\n",
    "RESIZE_Y = 150\n",
    "RESIZE_X = 100\n",
    "DATA_TEST_FOLDER = \"../test/*png\"\n",
    "\n",
    "model = torch.load('./class_sample/model.pt')"
   ]
  },
  {
   "cell_type": "code",
   "execution_count": 2,
   "metadata": {},
   "outputs": [],
   "source": [
    "image_array = []\n",
    "files = glob.glob (DATA_TEST_FOLDER)\n",
    "files.sort()\n",
    "# declare function of transformation\n",
    "preprocess = td.transforms_valid_and_test((RESIZE_Y, RESIZE_X),[0.485, 0.456, 0.406], [0.229, 0.224, 0.225])\n",
    "\n",
    "for f in files:\n",
    "    image = Image.open(f)\n",
    "    image_transformed = preprocess(image)\n",
    "    image_transformed = image_transformed.reshape(-1, RESIZE_Y, RESIZE_X, 1)\n",
    "    image_transformed = image_transformed.permute(3, 0, 1, 2)\n",
    "    if cuda.is_available():\n",
    "        image_array.append(image_transformed.type('torch.cuda.FloatTensor'))\n",
    "    else:\n",
    "        image_array.append(image_transformed.type('torch.FloatTensor'))"
   ]
  },
  {
   "cell_type": "code",
   "execution_count": 3,
   "metadata": {},
   "outputs": [
    {
     "output_type": "stream",
     "name": "stdout",
     "text": "['0.19533786177635193' '0.04059185832738876' '0.5637624263763428'\n '0.02813841961324215' '0.17216938734054565' '2.0' 'Johannes'] \n\n['0.789467990398407' '0.031321123242378235' '0.035172224044799805'\n '0.038966841995716095' '0.10507182776927948' '0.0' 'Falco'] \n\n['0.6517340540885925' '0.04698029160499573' '0.06975772231817245'\n '0.07839997857809067' '0.15312793850898743' '0.0' 'Falco'] \n\n['0.7030173540115356' '0.25509652495384216' '0.0046354029327631'\n '0.010346267372369766' '0.02690448798239231' '0.0' 'Falco'] \n\n['0.8828981518745422' '0.02076706290245056' '0.008723532781004906'\n '0.04275737330317497' '0.04485388845205307' '0.0' 'Falco'] \n\n['0.9697948098182678' '0.021453814581036568' '0.00019798381254076958'\n '0.0008644312620162964' '0.0076888869516551495' '0.0' 'Falco'] \n\n['0.8816684484481812' '0.07324919104576111' '0.0010174292838200927'\n '0.003983926959335804' '0.040081024169921875' '0.0' 'Falco'] \n\n['0.8315247297286987' '0.04502866417169571' '0.0008458319352939725'\n '0.00120946962852031' '0.12139128148555756' '0.0' 'Falco'] \n\n['0.8306043148040771' '0.07410381734371185' '0.0014230861561372876'\n '0.013272075913846493' '0.08059678226709366' '0.0' 'Falco'] \n\n[2, 0, 0, 0, 0, 0, 0, 0, 0]\n[[6.74386022 0.61640485 0.69334814 0.22575129 0.75969801]]\n"
    }
   ],
   "source": [
    "all_classes = []\n",
    "summ_pred = np.empty(1)\n",
    "for i in image_array:\n",
    "\twith torch.no_grad():\n",
    "\t\tpred = model(i)\n",
    "\t\tpred = torch.softmax(pred, 1)\n",
    "\t\tpred = pred.cpu().numpy()\n",
    "\t\tsumm_pred = summ_pred + pred\n",
    "\n",
    "\tclasses = np.argmax(pred, 1)\n",
    "\tall_classes.append(classes[0])\n",
    "\n",
    "\tpred = np.append(pred, classes)\n",
    "\tpred = np.append(pred, CATEGORIES[classes[0]])\t\n",
    "\tprint(pred, \"\\n\")\n",
    "print(all_classes)\n",
    "print(summ_pred)\n"
   ]
  },
  {
   "cell_type": "code",
   "execution_count": 4,
   "metadata": {},
   "outputs": [
    {
     "output_type": "stream",
     "name": "stdout",
     "text": "{'Johannes': 1, 'Falco': 8}\nAccess denied\n"
    }
   ],
   "source": [
    "# Hier besser die Warscheinlichkeit über alle Bilder ermitteln und darüber prüfen.\n",
    "# Beispiel: Bei 5 Bilder muss die aufsummierte Wahrscheinlichkeit für eine Person >4 sein!!\n",
    "\n",
    "NUMBER_AUTHORIZED = int(.8*len(image_array))\n",
    "authentification_dict = {CATEGORIES[i]:all_classes.count(i) for i in all_classes}\n",
    "print(authentification_dict) \n",
    "\n",
    "for a in authentification_dict:\n",
    "    if a in AUTHORIZED and authentification_dict[a] >= NUMBER_AUTHORIZED:\n",
    "        print(\"Access granted! Welcome \"  + a + \"!\")\n",
    "    else:\n",
    "        print(\"Access denied\")\n",
    "        break\n"
   ]
  },
  {
   "cell_type": "code",
   "execution_count": null,
   "metadata": {},
   "outputs": [],
   "source": [
    "PERCENTAGE_AUTHORIZED = 8\n",
    "authentification_dict = {CATEGORIES[i]:all_classes.count(i) for i in all_classes}\n",
    "print(authentification_dict) \n",
    "\n",
    "for a in authentification_dict:\n",
    "\n",
    "    \n",
    "\n",
    "\n",
    "\n",
    "\n",
    "    \n"
   ]
  }
 ],
 "metadata": {
  "language_info": {
   "codemirror_mode": {
    "name": "ipython",
    "version": 3
   },
   "file_extension": ".py",
   "mimetype": "text/x-python",
   "name": "python",
   "nbconvert_exporter": "python",
   "pygments_lexer": "ipython3",
   "version": "3.7.7-final"
  },
  "orig_nbformat": 2,
  "kernelspec": {
   "name": "python37764bitbachelorthesisvenv02556f6d95bb441ca9c35a29550b23bd",
   "display_name": "Python 3.7.7 64-bit ('Bachelorthesis': venv)"
  }
 },
 "nbformat": 4,
 "nbformat_minor": 2
}