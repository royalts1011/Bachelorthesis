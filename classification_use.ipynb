{
 "cells": [
  {
   "cell_type": "code",
   "execution_count": 1,
   "metadata": {},
   "outputs": [],
   "source": [
    "import torch.nn as nn\n",
    "import cv2\n",
    "from torchvision import transforms\n",
    "import torch\n",
    "import torchvision\n",
    "import numpy as np\n",
    "\n",
    "CATEGORIES = [\"Konrad\", \"Falco\"]\n",
    "RESIZE_M = 150\n",
    "RESIZE_N = 100\n",
    "\n",
    "\n",
    "\n",
    "def get_data(file):\n",
    "    img_array = cv2.imread(file, cv2.IMREAD_COLOR)\n",
    "    img_array_resized = cv2.resize(img_array,(RESIZE_M,RESIZE_N))\n",
    "    return img_array_resized.reshape(-1, RESIZE_M, RESIZE_N, 1)\n",
    "\n",
    "model = torch.load('/nfshome/lentzsch/Documents/Bachelorarbeit/Bachelorthesis/class_sample/model.pt')\n",
    "\n"
   ]
  },
  {
   "cell_type": "code",
   "execution_count": null,
   "metadata": {},
   "outputs": [],
   "source": [
    "data = get_data('/nfshome/vkuegelgen/Documents/Bachelorarbeit/test/64_05.jpg')\n",
    "data_tensor = torch.from_numpy(data)\n",
    "data_tensor = data_tensor.permute(3, 0, 1, 2)\n",
    "data_tensor = data_tensor.type('torch.cuda.FloatTensor')\n",
    "\n",
    "\n"
   ]
  },
  {
   "cell_type": "code",
   "execution_count": null,
   "metadata": {},
   "outputs": [],
   "source": [
    "with torch.no_grad():\n",
    "\tpred = model(data_tensor)\n",
    "\tpred = torch.softmax(pred, 1)\n",
    "\tpred = pred.cpu().numpy()\n",
    "\n",
    "classes_ = np.argmax(pred, 1)\n",
    "print(pred)\n",
    "print(classes_)"
   ]
  },
  {
   "cell_type": "code",
   "execution_count": null,
   "metadata": {},
   "outputs": [],
   "source": []
  }
 ],
 "metadata": {
  "language_info": {
   "codemirror_mode": {
    "name": "ipython",
    "version": 3
   },
   "file_extension": ".py",
   "mimetype": "text/x-python",
   "name": "python",
   "nbconvert_exporter": "python",
   "pygments_lexer": "ipython3",
   "version": "3.7.7-final"
  },
  "orig_nbformat": 2,
  "kernelspec": {
   "name": "python37764bitearrecvenva72b417339b94420bd54db0855211b81",
   "display_name": "Python 3.7.7 64-bit ('earRec': venv)"
  }
 },
 "nbformat": 4,
 "nbformat_minor": 2
}