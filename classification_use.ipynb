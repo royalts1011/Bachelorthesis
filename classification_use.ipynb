{
 "cells": [
  {
   "cell_type": "code",
   "execution_count": 3,
   "metadata": {},
   "outputs": [],
   "source": [
    "import torch.nn as nn\n",
    "import cv2\n",
    "from torchvision import transforms\n",
    "import torch\n",
    "import torchvision\n",
    "import numpy as np\n",
    "import ds_ear\n",
    "import glob\n",
    "from PIL import Image\n",
    "from matplotlib import image\n",
    "from matplotlib import pyplot\n",
    "\n",
    "CATEGORIES = [\"Konrad\", \"Falco\"]\n",
    "RESIZE_Y = 150\n",
    "RESIZE_X = 100\n",
    "DATA_TEST_FOLDER = \"../test/*png\"\n",
    "\n",
    "\n",
    "def get_data(folder):\n",
    "    img_array = []\n",
    "    img_array_resized = []\n",
    "    files = glob.glob (folder)\n",
    "    for idx, f in zip(range(len(files)),files):\n",
    "        image = cv2.imread(f)\n",
    "        img_array.append (image)\n",
    "        img_array_resized.append(cv2.resize(img_array[idx],(RESIZE_Y,RESIZE_X)))\n",
    "    return np.asarray(img_array_resized)\n",
    "\n",
    "\n",
    "model = torch.load('./class_sample/model.pt')\n",
    "\n"
   ]
  },
  {
   "cell_type": "code",
   "execution_count": 7,
   "metadata": {},
   "outputs": [],
   "source": [
    "data = get_data(DATA_TEST_FOLDER)\n",
    "data_tensor = torch.from_numpy(data)\n",
    "data_tensor = data_tensor.permute(0, 3, 1, 2)\n",
    "if get_devide() == 'cpu':\n",
    "    data_tensor = data_tensor.type('torch.FloatTensor')\n",
    "else:\n",
    "    data_tensor = data_tensor.type('torch.cuda.FloatTensor')\n"
   ]
  },
  {
   "cell_type": "code",
   "execution_count": 8,
   "metadata": {},
   "outputs": [
    {
     "output_type": "stream",
     "name": "stdout",
     "text": "[[1.1676162e-04 2.2581856e-04 5.5376968e-05 ... 2.3213437e-05\n  4.6539740e-04 2.2324240e-04]\n [1.9089397e-03 8.4995141e-04 3.2910591e-03 ... 3.4838170e-04\n  4.7138617e-03 8.0978433e-03]\n [2.3707566e-03 5.3619174e-04 9.6994609e-04 ... 1.1815072e-04\n  1.3865153e-03 3.5390852e-03]\n ...\n [2.8774858e-04 2.4712755e-04 9.3374954e-05 ... 4.5862533e-05\n  6.5038283e-04 5.6786888e-04]\n [2.2746357e-03 3.9359811e-04 7.9304841e-04 ... 2.4490370e-04\n  2.7393422e-03 4.6773031e-03]\n [3.1858210e-03 9.6882385e-04 1.2686818e-03 ... 4.9018534e-04\n  3.2439390e-03 1.0540009e-02]]\n[ 5 96 25  5  5 96 96  5 26 96  5 96  5  5 26  5]\nAuthentification Failed! You got no acces rights!\n"
    }
   ],
   "source": [
    "NUMBER_AUTHORIZED = int(.7*len(data_tensor))\n",
    "#NUMBER_AUTHORIZED = 7\n",
    "with torch.no_grad():\n",
    "\tpred = model(data_tensor)\n",
    "\tpred = torch.softmax(pred, 1)\n",
    "\tpred = pred.cpu().numpy()\n",
    "\n",
    "classes_ = np.argmax(pred, 1)\n",
    "print(pred)\n",
    "print(classes_)\n",
    "counts = np.bincount(classes_)\n",
    "if np.max(counts) > NUMBER_AUTHORIZED:\n",
    "\tprint(\"Welcome to your save room \" + CATEGORIES[np.argmax(counts)] + \"!\")\n",
    "else: \n",
    "\tprint(\"Authentification Failed! You got no acces rights!\")"
   ]
  },
  {
   "cell_type": "code",
   "execution_count": null,
   "metadata": {},
   "outputs": [],
   "source": [
    "# TODO: Hier muss ein ganzes Array an Bilder geladen werden!!!   \n",
    "\n",
    "image = Image.open(\"../test/konrad080.png\")\n",
    "\n",
    "transform=torchvision.transforms.Compose([\n",
    "    torchvision.transforms.Resize((RESIZE_Y, RESIZE_X)),\n",
    "    torchvision.transforms.Lambda(lambda x: x.convert('RGB')),\n",
    "    torchvision.transforms.ToTensor(),\n",
    "\n",
    "    torchvision.transforms.Normalize(\n",
    "        [0.49139968, 0.48215841, 0.44653091],\n",
    "        [0.24703223, 0.24348513, 0.26158784]\n",
    "    )\n",
    "\n",
    "])\n",
    "image_transformed = transform(image)\n",
    "image_transformed = image_transformed.reshape(-1, RESIZE_Y, RESIZE_X, 1)\n",
    "image_transformed = image_transformed.permute(3, 0, 1, 2)\n",
    "image_transformed = image_transformed.type('torch.cuda.FloatTensor')\n"
   ]
  },
  {
   "cell_type": "code",
   "execution_count": null,
   "metadata": {},
   "outputs": [],
   "source": []
  }
 ],
 "metadata": {
  "language_info": {
   "codemirror_mode": {
    "name": "ipython",
    "version": 3
   },
   "file_extension": ".py",
   "mimetype": "text/x-python",
   "name": "python",
   "nbconvert_exporter": "python",
   "pygments_lexer": "ipython3",
   "version": "3.7.7-final"
  },
  "orig_nbformat": 2,
  "kernelspec": {
   "name": "python37764bitbachelorthesisvenv02556f6d95bb441ca9c35a29550b23bd",
   "display_name": "Python 3.7.7 64-bit ('Bachelorthesis': venv)"
  }
 },
 "nbformat": 4,
 "nbformat_minor": 2
}