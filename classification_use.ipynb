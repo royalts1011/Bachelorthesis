{
 "cells": [
  {
   "cell_type": "code",
   "execution_count": 1,
   "metadata": {
    "tags": []
   },
   "outputs": [],
   "source": [
    "import sys\n",
    "sys.path.append('../..')\n",
    "import numpy as np\n",
    "from PIL import Image\n",
    "import glob\n",
    "import os\n",
    "import shutil\n",
    "\n",
    "# Pytorch\n",
    "import torch\n",
    "from torch import cuda\n",
    "\n",
    "# DLBio and own scripts\n",
    "import transforms_data as td\n",
    "import ds_ear\n",
    "import helpers\n",
    "import acquire_ear_dataset as a\n",
    "from DLBio.pytorch_helpers import get_device\n",
    "\n",
    "\n",
    "class Config():\n",
    "    DATASET_DIR = '../dataset_low_res/'\n",
    "    CATEGORIES = ds_ear.get_dataset(DATASET_DIR, transform_mode='size_only').classes\n",
    "    # CATEGORIES = [\"mila_wol\", \"falco_len\", \"jesse_kru\", \"konrad_von\", \"nils_loo\", \"johannes_boe\", \"johannes_wie\", \"sarah_feh\", \"janna_qua\", \"tim_moe\"]\n",
    "    CATEGORIES.sort()\n",
    "    AUTHORIZED = [\"falco_len\",\"konrad_von\"]\n",
    "    DATA_TEST_DIR = \"../auth_dataset/unknown-auth/*png\"\n",
    "    RESIZE_SMALL = True\n",
    "    DEVICE = get_device()\n",
    "\n",
    "model = torch.load('./class_sample/model.pt', Config.DEVICE)"
   ]
  },
  {
   "cell_type": "code",
   "execution_count": null,
   "metadata": {},
   "outputs": [],
   "source": [
    "# Bilder aufnehmen\n",
    "a.capture_ear_images(amount_pic=10, pic_per_stage=10, is_authentification=True)"
   ]
  },
  {
   "cell_type": "code",
   "execution_count": 2,
   "metadata": {},
   "outputs": [],
   "source": [
    "image_array = []\n",
    "files = glob.glob(Config.DATA_TEST_DIR)\n",
    "files.sort()\n",
    "# declare function of transformation\n",
    "preprocess = td.transforms_valid_and_test( td.get_resize(small=Config.RESIZE_SMALL) )\n",
    "\n",
    "for f in files:\n",
    "    image = Image.open(f)\n",
    "    image_transformed = preprocess(image)\n",
    "    image_transformed = image_transformed.reshape(\n",
    "                            -1,\n",
    "                            td.get_resize(small=Config.RESIZE_SMALL)[0],\n",
    "                            td.get_resize(small=Config.RESIZE_SMALL)[1],\n",
    "                            1\n",
    "                            )\n",
    "    image_transformed = image_transformed.permute(3, 0, 1, 2)\n",
    "\n",
    "    image_array.append( helpers.type_conversion(image_transformed) )\n"
   ]
  },
  {
   "cell_type": "code",
   "execution_count": 6,
   "metadata": {
    "tags": []
   },
   "outputs": [
    {
     "output_type": "stream",
     "name": "stdout",
     "text": "\nClass predictions:\nName                 Value     \nfalco_len            0.020755566656589508\njanna_qua            0.007212936878204346\njesse_kru            0.03906998783349991\njohannes_boe         0.2258157879114151\njohannes_wie         0.014458440244197845\nkonrad_von           0.3075821101665497\nmila_wol             0.007281373720616102\nnils_loo             0.27707332372665405\nsarah_feh            0.007775313686579466\ntim_moe              0.09297513216733932\nHighest value:  konrad_von \n\nName                 Value     \nfalco_len            0.07254953682422638\njanna_qua            0.019022608175873756\njesse_kru            0.07832387834787369\njohannes_boe         0.359684556722641\njohannes_wie         0.03551799803972244\nkonrad_von           0.11246269941329956\nmila_wol             0.057630520313978195\nnils_loo             0.09577517211437225\nsarah_feh            0.018090231344103813\ntim_moe              0.1509428769350052\nHighest value:  johannes_boe \n\nName                 Value     \nfalco_len            0.06502678245306015\njanna_qua            0.035854607820510864\njesse_kru            0.051728423684835434\njohannes_boe         0.3203273415565491\njohannes_wie         0.0483669675886631\nkonrad_von           0.11217061430215836\nmila_wol             0.11272428929805756\nnils_loo             0.07931296527385712\nsarah_feh            0.032672930508852005\ntim_moe              0.14181505143642426\nHighest value:  johannes_boe \n\nName                 Value     \nfalco_len            0.3185451924800873\njanna_qua            0.050229113548994064\njesse_kru            0.014617012813687325\njohannes_boe         0.1881079226732254\njohannes_wie         0.19797614216804504\nkonrad_von           0.08165664970874786\nmila_wol             0.011329632252454758\nnils_loo             0.024325581267476082\nsarah_feh            0.08650406450033188\ntim_moe              0.026708681136369705\nHighest value:  falco_len \n\nName                 Value     \nfalco_len            0.09592916071414948\njanna_qua            0.07914505153894424\njesse_kru            0.005523353815078735\njohannes_boe         0.2144046127796173\njohannes_wie         0.3249346613883972\nkonrad_von           0.07787875086069107\nmila_wol             0.03513765707612038\nnils_loo             0.019653530791401863\nsarah_feh            0.050657130777835846\ntim_moe              0.09673604369163513\nHighest value:  johannes_wie \n\nName                 Value     \nfalco_len            0.09743513911962509\njanna_qua            0.012528777122497559\njesse_kru            0.05613042041659355\njohannes_boe         0.29619649052619934\njohannes_wie         0.04532546177506447\nkonrad_von           0.2624306380748749\nmila_wol             0.030587924644351006\nnils_loo             0.10804835706949234\nsarah_feh            0.008954835124313831\ntim_moe              0.08236191421747208\nHighest value:  johannes_boe \n\nName                 Value     \nfalco_len            0.08227529376745224\njanna_qua            0.010449719615280628\njesse_kru            0.04267139360308647\njohannes_boe         0.26209965348243713\njohannes_wie         0.0793546512722969\nkonrad_von           0.2707580029964447\nmila_wol             0.031717121601104736\nnils_loo             0.10097236931324005\nsarah_feh            0.006415987387299538\ntim_moe              0.11328572034835815\nHighest value:  konrad_von \n\nName                 Value     \nfalco_len            0.07370930910110474\njanna_qua            0.03077353909611702\njesse_kru            0.009886253625154495\njohannes_boe         0.23994112014770508\njohannes_wie         0.2570808529853821\nkonrad_von           0.3054015338420868\nmila_wol             0.006728461477905512\nnils_loo             0.033869419246912\nsarah_feh            0.02037839964032173\ntim_moe              0.022231141105294228\nHighest value:  konrad_von \n\nName                 Value     \nfalco_len            0.17392021417617798\njanna_qua            0.023199904710054398\njesse_kru            0.005565854720771313\njohannes_boe         0.12177755683660507\njohannes_wie         0.4909704923629761\nkonrad_von           0.10006748884916306\nmila_wol             0.00952347181737423\nnils_loo             0.013988678343594074\nsarah_feh            0.02011464536190033\ntim_moe              0.04087170958518982\nHighest value:  johannes_wie \n\nName                 Value     \nfalco_len            0.14755867421627045\njanna_qua            0.01680571958422661\njesse_kru            0.006259792018681765\njohannes_boe         0.13972218334674835\njohannes_wie         0.528233528137207\nkonrad_von           0.09099605679512024\nmila_wol             0.005864535458385944\nnils_loo             0.011267494410276413\nsarah_feh            0.019316043704748154\ntim_moe              0.03397608548402786\nHighest value:  johannes_wie \n\n\n\n ########################################\nAccumulated predictions:\nName                 Value     \nkonrad_von           1.1477048695087433\njohannes_boe         0.2852219780907035\njohannes_boe         0.3097763708792627\nfalco_len            2.368077225983143\njohannes_wie         2.022219195961952\njohannes_boe         1.7214045450091362\nkonrad_von           0.3085249876603484\nkonrad_von           0.7642868915572762\njohannes_wie         0.2708795820362866\njohannes_wie         0.8019043561071157\n"
    }
   ],
   "source": [
    "all_classes = []\n",
    "summ_pred = np.zeros(1)\n",
    "print('\\nClass predictions:')\n",
    "for i in image_array:\n",
    "    with torch.no_grad():\n",
    "        pred = model(i)\n",
    "        pred = torch.softmax(pred, 1)\n",
    "        pred = pred.cpu().numpy()\n",
    "        summ_pred = summ_pred + pred\n",
    "    # Print probability of class\n",
    "    helpers.print_predictions(Config.CATEGORIES,pred[0])\n",
    "    class_ = np.argmax(pred, 1)\n",
    "    all_classes.append(class_[0])\n",
    "\n",
    "    print('Highest value: ', Config.CATEGORIES[class_[0]], '\\n')\n",
    "    # pred = np.append(pred, class_)\n",
    "    # pred = np.append(pred, Config.CATEGORIES[class_[0]])\t\n",
    "\t# print(pred)\n",
    "\n",
    "print('\\n'*2, '#'*40)\n",
    "print('Accumulated predictions:')\n",
    "helpers.print_predictions(\n",
    "        [Config.CATEGORIES[c] for c in all_classes],\n",
    "        list(summ_pred[0])\n",
    "        )\n",
    "# print(all_classes)\n",
    "# print(summ_pred)"
   ]
  },
  {
   "cell_type": "code",
   "execution_count": 7,
   "metadata": {
    "tags": []
   },
   "outputs": [
    {
     "output_type": "stream",
     "name": "stdout",
     "text": "\nFrequency of prediction:\nkonrad_von           3   \njohannes_boe         3   \nfalco_len            1   \njohannes_wie         3   \n\n\t~~~ Access denied ~~~\n"
    }
   ],
   "source": [
    "num_authorized = int(.3*len(image_array))\n",
    "authentification_dict = {Config.CATEGORIES[i]:all_classes.count(i) for i in all_classes}\n",
    "print('\\nFrequency of prediction:')\n",
    "fmt = '{:<20} {:<4}'\n",
    "for key, value in authentification_dict.items():\n",
    "    print(fmt.format(key, value))\n",
    "\n",
    "for a in authentification_dict:\n",
    "    if a in Config.AUTHORIZED and summ_pred[0][Config.CATEGORIES.index(a)]>= num_authorized:\n",
    "        print(\"\\n\\t~~~ Access granted! Welcome \"  + a + \"! ~~~\")\n",
    "        break\n",
    "    else:\n",
    "        print(\"\\n\\t~~~ Access denied ~~~\")\n",
    "        break\n"
   ]
  },
  {
   "cell_type": "code",
   "execution_count": null,
   "metadata": {},
   "outputs": [],
   "source": [
    "shutil.rmtree('../auth_dataset/unknown-auth')"
   ]
  },
  {
   "cell_type": "code",
   "execution_count": null,
   "metadata": {},
   "outputs": [],
   "source": []
  }
 ],
 "metadata": {
  "language_info": {
   "codemirror_mode": {
    "name": "ipython",
    "version": 3
   },
   "file_extension": ".py",
   "mimetype": "text/x-python",
   "name": "python",
   "nbconvert_exporter": "python",
   "pygments_lexer": "ipython3",
   "version": "3.7.7-final"
  },
  "orig_nbformat": 2,
  "kernelspec": {
   "name": "python37764bitbachelorthesisvenv2dac4a23d3734769a463ced8ddada848",
   "display_name": "Python 3.7.7 64-bit ('Bachelorthesis': venv)"
  }
 },
 "nbformat": 4,
 "nbformat_minor": 2
}