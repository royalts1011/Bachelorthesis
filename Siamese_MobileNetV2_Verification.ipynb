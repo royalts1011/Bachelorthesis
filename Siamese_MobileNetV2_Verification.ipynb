{
 "cells": [
  {
   "cell_type": "code",
   "execution_count": 6,
   "metadata": {},
   "outputs": [],
   "source": [
    "import sys\n",
    "sys.path.append('../..')\n",
    "import torch\n",
    "import numpy as np\n",
    "from PIL import Image\n",
    "import glob\n",
    "from torch import cuda\n",
    "import os\n",
    "import shutil\n",
    "from DLBio.pytorch_helpers import get_device\n",
    "import ds_ear_siamese\n",
    "import transforms_data as td"
   ]
  },
  {
   "cell_type": "code",
   "execution_count": 8,
   "metadata": {},
   "outputs": [],
   "source": [
    "FOLDER_TEST_COMPARE = './data_compare/'\n",
    "PATH_TO_ALL = '../dataset/'\n",
    "DEVICE = get_device()\n",
    "# net = torch.load('./models/model.pt', DEVICE)\n",
    "#model = SiameseNetwork()"
   ]
  },
  {
   "cell_type": "code",
   "execution_count": 12,
   "metadata": {},
   "outputs": [],
   "source": [
    "# method for displaying files with index\n",
    "def print_list(list_):\n",
    "    fmt = '{:<8}{:<20}'\n",
    "    print(fmt.format('Index', 'Name'))\n",
    "    for i, name in enumerate(list_):\n",
    "        print(fmt.format(i, name))"
   ]
  },
  {
   "cell_type": "code",
   "execution_count": 13,
   "metadata": {},
   "outputs": [],
   "source": [
    "# takes the name input and returns full path to user\n",
    "# if no name is selected, a list to choose from is presented\n",
    "def choose_user(name='unknown'):\n",
    "    users = os.listdir(PATH_TO_ALL)\n",
    "    user_name = name\n",
    "    # if statement starts, when no name was given\n",
    "    if user_name == 'unknown':\n",
    "        print_list(users)\n",
    "        # Handle the user's input for user name\n",
    "        while True:\n",
    "            idx = input('Choose your user name by index: ')\n",
    "            try:\n",
    "                idx = int(idx)\n",
    "                assert idx < len(users) and idx >= 0\n",
    "                break\n",
    "            except (ValueError, AssertionError):\n",
    "                print('The input was a string or not in the index range.')\n",
    "        user_name = users[idx]\n",
    "    \n",
    "    assert user_name in users, 'The name was not found in the dataset.'\n",
    "    \n",
    "    return os.path.join(PATH_TO_ALL, user_name)"
   ]
  },
  {
   "cell_type": "code",
   "execution_count": 16,
   "metadata": {
    "tags": []
   },
   "outputs": [],
   "source": [
    "# TODO capture ear images and load them\n",
    "temp_img = \n",
    "\n",
    "# input of user name\n",
    "path = choose_user()\n",
    "\n"
   ]
  },
  {
   "cell_type": "code",
   "execution_count": null,
   "metadata": {},
   "outputs": [],
   "source": [
    "RESIZE_Y = 100\n",
    "RESIZE_X = 100\n",
    "image_array = []\n",
    "files = glob.glob ('../temp_verification')\n",
    "files.sort()\n",
    "# declare function of transformation\n",
    "preprocess = td.transforms_valid_and_test((RESIZE_Y, RESIZE_X))\n",
    "\n",
    "for f in files:\n",
    "    image = Image.open(f)\n",
    "    image_transformed = preprocess(image)\n",
    "    image_transformed = image_transformed.reshape(-1, RESIZE_Y, RESIZE_X, 1)\n",
    "    image_transformed = image_transformed.permute(3, 0, 1, 2)\n",
    "    if cuda.is_available():\n",
    "        image_array.append(image_transformed.type('torch.cuda.FloatTensor'))\n",
    "    else:\n",
    "        image_array.append(image_transformed.type('torch.FloatTensor'))\n"
   ]
  },
  {
   "cell_type": "code",
   "execution_count": null,
   "metadata": {},
   "outputs": [],
   "source": [
    "from torch.utils.data import DataLoader, SubsetRandomSampler, Dataset\n",
    "import torchvision\n",
    "import transforms_data as td\n",
    "from torchvision import datasets\n",
    "\n",
    "new_img_dset = torchvision.datasets.ImageFolder( root = '../temp_verification' )\n"
   ]
  },
  {
   "cell_type": "code",
   "execution_count": null,
   "metadata": {},
   "outputs": [],
   "source": []
  },
  {
   "cell_type": "code",
   "execution_count": null,
   "metadata": {},
   "outputs": [],
   "source": [
    "valid_dataset = SiameseNetworkDataset(imageFolderDataset=FOLDER_TEST_COMPARE,\n",
    "                                        transform=transforms.Compose([transforms.Resize((100,100)),\n",
    "                                                                      transforms.ToTensor()\n",
    "                                                                      ])\n",
    "                                       ,should_invert=False)\n",
    "\n",
    "test_dataloader = DataLoader(siamese_dataset,num_workers=6,batch_size=1,shuffle=True)\n",
    "\n",
    "# is the same as:\n",
    "# test_dataloader = ds_ear_siamese.get_dataloader(indices=None, batch_size=1, num_workers=6, transform_mode='siamese',\n",
    "#                                                  data_path=FOLDER_TEST_COMPARE, should_invert=False)"
   ]
  },
  {
   "cell_type": "code",
   "execution_count": null,
   "metadata": {},
   "outputs": [],
   "source": [
    "folder_dataset_test = dset.ImageFolder(root=Config.testing_dir)\n",
    "siamese_dataset = SiameseNetworkDataset(imageFolderDataset=folder_dataset_test,\n",
    "                                        transform=transforms.Compose([transforms.Resize((100,100)),\n",
    "                                                                      transforms.ToTensor()\n",
    "                                                                      ])\n",
    "                                       ,should_invert=False)\n",
    "\n",
    "test_dataloader = DataLoader(siamese_dataset,num_workers=6,batch_size=1,shuffle=True)\n",
    "dataiter = iter(test_dataloader)\n",
    "x0,_,_ = next(dataiter)\n",
    "\n",
    "for i in range(10):\n",
    "    _,x1,label2 = next(dataiter)\n",
    "    concatenated = torch.cat((x0,x1),0)\n",
    "    \n",
    "    output1,output2 = net(Variable(x0).cuda(),Variable(x1).cuda())\n",
    "    euclidean_distance = F.pairwise_distance(output1, output2)\n",
    "    imshow(torchvision.utils.make_grid(concatenated),'Dissimilarity: {:.2f}'.format(euclidean_distance.item()))"
   ]
  }
 ],
 "metadata": {
  "language_info": {
   "codemirror_mode": {
    "name": "ipython",
    "version": 3
   },
   "file_extension": ".py",
   "mimetype": "text/x-python",
   "name": "python",
   "nbconvert_exporter": "python",
   "pygments_lexer": "ipython3",
   "version": "3.6.8-final"
  },
  "orig_nbformat": 2,
  "kernelspec": {
   "name": "python36864bitearvenve397e2bf863c41acad9783a32bf3923f",
   "display_name": "Python 3.6.8 64-bit ('ear': venv)"
  }
 },
 "nbformat": 4,
 "nbformat_minor": 2
}