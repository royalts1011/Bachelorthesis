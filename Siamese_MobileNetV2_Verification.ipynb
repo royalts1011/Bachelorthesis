{
 "cells": [
  {
   "cell_type": "code",
   "execution_count": 2,
   "metadata": {},
   "outputs": [],
   "source": [
    "import sys\n",
    "sys.path.append('../..')\n",
    "import torch\n",
    "import numpy as np\n",
    "from PIL import Image\n",
    "import glob\n",
    "from torch import cuda\n",
    "import os\n",
    "from os.path import join\n",
    "import shutil\n",
    "from DLBio.pytorch_helpers import get_device\n",
    "import ds_ear_siamese as des\n",
    "import transforms_data as td"
   ]
  },
  {
   "cell_type": "code",
   "execution_count": 3,
   "metadata": {},
   "outputs": [],
   "source": [
    "FOLDER_COMPARE = './auth_dataset/'\n",
    "PATH_TO_ALL = '../dataset/'\n",
    "DEVICE = get_device()\n",
    "# net = torch.load('./models/model.pt', DEVICE)\n",
    "#model = SiameseNetwork()"
   ]
  },
  {
   "cell_type": "code",
   "execution_count": 4,
   "metadata": {},
   "outputs": [],
   "source": [
    "# method for displaying files with index\n",
    "def print_list(list_):\n",
    "    fmt = '{:<8}{:<20}'\n",
    "    print(fmt.format('Index', 'Name'))\n",
    "    for i, name in enumerate(list_):\n",
    "        print(fmt.format(i, name))"
   ]
  },
  {
   "cell_type": "code",
   "execution_count": 5,
   "metadata": {},
   "outputs": [],
   "source": [
    "# takes the name input and returns full path to user\n",
    "# if no name is selected, a list to choose from is presented\n",
    "def choose_user(name='unknown'):\n",
    "    users = os.listdir(PATH_TO_ALL)\n",
    "    user_name = name\n",
    "    # if statement starts, when no name was given\n",
    "    if user_name == 'unknown':\n",
    "        print_list(users)\n",
    "        # Handle the user's input for user name\n",
    "        while True:\n",
    "            idx = input('Choose your user name by index: ')\n",
    "            try:\n",
    "                idx = int(idx)\n",
    "                assert idx < len(users) and idx >= 0\n",
    "                break\n",
    "            except (ValueError, AssertionError):\n",
    "                print('The input was a string or not in the index range.')\n",
    "        user_name = users[idx]\n",
    "    \n",
    "    assert user_name in users, 'The name was not found in the dataset.'\n",
    "    \n",
    "    return os.path.join(PATH_TO_ALL, user_name)"
   ]
  },
  {
   "cell_type": "code",
   "execution_count": null,
   "metadata": {},
   "outputs": [],
   "source": [
    "# Image processing\n",
    "# input is the filename and the transforamtion function\n",
    "def image_pipeline(input_, preprocess):\n",
    "    input_ = Image.open(input_)\n",
    "    input_ = preprocess(input_)\n",
    "    input_ = input_.reshape(-1, RESIZE_Y, RESIZE_X, 1)\n",
    "    input_ = input_.permute(3, 0, 1, 2)\n",
    "\n",
    "    if cuda.is_available():\n",
    "        return input_.type('torch.cuda.FloatTensor')\n",
    "    else:\n",
    "        return input_.type('torch.FloatTensor')"
   ]
  },
  {
   "cell_type": "code",
   "execution_count": null,
   "metadata": {},
   "outputs": [],
   "source": [
    "# Setting up the dataset\n",
    "def get_triplets(dataset_path, user_name, verif_dataset, transform_mode ):\n",
    "    NUM_CLASSES = len(os.listdir( dataset_path ))\n",
    "    user_imgs = os.listdir(join(dataset_path, user_name))\n",
    "    \n",
    "    preprocess = td.transforms_siamese_verification( (100, 100) )\n",
    "\n",
    "    # NUM_EXAMPLES is the number of (A,P,N) triplets chosen for the same class (N belongs to a different class of course)\n",
    "    NUM_EXAMPLES = 5\n",
    "\n",
    "    # Triplets list will contain anchor(A), positive(P) and negative(N) triplets.\n",
    "    triplets = []\n",
    "    # assert len(os.listdir(verif_dataset)) < len(os.listdir(user_path)), 'There are more verification images than po'\n",
    "    # creating anchor, positive, negative triplets (amount equals taken images)\n",
    "    for img_dir in os.listdir( verif_dataset ):\n",
    "        anchor_dir = join(verif_dataset, img_dir)\n",
    "        anchor = image_pipeline(anchor, preprocess)\n",
    "\n",
    "        # choose random image from the alleged user and pass the preprocess strategy\n",
    "        positive = image_pipeline( join(dataset_path, user_imgs[np.random.randint(0, len(user_imgs))]), preprocess )\n",
    "        \n",
    "        # find a class different from anchor. if same as anchor try again\n",
    "        neg_class = os.listdir(dataset_path)[np.random.randint(NUM_CLASSES)]\n",
    "        while neg_class == anchor_dir: \n",
    "            neg_class = os.listdir(dataset_path)[np.random.randint(NUM_CLASSES)]\n",
    "        # list of image file names\n",
    "        neg_dir_imgs = os.listdir(join(dataset_path, neg_class))\n",
    "        # choose random image from the negative and pass the preprocess strategy\n",
    "        negative = image_pipeline( join(dataset_path, neg_dir, neg_dir_imgs[np.random.randint(0, len(neg_dir_imgs))]), preprocess )\n",
    "\n",
    "        # append triplet\n",
    "        triplets.append([anchor, positive, negative])\n",
    "\n",
    "        return triplets"
   ]
  },
  {
   "cell_type": "code",
   "execution_count": null,
   "metadata": {},
   "outputs": [],
   "source": [
    "RESIZE_Y = 100\n",
    "RESIZE_X = 100\n",
    "image_array = []\n",
    "files = glob.glob ('../temp_verification')\n",
    "files.sort()\n",
    "# declare function of transformation\n",
    "preprocess = td.transforms_valid_and_test((RESIZE_Y, RESIZE_X))\n",
    "\n",
    "for f in files:\n",
    "    image = Image.open(f)\n",
    "    image_transformed = preprocess(image)\n",
    "    image_transformed = image_transformed.reshape(-1, RESIZE_Y, RESIZE_X, 1)\n",
    "    image_transformed = image_transformed.permute(3, 0, 1, 2)\n",
    "    if cuda.is_available():\n",
    "        image_array.append(image_transformed.type('torch.cuda.FloatTensor'))\n",
    "    else:\n",
    "        image_array.append(image_transformed.type('torch.FloatTensor'))\n"
   ]
  },
  {
   "cell_type": "code",
   "execution_count": null,
   "metadata": {},
   "outputs": [],
   "source": [
    "from torch.utils.data import DataLoader, SubsetRandomSampler, Dataset\n",
    "import torchvision\n",
    "import transforms_data as td\n",
    "from torchvision import datasets\n",
    "\n",
    "new_img_dset = torchvision.datasets.ImageFolder( root = '../temp_verification' )\n"
   ]
  },
  {
   "cell_type": "code",
   "execution_count": null,
   "metadata": {},
   "outputs": [],
   "source": []
  },
  {
   "cell_type": "code",
   "execution_count": null,
   "metadata": {},
   "outputs": [],
   "source": [
    "valid_dataset = SiameseNetworkDataset(imageFolderDataset=FOLDER_TEST_COMPARE,\n",
    "                                        transform=transforms.Compose([transforms.Resize((100,100)),\n",
    "                                                                      transforms.ToTensor()\n",
    "                                                                      ])\n",
    "                                       ,should_invert=False)\n",
    "\n",
    "test_dataloader = DataLoader(siamese_dataset,num_workers=6,batch_size=1,shuffle=True)\n",
    "\n",
    "# is the same as:\n",
    "# test_dataloader = ds_ear_siamese.get_dataloader(indices=None, batch_size=1, num_workers=6, transform_mode='siamese',\n",
    "#                                                  data_path=FOLDER_TEST_COMPARE, should_invert=False)"
   ]
  },
  {
   "cell_type": "code",
   "execution_count": null,
   "metadata": {},
   "outputs": [],
   "source": [
    "folder_dataset_test = dset.ImageFolder(root=Config.testing_dir)\n",
    "siamese_dataset = SiameseNetworkDataset(imageFolderDataset=folder_dataset_test,\n",
    "                                        transform=transforms.Compose([transforms.Resize((100,100)),\n",
    "                                                                      transforms.ToTensor()\n",
    "                                                                      ])\n",
    "                                       ,should_invert=False)\n",
    "\n",
    "test_dataloader = DataLoader(siamese_dataset,num_workers=6,batch_size=1,shuffle=True)\n",
    "dataiter = iter(test_dataloader)\n",
    "x0,_,_ = next(dataiter)\n",
    "\n",
    "for i in range(10):\n",
    "    _,x1,label2 = next(dataiter)\n",
    "    concatenated = torch.cat((x0,x1),0)\n",
    "    \n",
    "    output1,output2 = net(Variable(x0).cuda(),Variable(x1).cuda())\n",
    "    euclidean_distance = F.pairwise_distance(output1, output2)\n",
    "    imshow(torchvision.utils.make_grid(concatenated),'Dissimilarity: {:.2f}'.format(euclidean_distance.item()))"
   ]
  }
 ],
 "metadata": {
  "language_info": {
   "codemirror_mode": {
    "name": "ipython",
    "version": 3
   },
   "file_extension": ".py",
   "mimetype": "text/x-python",
   "name": "python",
   "nbconvert_exporter": "python",
   "pygments_lexer": "ipython3",
   "version": "3.7.7-final"
  },
  "orig_nbformat": 2,
  "kernelspec": {
   "name": "python37764bitbachelorthesisvenv56335152ffb6462895d9a4e287eab667",
   "display_name": "Python 3.7.7 64-bit ('Bachelorthesis': venv)"
  }
 },
 "nbformat": 4,
 "nbformat_minor": 2
}