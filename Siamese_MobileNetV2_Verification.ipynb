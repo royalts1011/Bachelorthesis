{
 "cells": [
  {
   "cell_type": "code",
   "execution_count": 1,
   "metadata": {},
   "outputs": [],
   "source": [
    "# math and system imports\n",
    "import sys\n",
    "sys.path.append('../..')\n",
    "import numpy as np\n",
    "from PIL import Image\n",
    "import glob\n",
    "import shutil\n",
    "import os\n",
    "from os.path import join\n",
    "\n",
    "# PyTorch imports\n",
    "import torch\n",
    "from torch import cuda\n",
    "from torch.autograd import Variable\n",
    "import torch.nn.functional as F\n",
    "import torch.nn as nn\n",
    "\n",
    "# own scripts\n",
    "import acquire_ear_dataset as a\n",
    "import ds_ear_siamese as des\n",
    "import transforms_data as td\n",
    "import helpers\n",
    "from DLBio.pytorch_helpers import get_device\n"
   ]
  },
  {
   "cell_type": "code",
   "execution_count": 21,
   "metadata": {},
   "outputs": [],
   "source": [
    "# central variable hub\n",
    "class Config():\n",
    "    NN_SIAMESE = False\n",
    "    AUTHORIZED = [\"falco_len\",\"konrad_von\"]\n",
    "    DEVICE = get_device()\n",
    "\n",
    "    DATASET_DIR = '../dataset/'\n",
    "    VERIFICATION_DIR = '../auth_dataset/unknown-auth'\n",
    "    MODEL_DIR = './models/ve_g_margin_2,0.pt'\n",
    "\n",
    "    is_small_resize = False\n",
    "\n",
    "    TRESHOLD = 2.0\n",
    "    TRESHOLD_VER = 0.9\n",
    "    a = 0.1\n",
    "\n",
    "model = torch.load(Config.MODEL_DIR, Config.DEVICE) "
   ]
  },
  {
   "cell_type": "code",
   "execution_count": 14,
   "metadata": {},
   "outputs": [],
   "source": [
    "#Output for NN  \n",
    "if Config.NN_SIAMESE == True:\n",
    "    def generate_output( img_in, img_in2 ):\n",
    "        if cuda.is_available():\n",
    "            return model(Variable(img_in).cuda(), Variable(img_in2).cuda())\n",
    "        else:\n",
    "            return model(Variable(img_in), Variable(img_in2))\n",
    "else:\n",
    "# Output for Mobilenet\n",
    "    def generate_output( img_in ):\n",
    "        if cuda.is_available():\n",
    "            return model(Variable(img_in).cuda())\n",
    "        else:\n",
    "            return model(Variable(img_in))    "
   ]
  },
  {
   "cell_type": "code",
   "execution_count": 4,
   "metadata": {},
   "outputs": [],
   "source": [
    "#a.capture_ear_images(amount_pic=10, pic_per_stage=10, is_authentification=True)"
   ]
  },
  {
   "cell_type": "code",
   "execution_count": 22,
   "metadata": {},
   "outputs": [],
   "source": [
    "# Image processing\n",
    "# input is the filename and the transforamtion function\n",
    "def image_pipeline(input_, preprocess):\n",
    "    input_ = Image.open(input_)\n",
    "    input_ = input_.convert(\"L\")\n",
    "    input_ = preprocess(input_)\n",
    "    input_ = input_.reshape(-1, td.get_resize(Config.is_small_resize)[0], td.get_resize(Config.is_small_resize)[1], 1)\n",
    "    input_ = input_.permute(3, 0, 1, 2)\n",
    "    \n",
    "    if cuda.is_available():\n",
    "        return input_.type('torch.cuda.FloatTensor')\n",
    "    else:\n",
    "        return input_.type('torch.FloatTensor')"
   ]
  },
  {
   "cell_type": "code",
   "execution_count": 23,
   "metadata": {},
   "outputs": [],
   "source": [
    "# Setting up the dataset\n",
    "def get_triplets(dataset_path, user_name, verif_dataset):\n",
    "    dataset_classes = helpers.rm_DSStore( os.listdir( dataset_path ) )\n",
    "    NUM_CLASSES = len(dataset_classes)\n",
    "    user_imgs = helpers.rm_DSStore( os.listdir(join(dataset_path, user_name)) )\n",
    "    \n",
    "    preprocess = td.get_transform('siamese_valid_and_test', Config.is_small_resize)\n",
    "\n",
    "    # Triplets list will contain anchor(A), positive(P) and negative(N) triplets.\n",
    "    triplets = []\n",
    "\n",
    "    # creating anchor, positive, negative triplets (amount equals taken images)\n",
    "    for img_dir in helpers.rm_DSStore( os.listdir(verif_dataset) ):\n",
    "        anchor_dir = join(verif_dataset, img_dir)\n",
    "        anchor = image_pipeline(anchor_dir, preprocess)\n",
    "\n",
    "        # choose random image from the alleged user and pass the preprocess strategy\n",
    "        positive = image_pipeline( join(dataset_path, user_name, user_imgs[np.random.randint(0, len(user_imgs))]), preprocess )\n",
    "        \n",
    "        # find a class different from anchor. if same as anchor try again\n",
    "        neg_class = dataset_classes[np.random.randint(NUM_CLASSES)]\n",
    "        while neg_class == anchor_dir: \n",
    "            neg_class = dataset_classes[np.random.randint(NUM_CLASSES)]\n",
    "        # list of image file names\n",
    "        neg_class_imgs = helpers.rm_DSStore( os.listdir(join(dataset_path, neg_class)) )\n",
    "        # choose random image from the negative and pass the preprocess strategy\n",
    "        negative = image_pipeline( join(dataset_path, neg_class, neg_class_imgs[np.random.randint(0, len(neg_class_imgs))]), preprocess )\n",
    "\n",
    "        # append triplet\n",
    "        triplets.append([anchor, positive, negative])\n",
    "\n",
    "    return triplets"
   ]
  },
  {
   "cell_type": "code",
   "execution_count": 24,
   "metadata": {
    "tags": []
   },
   "outputs": [
    {
     "output_type": "stream",
     "name": "stdout",
     "text": "Index   Name                \n0       sarah_feh           \n1       konrad_von          \n2       mila_wol            \n3       marejke_wen         \n4       alexander_bec       \n5       gregor_spi          \n6       janole_pen          \n7       malte_gas           \n8       moritz_mei          \n9       johannes_wie        \n10      moritz_bor          \n11      anna_kab            \n12      tim_moe             \n13      lars_fin            \n14      anni_qua            \n15      nils_loo            \n16      david_fau           \n17      marcus_jue          \n18      clara_pau           \n19      collin_sch          \n20      mohammed_muh        \n21      sina_jun            \n22      alina_sch           \n23      sarah_amo           \n24      falco_len           \n25      jesse_kru           \n26      amanda_dab          \n27      matilda_kni         \n28      linus_fal           \n29      marcel_nim          \n30      maike_her           \n31      robert_kle          \n32      marina_fri          \n33      janna_qua           \n34      alissa_buh          \n35      yannik_obe          \n36      felix_mec           \n37      beatrix_mah         \n38      meiko_pri           \n39      julia_fis           \n40      marina_han          \n41      pauline_bus         \n42      hammam_als          \n43      lynn_man            \n44      clemens_blu         \n45      jule_dre            \n46      robert_sch          \n"
    }
   ],
   "source": [
    "# pers_to_ver = input('\\n Enter name end press <return> ==>  ')\n",
    "pers_to_ver = helpers.choose_folder(Config.DATASET_DIR)\n",
    "triplet_list = get_triplets(dataset_path=Config.DATASET_DIR,\n",
    "                            user_name=pers_to_ver,\n",
    "                            verif_dataset=Config.VERIFICATION_DIR)"
   ]
  },
  {
   "cell_type": "code",
   "execution_count": 25,
   "metadata": {
    "tags": []
   },
   "outputs": [
    {
     "output_type": "stream",
     "name": "stdout",
     "text": "pos-pos:     0.658\nAcc. count:  1 \n\npos-pos:     0.658\nAcc. count:  2 \n\npos-pos:     0.791\nAcc. count:  3 \n\npos-pos:     0.837\nAcc. count:  3 \n\npos-pos:     0.789\nAcc. count:  4 \n\npos-pos:     0.863\nAcc. count:  4 \n\npos-pos:     0.981\nAcc. count:  4 \n\npos-pos:     0.981\nAcc. count:  4 \n\npos-pos:     0.712\nAcc. count:  5 \n\npos-pos:     0.747\nAcc. count:  6 \n\n"
    }
   ],
   "source": [
    "verification_counter = 0\n",
    "for t in triplet_list:\n",
    "    if Config.NN_SIAMESE == True:\n",
    "        match_out1, match_out2 = generate_output(t[0], t[1])\n",
    "        #non_match_out1, non_match_out2 = generate_output(t[0], t[2])\n",
    "    else:\n",
    "        match_out1 = generate_output(t[0])\n",
    "        match_out2 = generate_output(t[1])                 \n",
    "        #non_match_out1 = generate_output(t[0])\n",
    "        #non_match_out2 = generate_output(t[2])\n",
    "\n",
    "    euclidean_distance_pp = F.pairwise_distance(match_out1, match_out2)\n",
    "    #euclidean_distance_pn = F.pairwise_distance(non_match_out1, non_match_out2)\n",
    "    #if(euclidean_distance_pp >= Config.TRESHOLD): continue\n",
    "    \n",
    "    #if(euclidean_distance_pp + Config.a < euclidean_distance_pn): verification_counter += 1\n",
    "    if(euclidean_distance_pp + Config.a < Config.TRESHOLD_VER): verification_counter += 1\n",
    "\n",
    "    # format variables\n",
    "    fmt_id = '{:<12}'\n",
    "    fmt_eucl = '{:<.3f}'\n",
    "    print(fmt_id.format('pos-pos: '), fmt_eucl.format( euclidean_distance_pp.item()) )\n",
    "    #print(fmt_id.format('pos-neg: '),fmt_eucl.format( euclidean_distance_pn.item()) )\n",
    "    print(fmt_id.format('Acc. count: '), '{:>.0f}'.format(verification_counter), '\\n')"
   ]
  },
  {
   "cell_type": "code",
   "execution_count": 9,
   "metadata": {
    "tags": []
   },
   "outputs": [
    {
     "output_type": "stream",
     "name": "stdout",
     "text": "Access denied\n"
    }
   ],
   "source": [
    "NUMBER_AUTHORIZED = int(.8*len(triplet_list))\n",
    "if  pers_to_ver in Config.AUTHORIZED and verification_counter >= NUMBER_AUTHORIZED:\n",
    "    print(\"Access granted! Welcome \"  + pers_to_ver + \"!\")\n",
    "else:\n",
    "    print(\"Access denied\")"
   ]
  },
  {
   "cell_type": "code",
   "execution_count": 10,
   "metadata": {},
   "outputs": [],
   "source": [
    "#shutil.rmtree('../auth_dataset/unknown-auth')"
   ]
  }
 ],
 "metadata": {
  "language_info": {
   "codemirror_mode": {
    "name": "ipython",
    "version": 3
   },
   "file_extension": ".py",
   "mimetype": "text/x-python",
   "name": "python",
   "nbconvert_exporter": "python",
   "pygments_lexer": "ipython3",
   "version": "3.7.8-final"
  },
  "orig_nbformat": 2,
  "kernelspec": {
   "name": "python_defaultSpec_1596970312065",
   "display_name": "Python 3.7.7 64-bit ('Bachelorthesis': venv)"
  }
 },
 "nbformat": 4,
 "nbformat_minor": 2
}