{
 "cells": [
  {
   "cell_type": "code",
   "execution_count": 4,
   "metadata": {},
   "outputs": [],
   "source": [
    "import sys\n",
    "sys.path.append('../..')\n",
    "import acquire_ear_dataset as a\n",
    "import torch\n",
    "import numpy as np\n",
    "from PIL import Image\n",
    "import glob\n",
    "from torch import cuda\n",
    "import os\n",
    "import shutil\n",
    "from DLBio.pytorch_helpers import get_device\n",
    "\n",
    "NN_SIAMESE = False\n",
    "AUTHORIZED = [\"falco_len\",\"konrad_von\"]\n",
    "DEVICE = get_device()\n",
    "model = torch.load('./models/model_mobile_all_reflectionPad.pt', DEVICE)"
   ]
  },
  {
   "cell_type": "code",
   "execution_count": 5,
   "metadata": {},
   "outputs": [],
   "source": [
    "#Output for NN  \n",
    "if NN_SIAMESE == True:\n",
    "    def generate_output( img_in, img_in2):\n",
    "        if cuda.is_available():\n",
    "            return model(Variable(img_in).cuda(), Variable(img_in2).cuda())\n",
    "        else:\n",
    "            return model(Variable(img_in), Variable(img_in2))\n",
    "\n",
    "# Output for Mobilenet\n",
    "if NN_SIAMESE == False:\n",
    "    def generate_output( img_in):\n",
    "        if cuda.is_available():\n",
    "            return model(Variable(img_in).cuda())\n",
    "        else:\n",
    "            return model(Variable(img_in))    "
   ]
  },
  {
   "cell_type": "code",
   "execution_count": null,
   "metadata": {},
   "outputs": [],
   "source": [
    "a.capture_ear_images(amount_pic=10, pic_per_stage=10, is_authentification=True)"
   ]
  },
  {
   "cell_type": "code",
   "execution_count": null,
   "metadata": {},
   "outputs": [],
   "source": [
    "# method for displaying files with index\n",
    "def print_list(list_):\n",
    "    fmt = '{:<8}{:<20}'\n",
    "    print(fmt.format('Index', 'Name'))\n",
    "    for i, name in enumerate(list_):\n",
    "        print(fmt.format(i, name))"
   ]
  },
  {
   "cell_type": "code",
   "execution_count": null,
   "metadata": {},
   "outputs": [],
   "source": [
    "# takes the name input and returns full path to user\n",
    "# if no name is selected, a list to choose from is presented\n",
    "def choose_user(dataset_path, name='unknown'):\n",
    "    users = os.listdir(dataset_path)\n",
    "    user_name = name\n",
    "    # if statement starts, when no name was given\n",
    "    if user_name == 'unknown':\n",
    "        print_list(users)\n",
    "        # Handle the user's input for user name\n",
    "        while True:\n",
    "            idx = input('Choose your user name by index: ')\n",
    "            try:\n",
    "                idx = int(idx)\n",
    "                assert idx < len(users) and idx >= 0\n",
    "                break\n",
    "            except (ValueError, AssertionError):\n",
    "                print('The input was a string or not in the index range.')\n",
    "        user_name = users[idx]\n",
    "    \n",
    "    assert user_name in users, 'The name was not found in the dataset.'\n",
    "    \n",
    "    return user_name"
   ]
  },
  {
   "cell_type": "code",
   "execution_count": null,
   "metadata": {},
   "outputs": [],
   "source": [
    "# Image processing\n",
    "# input is the filename and the transforamtion function\n",
    "def image_pipeline(input_, preprocess):\n",
    "    input_ = Image.open(input_)\n",
    "    input_ = preprocess(input_)\n",
    "    input_ = input_.reshape(-1, RESIZE_Y, RESIZE_X, 1)\n",
    "    input_ = input_.permute(3, 0, 1, 2)\n",
    "\n",
    "    if cuda.is_available():\n",
    "        return input_.type('torch.cuda.FloatTensor')\n",
    "    else:\n",
    "        return input_.type('torch.FloatTensor')"
   ]
  },
  {
   "cell_type": "code",
   "execution_count": null,
   "metadata": {},
   "outputs": [],
   "source": [
    "# Setting up the dataset\n",
    "def get_triplets(dataset_path, user_name, verif_dataset, transform_mode ):\n",
    "    NUM_CLASSES = len(os.listdir( dataset_path ))\n",
    "    user_imgs = os.listdir(join(dataset_path, user_name))\n",
    "    \n",
    "    preprocess = td.transforms_siamese_verification( (100, 100) )\n",
    "\n",
    "    # Triplets list will contain anchor(A), positive(P) and negative(N) triplets.\n",
    "    triplets = []\n",
    "    # assert len(os.listdir(verif_dataset)) < len(os.listdir(user_path)), 'There are more verification images than po'\n",
    "    # creating anchor, positive, negative triplets (amount equals taken images)\n",
    "    for img_dir in os.listdir( verif_dataset ):\n",
    "        anchor_dir = join(verif_dataset, img_dir)\n",
    "        anchor = image_pipeline(anchor, preprocess)\n",
    "\n",
    "        # choose random image from the alleged user and pass the preprocess strategy\n",
    "        positive = image_pipeline( join(dataset_path, user_imgs[np.random.randint(0, len(user_imgs))]), preprocess )\n",
    "        \n",
    "        # find a class different from anchor. if same as anchor try again\n",
    "        neg_class = os.listdir(dataset_path)[np.random.randint(NUM_CLASSES)]\n",
    "        while neg_class == anchor_dir: \n",
    "            neg_class = os.listdir(dataset_path)[np.random.randint(NUM_CLASSES)]\n",
    "        # list of image file names\n",
    "        neg_dir_imgs = os.listdir(join(dataset_path, neg_class))\n",
    "        # choose random image from the negative and pass the preprocess strategy\n",
    "        negative = image_pipeline( join(dataset_path, neg_dir, neg_dir_imgs[np.random.randint(0, len(neg_dir_imgs))]), preprocess )\n",
    "\n",
    "        # append triplet\n",
    "        triplets.append([anchor, positive, negative])\n",
    "\n",
    "    return triplets"
   ]
  },
  {
   "cell_type": "code",
   "execution_count": null,
   "metadata": {},
   "outputs": [],
   "source": [
    "# Funktionsaufruf Konrad\n",
    "# pers_to_ver = input('\\n Enter name end press <return> ==>  ')\n",
    "pers_to_ver = choose_user('../dataset')\n",
    "triplet_list = get_triplets()"
   ]
  },
  {
   "cell_type": "code",
   "execution_count": null,
   "metadata": {},
   "outputs": [],
   "source": [
    "verification_counter = 0\n",
    "#Scaling factor\n",
    "a = 0.1\n",
    "for t in triplet_list\n",
    "    match_out1 = generate_output(t[0])\n",
    "    match_out2 = generate_output(t[1])                 \n",
    "    non_match_out1 = generate_output(t[0])\n",
    "    non_match_out2 = generate_output(t[2])\n",
    "\n",
    "    euclidean_distance_pp = F.pairwise_distance(match_out1, match_out2)\n",
    "    euclidean_distance_pn = F.pairwise_distance(non_match_out1, non_match_out2)\n",
    "\n",
    "    if(euclidean_distance_pp + a < euclidean_distance_pn): verification_counter + 1\n",
    "\n",
    "    # format variables\n",
    "    fmt_id = '{:<12}'\n",
    "    fmt_eucl = '{:<.3f}'\n",
    "    print(fmt_id.format('pos-pos: '), fmt_eucl.format( euclidean_distance_pp.item()) )\n",
    "    print(fmt_id.format('pos-neg: '),fmt_eucl.format( euclidean_distance_pn.item()) )\n",
    "    print(fmt_id.format('Acc. count: '), '{:>.0f}'.format(accuracy_count), '\\n')"
   ]
  },
  {
   "cell_type": "code",
   "execution_count": null,
   "metadata": {},
   "outputs": [],
   "source": [
    "NUMBER_AUTHORIZED = int(.7*len(triplet_list))\n",
    "if  pers_to_ver in AUTHORIZED and verification_counter >= NUMBER_AUTHORIZED:\n",
    "    print(\"Access granted! Welcome \"  + pers_to_ver + \"!\")\n",
    "    break\n",
    "else:\n",
    "    print(\"Access denied\")\n",
    "    break"
   ]
  }
 ],
 "metadata": {
  "language_info": {
   "codemirror_mode": {
    "name": "ipython",
    "version": 3
   },
   "file_extension": ".py",
   "mimetype": "text/x-python",
   "name": "python",
   "nbconvert_exporter": "python",
   "pygments_lexer": "ipython3",
   "version": "3.7.7-final"
  },
  "orig_nbformat": 2,
  "kernelspec": {
   "name": "python37764bitbachelorthesisvenv02556f6d95bb441ca9c35a29550b23bd",
   "display_name": "Python 3.7.7 64-bit ('Bachelorthesis': venv)"
  }
 },
 "nbformat": 4,
 "nbformat_minor": 2
}