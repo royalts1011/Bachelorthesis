{
 "cells": [
  {
   "cell_type": "code",
   "execution_count": 4,
   "metadata": {},
   "outputs": [],
   "source": [
    "import sys\n",
    "sys.path.append('../..')\n",
    "import acquire_ear_dataset as a\n",
    "import torch\n",
    "import numpy as np\n",
    "from PIL import Image\n",
    "import glob\n",
    "from torch import cuda\n",
    "import os\n",
    "import shutil\n",
    "from DLBio.pytorch_helpers import get_device\n",
    "\n",
    "NN_SIAMESE = False\n",
    "AUTHORIZED = [\"falco_len\",\"konrad_von\"]\n",
    "DEVICE = get_device()\n",
    "model = torch.load('./models/model_mobile_all_reflectionPad.pt', DEVICE)"
   ]
  },
  {
   "cell_type": "code",
   "execution_count": 5,
   "metadata": {},
   "outputs": [],
   "source": [
    "#Output for NN  \n",
    "if NN_SIAMESE == True:\n",
    "    def generate_output( img_in, img_in2):\n",
    "        if cuda.is_available():\n",
    "            return model(Variable(img_in).cuda(), Variable(img_in2).cuda())\n",
    "        else:\n",
    "            return model(Variable(img_in), Variable(img_in2))\n",
    "\n",
    "# Output for Mobilenet\n",
    "if NN_SIAMESE == False:\n",
    "    def generate_output( img_in):\n",
    "        if cuda.is_available():\n",
    "            return model(Variable(img_in).cuda())\n",
    "        else:\n",
    "            return model(Variable(img_in))    "
   ]
  },
  {
   "cell_type": "code",
   "execution_count": null,
   "metadata": {},
   "outputs": [],
   "source": [
    "a.capture_ear_images(amount_pic=10, pic_per_stage=10, is_authentification=True)"
   ]
  },
  {
   "cell_type": "code",
   "execution_count": null,
   "metadata": {},
   "outputs": [],
   "source": [
    "# Funktionsaufruf Konrad\n",
    "pers_to_ver = input('\\n Enter name end press <return> ==>  ')\n",
    "triplet_list = []"
   ]
  },
  {
   "cell_type": "code",
   "execution_count": null,
   "metadata": {},
   "outputs": [],
   "source": [
    "verification_counter = 0\n",
    "#Scaling factor\n",
    "a = 0.1\n",
    "for t in triplet_list\n",
    "    match_out1 = generate_output(t[0])\n",
    "    match_out2 = generate_output(t[1])                 \n",
    "    non_match_out1 = generate_output(t[0])\n",
    "    non_match_out2 = generate_output(t[2])\n",
    "\n",
    "    euclidean_distance_pp = F.pairwise_distance(match_out1, match_out2)\n",
    "    euclidean_distance_pn = F.pairwise_distance(non_match_out1, non_match_out2)\n",
    "\n",
    "    if(euclidean_distance_pp + a < euclidean_distance_pn): verification_counter + 1\n",
    "\n",
    "    # format variables\n",
    "    fmt_id = '{:<12}'\n",
    "    fmt_eucl = '{:<.3f}'\n",
    "    print(fmt_id.format('pos-pos: '), fmt_eucl.format( euclidean_distance_pp.item()) )\n",
    "    print(fmt_id.format('pos-neg: '),fmt_eucl.format( euclidean_distance_pn.item()) )\n",
    "    print(fmt_id.format('Acc. count: '), '{:>.0f}'.format(accuracy_count), '\\n')"
   ]
  },
  {
   "cell_type": "code",
   "execution_count": null,
   "metadata": {},
   "outputs": [],
   "source": [
    "NUMBER_AUTHORIZED = int(.7*len(triplet_list))\n",
    "if  pers_to_ver in AUTHORIZED and verification_counter >= NUMBER_AUTHORIZED:\n",
    "    print(\"Access granted! Welcome \"  + pers_to_ver + \"!\")\n",
    "    break\n",
    "else:\n",
    "    print(\"Access denied\")\n",
    "    break"
   ]
  }
 ],
 "metadata": {
  "language_info": {
   "codemirror_mode": {
    "name": "ipython",
    "version": 3
   },
   "file_extension": ".py",
   "mimetype": "text/x-python",
   "name": "python",
   "nbconvert_exporter": "python",
   "pygments_lexer": "ipython3",
   "version": "3.7.7-final"
  },
  "orig_nbformat": 2,
  "kernelspec": {
   "name": "python37764bitbachelorthesisvenv02556f6d95bb441ca9c35a29550b23bd",
   "display_name": "Python 3.7.7 64-bit ('Bachelorthesis': venv)"
  }
 },
 "nbformat": 4,
 "nbformat_minor": 2
}