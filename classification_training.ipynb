{
 "cells": [
  {
   "cell_type": "code",
   "execution_count": 1,
   "metadata": {},
   "outputs": [],
   "source": [
    "import sys\n",
    "sys.path.append('../..')\n",
    "import json\n",
    "import numpy as np\n",
    "from os.path import join\n",
    "import matplotlib.pyplot as plt\n",
    "\n",
    "# PyTorch\n",
    "import torch.nn as nn\n",
    "from torch import cuda\n",
    "from torchvision.models.mobilenet import mobilenet_v2\n",
    "\n",
    "# DLBio\n",
    "from DLBio import pt_training\n",
    "from DLBio.helpers import check_mkdir\n",
    "from DLBio.pt_train_printer import Printer\n",
    "from DLBio.pytorch_helpers import get_device, get_num_params\n",
    "\n",
    "# own scripts\n",
    "import ds_ear\n",
    "from classification_test import TestMyModel"
   ]
  },
  {
   "cell_type": "code",
   "execution_count": 2,
   "metadata": {},
   "outputs": [],
   "source": [
    "class Classification(pt_training.ITrainInterface):\n",
    "    def __init__(self, model, device):\n",
    "        self.model = model\n",
    "        self.xent_loss = nn.CrossEntropyLoss()\n",
    "        self.metrics = {\n",
    "            'acc': accuracy\n",
    "        }\n",
    "        self.d = device\n",
    "\n",
    "    def train_step(self, sample):\n",
    "        images, targets = sample[0].to(self.d), sample[1].to(self.d)\n",
    "        pred = self.model(images)\n",
    "\n",
    "        loss = self.xent_loss(pred, targets)\n",
    "        metrics = dict()\n",
    "\n",
    "        metrics.update({k: v(pred, targets) for k, v in self.metrics.items()})\n",
    "\n",
    "        return loss, metrics\n",
    "\n",
    "\n",
    "def accuracy(y_pred, y_true):\n",
    "    _, y_pred = y_pred.max(1)  # grab class predictions\n",
    "    return (y_pred == y_true).float().mean().item()"
   ]
  },
  {
   "cell_type": "code",
   "execution_count": 3,
   "metadata": {
    "tags": []
   },
   "outputs": [],
   "source": [
    "\n",
    "class Config():\n",
    "    # influences learning rate, weight decay, data folder path and training classes\n",
    "    IS_OWN_DATASET = True\n",
    "    # define constants\n",
    "    LEARNING_RATE = (0.001, 0.01)[IS_OWN_DATASET] # FORM: (AMI, dataset)\n",
    "    WEIGHT_DECAY = (0.0001, 0.001)[IS_OWN_DATASET] # FORM: (AMI, dataset)\n",
    "    DATASET_DIR = ('../AMI', '../dataset')[IS_OWN_DATASET]\n",
    "    # grab dataset for length and classes\n",
    "    dset = ds_ear.get_dataset(data_path=DATASET_DIR, transform_mode='size_only')\n",
    "    CLASSES = len(dset.classes)\n",
    "    \n",
    "    BATCH_SIZE = 32\n",
    "    NUM_WORKERS = 3\n",
    "    EPOCHS = 15\n",
    "\n",
    "    FOLDER = './class_sample'\n",
    "    OPT_TYPE = 'Adam'\n",
    "    LR_STEPS = 3\n",
    "    DO_EARLY_STOPPING = True\n",
    "    STOP_AFTER = 10\n",
    "    ES_METRIC = 'val_acc'\n",
    "    SAVE_INTERVALL = -1\n",
    "    PRINT_FREQUENCY = 500 # print every 500 batches\n",
    "    SEED = 0\n",
    "\n",
    "# use seeds to ensure comparable results ()\n",
    "# pt_training.set_random_seed(SEED)\n",
    "# np.random.seed(SEED)\n",
    "\n",
    "model = mobilenet_v2(pretrained=True)\n",
    "fir = model.features[0][0]\n",
    "# Swap between grey and color\n",
    "model.features[0][0] = nn.Conv2d(\n",
    "                        in_channels=1,\n",
    "                        out_channels=fir.out_channels,\n",
    "                        kernel_size=fir.kernel_size,\n",
    "                        stride=fir.stride,\n",
    "                        padding=fir.padding,\n",
    "                        bias=fir.bias\n",
    "                        )\n",
    "# Remap the classification layer to the correct amount of classes\n",
    "model.classifier[1] = nn.Linear(in_features=model.classifier[1].in_features, out_features=Config.CLASSES)\n"
   ]
  },
  {
   "cell_type": "code",
   "execution_count": 4,
   "metadata": {},
   "outputs": [
    {
     "output_type": "execute_result",
     "data": {
      "text/plain": "60207"
     },
     "metadata": {},
     "execution_count": 4
    }
   ],
   "source": [
    "#freezes all mobilenet parameters except classifier\n",
    "for param in model.features.parameters():\n",
    "    param.requires_grad = False\n",
    "\n",
    "from DLBio.pytorch_helpers import get_num_params\n",
    "get_num_params(model,True)"
   ]
  },
  {
   "cell_type": "code",
   "execution_count": null,
   "metadata": {
    "tags": []
   },
   "outputs": [],
   "source": [
    "# #To Define which Layers we want to train\n",
    "# feature_layers = list(model.features.children())\n",
    "# unfreezed = [18]\n",
    "# for u in unfreezed:\n",
    "#     for param in feature_layers[u].parameters():\n",
    "#         param.requires_grad = True\n"
   ]
  },
  {
   "cell_type": "code",
   "execution_count": null,
   "metadata": {},
   "outputs": [],
   "source": [
    "from DLBio.pytorch_helpers import get_num_params\n",
    "get_num_params(model,True)"
   ]
  },
  {
   "cell_type": "code",
   "execution_count": 5,
   "metadata": {
    "tags": []
   },
   "outputs": [
    {
     "output_type": "stream",
     "name": "stdout",
     "text": "cuda:0\n"
    }
   ],
   "source": [
    "device = get_device()\n",
    "# device = 'cpu'\n",
    "print(device)\n",
    "model.to(device)\n",
    "\n",
    "# define folder to save model and log file\n",
    "check_mkdir(Config.FOLDER, is_dir=True)\n",
    "model_out = join(Config.FOLDER, 'model.pt')\n",
    "log_file = join(Config.FOLDER, 'log.json')"
   ]
  },
  {
   "cell_type": "code",
   "execution_count": 6,
   "metadata": {
    "tags": []
   },
   "outputs": [
    {
     "output_type": "stream",
     "name": "stdout",
     "text": "3760\n"
    }
   ],
   "source": [
    "# define indicies to split Data\n",
    "N = len(Config.dset)\n",
    "print(N)\n",
    "\n",
    "# List of index where classes switch\n",
    "class_switch = [0]\n",
    "for c in range(Config.CLASSES):\n",
    "    for i,(_, class_idx) in enumerate(Config.dset.imgs):\n",
    "        if class_idx > c:\n",
    "            # append current index of class switch\n",
    "            class_switch.append(i)\n",
    "            break\n",
    "# append last index\n",
    "class_switch.append(len(Config.dset.imgs)-1)\n",
    "\n",
    "train_indices, valid_indices, test_indices = [],[],[]\n",
    "# go through all classes\n",
    "for i in range(len(class_switch)-1):\n",
    "    # lists the indices of each class\n",
    "    rand_class = np.random.permutation(list(range(class_switch[i], class_switch[i+1])))\n",
    "    length = len(rand_class)\n",
    "    # calculate percentage of current classes\n",
    "    n_80 = int(round(.8*length))\n",
    "    n_70 = int(round(.7*length))\n",
    "    n_60 = int(round(.6*length))\n",
    "    n_20 = int(round(.2*length))\n",
    "    n_10 = int(round(.1*length))\n",
    "    # add percentage of indices to respective lists\n",
    "    train_indices.extend(rand_class[:n_70])\n",
    "    valid_indices.extend(rand_class[n_70:n_70+n_20])\n",
    "    test_indices.extend(rand_class[n_70+n_20:])"
   ]
  },
  {
   "cell_type": "code",
   "execution_count": 12,
   "metadata": {
    "tags": []
   },
   "outputs": [
    {
     "output_type": "stream",
     "name": "stdout",
     "text": "['alexander_bec', 'alina_sch', 'alissa_buh', 'amanda_dab', 'anna_kab', 'anni_qua', 'beatrix_mah', 'clara_pau', 'clemens_blu', 'collin_sch', 'david_fau', 'falco_len', 'felix_mec', 'gregor_spi', 'hammam_als', 'janna_qua', 'janole_pen', 'jesse_kru', 'johannes_wie', 'jule_dre', 'julia_fis', 'konrad_von', 'lars_fin', 'linus_fal', 'lynn_man', 'maike_her', 'malte_gas', 'marcel_nim', 'marcus_jue', 'marejke_wen', 'marina_fri', 'marina_han', 'matilda_kni', 'meiko_pri', 'mila_wol', 'mohammed_muh', 'moritz_bor', 'moritz_mei', 'nils_loo', 'pauline_bus', 'robert_kle', 'robert_sch', 'sarah_amo', 'sarah_feh', 'sina_jun', 'tim_moe', 'yannik_obe'] \n 47  classes\n"
    }
   ],
   "source": [
    "# write some model specs\n",
    "with open(join(Config.FOLDER, 'model_specs.json'), 'w') as file:\n",
    "    json.dump({\n",
    "        'num_trainable': float(get_num_params(model, True)),\n",
    "        'num_params': float(get_num_params(model, False))\n",
    "    }, file)\n",
    "\n",
    "# definde data loader\n",
    "dl_train = ds_ear.get_dataloader(\n",
    "    data_path=Config.DATASET_DIR,\n",
    "    indices=train_indices,\n",
    "    batch_size=Config.BATCH_SIZE,\n",
    "    num_workers=Config.NUM_WORKERS,\n",
    "    transform_mode='train_gray'\n",
    ")\n",
    "\n",
    "dl_valid = ds_ear.get_dataloader(\n",
    "    data_path=Config.DATASET_DIR,\n",
    "    indices=valid_indices,\n",
    "    batch_size=Config.BATCH_SIZE,\n",
    "    num_workers=Config.NUM_WORKERS,\n",
    "    transform_mode='valid_and_test'\n",
    ")\n",
    "\n",
    "dl_test = ds_ear.get_dataloader(\n",
    "    data_path=Config.DATASET_DIR,\n",
    "    indices=test_indices,\n",
    "    batch_size=Config.BATCH_SIZE,\n",
    "    num_workers=Config.NUM_WORKERS,\n",
    "    transform_mode='valid_and_test'\n",
    ")\n",
    "\n",
    "print(dl_train.dataset.classes, '\\n', len(dl_train.dataset.classes), ' classes')\n",
    "\n",
    "# with open('test_indizes.txt', 'w') as file:\n",
    "#     for idx in test_indices:\n",
    "#         file.write(\"%i\\n\" % idx)"
   ]
  },
  {
   "cell_type": "code",
   "execution_count": 13,
   "metadata": {
    "tags": []
   },
   "outputs": [
    {
     "output_type": "stream",
     "name": "stdout",
     "text": "Sched step size: 5\nEp: 0, loss: 1.28989 acc: 0.717 lr: 0.01000 sec: 9.44\nsaving model: ./class_sample/model.pt\nEp: 0, val_loss: 0.98246 val_acc: 0.771 lr: -1.00000 sec: 2.91\nEp: 1, loss: 1.03528 acc: 0.745 lr: 0.01000 sec: 9.39\nsaving model: ./class_sample/model.pt\nEp: 1, val_loss: 0.65277 val_acc: 0.822 lr: -1.00000 sec: 2.96\nEp: 2, loss: 1.01764 acc: 0.747 lr: 0.01000 sec: 9.30\nEp: 2, val_loss: 0.84824 val_acc: 0.815 lr: -1.00000 sec: 2.86\nEp: 3, loss: 0.88954 acc: 0.791 lr: 0.01000 sec: 9.11\nEp: 3, val_loss: 0.67238 val_acc: 0.820 lr: -1.00000 sec: 2.87\nEp: 4, loss: 0.87126 acc: 0.790 lr: 0.01000 sec: 9.20\nsaving model: ./class_sample/model.pt\nEp: 4, val_loss: 0.67194 val_acc: 0.832 lr: -1.00000 sec: 2.82\nEp: 5, loss: 0.39307 acc: 0.891 lr: 0.00100 sec: 9.27\nsaving model: ./class_sample/model.pt\nEp: 5, val_loss: 0.25351 val_acc: 0.921 lr: -1.00000 sec: 2.93\nEp: 6, loss: 0.29763 acc: 0.915 lr: 0.00100 sec: 9.25\nsaving model: ./class_sample/model.pt\nEp: 6, val_loss: 0.17428 val_acc: 0.949 lr: -1.00000 sec: 2.85\nEp: 7, loss: 0.29763 acc: 0.912 lr: 0.00100 sec: 9.33\nEp: 7, val_loss: 0.19456 val_acc: 0.939 lr: -1.00000 sec: 2.87\nEp: 8, loss: 0.28931 acc: 0.918 lr: 0.00100 sec: 9.25\nsaving model: ./class_sample/model.pt\nEp: 8, val_loss: 0.22713 val_acc: 0.952 lr: -1.00000 sec: 2.85\nEp: 9, loss: 0.30208 acc: 0.915 lr: 0.00100 sec: 9.14\nEp: 9, val_loss: 0.23355 val_acc: 0.934 lr: -1.00000 sec: 2.86\nEp: 10, loss: 0.25487 acc: 0.924 lr: 0.00010 sec: 9.08\nEp: 10, val_loss: 0.16519 val_acc: 0.948 lr: -1.00000 sec: 2.87\nEp: 11, loss: 0.27210 acc: 0.921 lr: 0.00010 sec: 9.39\nsaving model: ./class_sample/model.pt\nEp: 11, val_loss: 0.14802 val_acc: 0.965 lr: -1.00000 sec: 2.85\nEp: 12, loss: 0.26189 acc: 0.925 lr: 0.00010 sec: 9.19\nEp: 12, val_loss: 0.15315 val_acc: 0.956 lr: -1.00000 sec: 2.86\nEp: 13, loss: 0.25907 acc: 0.932 lr: 0.00010 sec: 9.21\nEp: 13, val_loss: 0.19096 val_acc: 0.952 lr: -1.00000 sec: 2.85\nEp: 14, loss: 0.23505 acc: 0.924 lr: 0.00010 sec: 9.24\nEp: 14, val_loss: 0.12574 val_acc: 0.962 lr: -1.00000 sec: 2.87\n"
    }
   ],
   "source": [
    "# define optimizer\n",
    "optimizer = pt_training.get_optimizer(\n",
    "        'Adam', model.parameters(),\n",
    "        Config.LEARNING_RATE,\n",
    "        weight_decay=Config.WEIGHT_DECAY\n",
    "    )\n",
    "\n",
    "if Config.LR_STEPS > 0:\n",
    "    scheduler = pt_training.get_scheduler(\n",
    "            Config.LR_STEPS, Config.EPOCHS, optimizer)\n",
    "\n",
    "if Config.DO_EARLY_STOPPING:\n",
    "    assert Config.SAVE_INTERVALL == -1\n",
    "    early_stopping = pt_training.EarlyStopping(\n",
    "            Config.ES_METRIC, get_max=True, epoch_thres=Config.STOP_AFTER\n",
    "        )\n",
    "else:\n",
    "    early_stopping = None\n",
    "    \n",
    "train_interface = Classification(model, device)\n",
    "\n",
    "training = pt_training.Training(\n",
    "        optimizer, dl_train, train_interface,\n",
    "        scheduler=scheduler, printer=Printer(Config.PRINT_FREQUENCY, log_file),\n",
    "        save_path=model_out, save_steps=Config.SAVE_INTERVALL,\n",
    "        val_data_loader=dl_valid,\n",
    "        early_stopping=early_stopping\n",
    "    )\n",
    "\n",
    "training(Config.EPOCHS)"
   ]
  },
  {
   "cell_type": "code",
   "execution_count": 9,
   "metadata": {
    "tags": []
   },
   "outputs": [
    {
     "output_type": "stream",
     "name": "stdout",
     "text": "L Rate:\t 0.01\nW Dcay:\t 0.001\nClas:\t 47\nBatch:\t 32\nEpochs:\t 15\n"
    }
   ],
   "source": [
    "print(\"L Rate:\\t\", Config.LEARNING_RATE)\n",
    "print(\"W Dcay:\\t\", Config.WEIGHT_DECAY)\n",
    "print(\"Clas:\\t\", Config.CLASSES)\n",
    "print(\"Batch:\\t\", Config.BATCH_SIZE)\n",
    "print(\"Epochs:\\t\", Config.EPOCHS)"
   ]
  },
  {
   "cell_type": "code",
   "execution_count": 14,
   "metadata": {},
   "outputs": [
    {
     "output_type": "display_data",
     "data": {
      "text/plain": "<Figure size 432x288 with 1 Axes>",
      "image/svg+xml": "<?xml version=\"1.0\" encoding=\"utf-8\" standalone=\"no\"?>\n<!DOCTYPE svg PUBLIC \"-//W3C//DTD SVG 1.1//EN\"\n  \"http://www.w3.org/Graphics/SVG/1.1/DTD/svg11.dtd\">\n<!-- Created with matplotlib (https://matplotlib.org/) -->\n<svg height=\"248.518125pt\" version=\"1.1\" viewBox=\"0 0 378.465625 248.518125\" width=\"378.465625pt\" xmlns=\"http://www.w3.org/2000/svg\" xmlns:xlink=\"http://www.w3.org/1999/xlink\">\n <defs>\n  <style type=\"text/css\">\n*{stroke-linecap:butt;stroke-linejoin:round;}\n  </style>\n </defs>\n <g id=\"figure_1\">\n  <g id=\"patch_1\">\n   <path d=\"M 0 248.518125 \nL 378.465625 248.518125 \nL 378.465625 0 \nL 0 0 \nz\n\" style=\"fill:none;\"/>\n  </g>\n  <g id=\"axes_1\">\n   <g id=\"patch_2\">\n    <path d=\"M 36.465625 224.64 \nL 371.265625 224.64 \nL 371.265625 7.2 \nL 36.465625 7.2 \nz\n\" style=\"fill:#ffffff;\"/>\n   </g>\n   <g id=\"matplotlib.axis_1\">\n    <g id=\"xtick_1\">\n     <g id=\"line2d_1\">\n      <path clip-path=\"url(#p6db5850d8f)\" d=\"M 51.683807 224.64 \nL 51.683807 7.2 \n\" style=\"fill:none;stroke:#b0b0b0;stroke-linecap:square;stroke-width:0.8;\"/>\n     </g>\n     <g id=\"line2d_2\">\n      <defs>\n       <path d=\"M 0 0 \nL 0 3.5 \n\" id=\"mfd5db8ced7\" style=\"stroke:#000000;stroke-width:0.8;\"/>\n      </defs>\n      <g>\n       <use style=\"stroke:#000000;stroke-width:0.8;\" x=\"51.683807\" xlink:href=\"#mfd5db8ced7\" y=\"224.64\"/>\n      </g>\n     </g>\n     <g id=\"text_1\">\n      <!-- 0 -->\n      <defs>\n       <path d=\"M 31.78125 66.40625 \nQ 24.171875 66.40625 20.328125 58.90625 \nQ 16.5 51.421875 16.5 36.375 \nQ 16.5 21.390625 20.328125 13.890625 \nQ 24.171875 6.390625 31.78125 6.390625 \nQ 39.453125 6.390625 43.28125 13.890625 \nQ 47.125 21.390625 47.125 36.375 \nQ 47.125 51.421875 43.28125 58.90625 \nQ 39.453125 66.40625 31.78125 66.40625 \nz\nM 31.78125 74.21875 \nQ 44.046875 74.21875 50.515625 64.515625 \nQ 56.984375 54.828125 56.984375 36.375 \nQ 56.984375 17.96875 50.515625 8.265625 \nQ 44.046875 -1.421875 31.78125 -1.421875 \nQ 19.53125 -1.421875 13.0625 8.265625 \nQ 6.59375 17.96875 6.59375 36.375 \nQ 6.59375 54.828125 13.0625 64.515625 \nQ 19.53125 74.21875 31.78125 74.21875 \nz\n\" id=\"DejaVuSans-48\"/>\n      </defs>\n      <g transform=\"translate(48.502557 239.238437)scale(0.1 -0.1)\">\n       <use xlink:href=\"#DejaVuSans-48\"/>\n      </g>\n     </g>\n    </g>\n    <g id=\"xtick_2\">\n     <g id=\"line2d_3\">\n      <path clip-path=\"url(#p6db5850d8f)\" d=\"M 95.164326 224.64 \nL 95.164326 7.2 \n\" style=\"fill:none;stroke:#b0b0b0;stroke-linecap:square;stroke-width:0.8;\"/>\n     </g>\n     <g id=\"line2d_4\">\n      <g>\n       <use style=\"stroke:#000000;stroke-width:0.8;\" x=\"95.164326\" xlink:href=\"#mfd5db8ced7\" y=\"224.64\"/>\n      </g>\n     </g>\n     <g id=\"text_2\">\n      <!-- 2 -->\n      <defs>\n       <path d=\"M 19.1875 8.296875 \nL 53.609375 8.296875 \nL 53.609375 0 \nL 7.328125 0 \nL 7.328125 8.296875 \nQ 12.9375 14.109375 22.625 23.890625 \nQ 32.328125 33.6875 34.8125 36.53125 \nQ 39.546875 41.84375 41.421875 45.53125 \nQ 43.3125 49.21875 43.3125 52.78125 \nQ 43.3125 58.59375 39.234375 62.25 \nQ 35.15625 65.921875 28.609375 65.921875 \nQ 23.96875 65.921875 18.8125 64.3125 \nQ 13.671875 62.703125 7.8125 59.421875 \nL 7.8125 69.390625 \nQ 13.765625 71.78125 18.9375 73 \nQ 24.125 74.21875 28.421875 74.21875 \nQ 39.75 74.21875 46.484375 68.546875 \nQ 53.21875 62.890625 53.21875 53.421875 \nQ 53.21875 48.921875 51.53125 44.890625 \nQ 49.859375 40.875 45.40625 35.40625 \nQ 44.1875 33.984375 37.640625 27.21875 \nQ 31.109375 20.453125 19.1875 8.296875 \nz\n\" id=\"DejaVuSans-50\"/>\n      </defs>\n      <g transform=\"translate(91.983076 239.238437)scale(0.1 -0.1)\">\n       <use xlink:href=\"#DejaVuSans-50\"/>\n      </g>\n     </g>\n    </g>\n    <g id=\"xtick_3\">\n     <g id=\"line2d_5\">\n      <path clip-path=\"url(#p6db5850d8f)\" d=\"M 138.644846 224.64 \nL 138.644846 7.2 \n\" style=\"fill:none;stroke:#b0b0b0;stroke-linecap:square;stroke-width:0.8;\"/>\n     </g>\n     <g id=\"line2d_6\">\n      <g>\n       <use style=\"stroke:#000000;stroke-width:0.8;\" x=\"138.644846\" xlink:href=\"#mfd5db8ced7\" y=\"224.64\"/>\n      </g>\n     </g>\n     <g id=\"text_3\">\n      <!-- 4 -->\n      <defs>\n       <path d=\"M 37.796875 64.3125 \nL 12.890625 25.390625 \nL 37.796875 25.390625 \nz\nM 35.203125 72.90625 \nL 47.609375 72.90625 \nL 47.609375 25.390625 \nL 58.015625 25.390625 \nL 58.015625 17.1875 \nL 47.609375 17.1875 \nL 47.609375 0 \nL 37.796875 0 \nL 37.796875 17.1875 \nL 4.890625 17.1875 \nL 4.890625 26.703125 \nz\n\" id=\"DejaVuSans-52\"/>\n      </defs>\n      <g transform=\"translate(135.463596 239.238437)scale(0.1 -0.1)\">\n       <use xlink:href=\"#DejaVuSans-52\"/>\n      </g>\n     </g>\n    </g>\n    <g id=\"xtick_4\">\n     <g id=\"line2d_7\">\n      <path clip-path=\"url(#p6db5850d8f)\" d=\"M 182.125365 224.64 \nL 182.125365 7.2 \n\" style=\"fill:none;stroke:#b0b0b0;stroke-linecap:square;stroke-width:0.8;\"/>\n     </g>\n     <g id=\"line2d_8\">\n      <g>\n       <use style=\"stroke:#000000;stroke-width:0.8;\" x=\"182.125365\" xlink:href=\"#mfd5db8ced7\" y=\"224.64\"/>\n      </g>\n     </g>\n     <g id=\"text_4\">\n      <!-- 6 -->\n      <defs>\n       <path d=\"M 33.015625 40.375 \nQ 26.375 40.375 22.484375 35.828125 \nQ 18.609375 31.296875 18.609375 23.390625 \nQ 18.609375 15.53125 22.484375 10.953125 \nQ 26.375 6.390625 33.015625 6.390625 \nQ 39.65625 6.390625 43.53125 10.953125 \nQ 47.40625 15.53125 47.40625 23.390625 \nQ 47.40625 31.296875 43.53125 35.828125 \nQ 39.65625 40.375 33.015625 40.375 \nz\nM 52.59375 71.296875 \nL 52.59375 62.3125 \nQ 48.875 64.0625 45.09375 64.984375 \nQ 41.3125 65.921875 37.59375 65.921875 \nQ 27.828125 65.921875 22.671875 59.328125 \nQ 17.53125 52.734375 16.796875 39.40625 \nQ 19.671875 43.65625 24.015625 45.921875 \nQ 28.375 48.1875 33.59375 48.1875 \nQ 44.578125 48.1875 50.953125 41.515625 \nQ 57.328125 34.859375 57.328125 23.390625 \nQ 57.328125 12.15625 50.6875 5.359375 \nQ 44.046875 -1.421875 33.015625 -1.421875 \nQ 20.359375 -1.421875 13.671875 8.265625 \nQ 6.984375 17.96875 6.984375 36.375 \nQ 6.984375 53.65625 15.1875 63.9375 \nQ 23.390625 74.21875 37.203125 74.21875 \nQ 40.921875 74.21875 44.703125 73.484375 \nQ 48.484375 72.75 52.59375 71.296875 \nz\n\" id=\"DejaVuSans-54\"/>\n      </defs>\n      <g transform=\"translate(178.944115 239.238437)scale(0.1 -0.1)\">\n       <use xlink:href=\"#DejaVuSans-54\"/>\n      </g>\n     </g>\n    </g>\n    <g id=\"xtick_5\">\n     <g id=\"line2d_9\">\n      <path clip-path=\"url(#p6db5850d8f)\" d=\"M 225.605885 224.64 \nL 225.605885 7.2 \n\" style=\"fill:none;stroke:#b0b0b0;stroke-linecap:square;stroke-width:0.8;\"/>\n     </g>\n     <g id=\"line2d_10\">\n      <g>\n       <use style=\"stroke:#000000;stroke-width:0.8;\" x=\"225.605885\" xlink:href=\"#mfd5db8ced7\" y=\"224.64\"/>\n      </g>\n     </g>\n     <g id=\"text_5\">\n      <!-- 8 -->\n      <defs>\n       <path d=\"M 31.78125 34.625 \nQ 24.75 34.625 20.71875 30.859375 \nQ 16.703125 27.09375 16.703125 20.515625 \nQ 16.703125 13.921875 20.71875 10.15625 \nQ 24.75 6.390625 31.78125 6.390625 \nQ 38.8125 6.390625 42.859375 10.171875 \nQ 46.921875 13.96875 46.921875 20.515625 \nQ 46.921875 27.09375 42.890625 30.859375 \nQ 38.875 34.625 31.78125 34.625 \nz\nM 21.921875 38.8125 \nQ 15.578125 40.375 12.03125 44.71875 \nQ 8.5 49.078125 8.5 55.328125 \nQ 8.5 64.0625 14.71875 69.140625 \nQ 20.953125 74.21875 31.78125 74.21875 \nQ 42.671875 74.21875 48.875 69.140625 \nQ 55.078125 64.0625 55.078125 55.328125 \nQ 55.078125 49.078125 51.53125 44.71875 \nQ 48 40.375 41.703125 38.8125 \nQ 48.828125 37.15625 52.796875 32.3125 \nQ 56.78125 27.484375 56.78125 20.515625 \nQ 56.78125 9.90625 50.3125 4.234375 \nQ 43.84375 -1.421875 31.78125 -1.421875 \nQ 19.734375 -1.421875 13.25 4.234375 \nQ 6.78125 9.90625 6.78125 20.515625 \nQ 6.78125 27.484375 10.78125 32.3125 \nQ 14.796875 37.15625 21.921875 38.8125 \nz\nM 18.3125 54.390625 \nQ 18.3125 48.734375 21.84375 45.5625 \nQ 25.390625 42.390625 31.78125 42.390625 \nQ 38.140625 42.390625 41.71875 45.5625 \nQ 45.3125 48.734375 45.3125 54.390625 \nQ 45.3125 60.0625 41.71875 63.234375 \nQ 38.140625 66.40625 31.78125 66.40625 \nQ 25.390625 66.40625 21.84375 63.234375 \nQ 18.3125 60.0625 18.3125 54.390625 \nz\n\" id=\"DejaVuSans-56\"/>\n      </defs>\n      <g transform=\"translate(222.424635 239.238437)scale(0.1 -0.1)\">\n       <use xlink:href=\"#DejaVuSans-56\"/>\n      </g>\n     </g>\n    </g>\n    <g id=\"xtick_6\">\n     <g id=\"line2d_11\">\n      <path clip-path=\"url(#p6db5850d8f)\" d=\"M 269.086404 224.64 \nL 269.086404 7.2 \n\" style=\"fill:none;stroke:#b0b0b0;stroke-linecap:square;stroke-width:0.8;\"/>\n     </g>\n     <g id=\"line2d_12\">\n      <g>\n       <use style=\"stroke:#000000;stroke-width:0.8;\" x=\"269.086404\" xlink:href=\"#mfd5db8ced7\" y=\"224.64\"/>\n      </g>\n     </g>\n     <g id=\"text_6\">\n      <!-- 10 -->\n      <defs>\n       <path d=\"M 12.40625 8.296875 \nL 28.515625 8.296875 \nL 28.515625 63.921875 \nL 10.984375 60.40625 \nL 10.984375 69.390625 \nL 28.421875 72.90625 \nL 38.28125 72.90625 \nL 38.28125 8.296875 \nL 54.390625 8.296875 \nL 54.390625 0 \nL 12.40625 0 \nz\n\" id=\"DejaVuSans-49\"/>\n      </defs>\n      <g transform=\"translate(262.723904 239.238437)scale(0.1 -0.1)\">\n       <use xlink:href=\"#DejaVuSans-49\"/>\n       <use x=\"63.623047\" xlink:href=\"#DejaVuSans-48\"/>\n      </g>\n     </g>\n    </g>\n    <g id=\"xtick_7\">\n     <g id=\"line2d_13\">\n      <path clip-path=\"url(#p6db5850d8f)\" d=\"M 312.566924 224.64 \nL 312.566924 7.2 \n\" style=\"fill:none;stroke:#b0b0b0;stroke-linecap:square;stroke-width:0.8;\"/>\n     </g>\n     <g id=\"line2d_14\">\n      <g>\n       <use style=\"stroke:#000000;stroke-width:0.8;\" x=\"312.566924\" xlink:href=\"#mfd5db8ced7\" y=\"224.64\"/>\n      </g>\n     </g>\n     <g id=\"text_7\">\n      <!-- 12 -->\n      <g transform=\"translate(306.204424 239.238437)scale(0.1 -0.1)\">\n       <use xlink:href=\"#DejaVuSans-49\"/>\n       <use x=\"63.623047\" xlink:href=\"#DejaVuSans-50\"/>\n      </g>\n     </g>\n    </g>\n    <g id=\"xtick_8\">\n     <g id=\"line2d_15\">\n      <path clip-path=\"url(#p6db5850d8f)\" d=\"M 356.047443 224.64 \nL 356.047443 7.2 \n\" style=\"fill:none;stroke:#b0b0b0;stroke-linecap:square;stroke-width:0.8;\"/>\n     </g>\n     <g id=\"line2d_16\">\n      <g>\n       <use style=\"stroke:#000000;stroke-width:0.8;\" x=\"356.047443\" xlink:href=\"#mfd5db8ced7\" y=\"224.64\"/>\n      </g>\n     </g>\n     <g id=\"text_8\">\n      <!-- 14 -->\n      <g transform=\"translate(349.684943 239.238437)scale(0.1 -0.1)\">\n       <use xlink:href=\"#DejaVuSans-49\"/>\n       <use x=\"63.623047\" xlink:href=\"#DejaVuSans-52\"/>\n      </g>\n     </g>\n    </g>\n   </g>\n   <g id=\"matplotlib.axis_2\">\n    <g id=\"ytick_1\">\n     <g id=\"line2d_17\">\n      <path clip-path=\"url(#p6db5850d8f)\" d=\"M 36.465625 188.196518 \nL 371.265625 188.196518 \n\" style=\"fill:none;stroke:#b0b0b0;stroke-linecap:square;stroke-width:0.8;\"/>\n     </g>\n     <g id=\"line2d_18\">\n      <defs>\n       <path d=\"M 0 0 \nL -3.5 0 \n\" id=\"ma0076ddb14\" style=\"stroke:#000000;stroke-width:0.8;\"/>\n      </defs>\n      <g>\n       <use style=\"stroke:#000000;stroke-width:0.8;\" x=\"36.465625\" xlink:href=\"#ma0076ddb14\" y=\"188.196518\"/>\n      </g>\n     </g>\n     <g id=\"text_9\">\n      <!-- 0.75 -->\n      <defs>\n       <path d=\"M 10.6875 12.40625 \nL 21 12.40625 \nL 21 0 \nL 10.6875 0 \nz\n\" id=\"DejaVuSans-46\"/>\n       <path d=\"M 8.203125 72.90625 \nL 55.078125 72.90625 \nL 55.078125 68.703125 \nL 28.609375 0 \nL 18.3125 0 \nL 43.21875 64.59375 \nL 8.203125 64.59375 \nz\n\" id=\"DejaVuSans-55\"/>\n       <path d=\"M 10.796875 72.90625 \nL 49.515625 72.90625 \nL 49.515625 64.59375 \nL 19.828125 64.59375 \nL 19.828125 46.734375 \nQ 21.96875 47.46875 24.109375 47.828125 \nQ 26.265625 48.1875 28.421875 48.1875 \nQ 40.625 48.1875 47.75 41.5 \nQ 54.890625 34.8125 54.890625 23.390625 \nQ 54.890625 11.625 47.5625 5.09375 \nQ 40.234375 -1.421875 26.90625 -1.421875 \nQ 22.3125 -1.421875 17.546875 -0.640625 \nQ 12.796875 0.140625 7.71875 1.703125 \nL 7.71875 11.625 \nQ 12.109375 9.234375 16.796875 8.0625 \nQ 21.484375 6.890625 26.703125 6.890625 \nQ 35.15625 6.890625 40.078125 11.328125 \nQ 45.015625 15.765625 45.015625 23.390625 \nQ 45.015625 31 40.078125 35.4375 \nQ 35.15625 39.890625 26.703125 39.890625 \nQ 22.75 39.890625 18.8125 39.015625 \nQ 14.890625 38.140625 10.796875 36.28125 \nz\n\" id=\"DejaVuSans-53\"/>\n      </defs>\n      <g transform=\"translate(7.2 191.995737)scale(0.1 -0.1)\">\n       <use xlink:href=\"#DejaVuSans-48\"/>\n       <use x=\"63.623047\" xlink:href=\"#DejaVuSans-46\"/>\n       <use x=\"95.410156\" xlink:href=\"#DejaVuSans-55\"/>\n       <use x=\"159.033203\" xlink:href=\"#DejaVuSans-53\"/>\n      </g>\n     </g>\n    </g>\n    <g id=\"ytick_2\">\n     <g id=\"line2d_19\">\n      <path clip-path=\"url(#p6db5850d8f)\" d=\"M 36.465625 148.373884 \nL 371.265625 148.373884 \n\" style=\"fill:none;stroke:#b0b0b0;stroke-linecap:square;stroke-width:0.8;\"/>\n     </g>\n     <g id=\"line2d_20\">\n      <g>\n       <use style=\"stroke:#000000;stroke-width:0.8;\" x=\"36.465625\" xlink:href=\"#ma0076ddb14\" y=\"148.373884\"/>\n      </g>\n     </g>\n     <g id=\"text_10\">\n      <!-- 0.80 -->\n      <g transform=\"translate(7.2 152.173102)scale(0.1 -0.1)\">\n       <use xlink:href=\"#DejaVuSans-48\"/>\n       <use x=\"63.623047\" xlink:href=\"#DejaVuSans-46\"/>\n       <use x=\"95.410156\" xlink:href=\"#DejaVuSans-56\"/>\n       <use x=\"159.033203\" xlink:href=\"#DejaVuSans-48\"/>\n      </g>\n     </g>\n    </g>\n    <g id=\"ytick_3\">\n     <g id=\"line2d_21\">\n      <path clip-path=\"url(#p6db5850d8f)\" d=\"M 36.465625 108.551249 \nL 371.265625 108.551249 \n\" style=\"fill:none;stroke:#b0b0b0;stroke-linecap:square;stroke-width:0.8;\"/>\n     </g>\n     <g id=\"line2d_22\">\n      <g>\n       <use style=\"stroke:#000000;stroke-width:0.8;\" x=\"36.465625\" xlink:href=\"#ma0076ddb14\" y=\"108.551249\"/>\n      </g>\n     </g>\n     <g id=\"text_11\">\n      <!-- 0.85 -->\n      <g transform=\"translate(7.2 112.350468)scale(0.1 -0.1)\">\n       <use xlink:href=\"#DejaVuSans-48\"/>\n       <use x=\"63.623047\" xlink:href=\"#DejaVuSans-46\"/>\n       <use x=\"95.410156\" xlink:href=\"#DejaVuSans-56\"/>\n       <use x=\"159.033203\" xlink:href=\"#DejaVuSans-53\"/>\n      </g>\n     </g>\n    </g>\n    <g id=\"ytick_4\">\n     <g id=\"line2d_23\">\n      <path clip-path=\"url(#p6db5850d8f)\" d=\"M 36.465625 68.728615 \nL 371.265625 68.728615 \n\" style=\"fill:none;stroke:#b0b0b0;stroke-linecap:square;stroke-width:0.8;\"/>\n     </g>\n     <g id=\"line2d_24\">\n      <g>\n       <use style=\"stroke:#000000;stroke-width:0.8;\" x=\"36.465625\" xlink:href=\"#ma0076ddb14\" y=\"68.728615\"/>\n      </g>\n     </g>\n     <g id=\"text_12\">\n      <!-- 0.90 -->\n      <defs>\n       <path d=\"M 10.984375 1.515625 \nL 10.984375 10.5 \nQ 14.703125 8.734375 18.5 7.8125 \nQ 22.3125 6.890625 25.984375 6.890625 \nQ 35.75 6.890625 40.890625 13.453125 \nQ 46.046875 20.015625 46.78125 33.40625 \nQ 43.953125 29.203125 39.59375 26.953125 \nQ 35.25 24.703125 29.984375 24.703125 \nQ 19.046875 24.703125 12.671875 31.3125 \nQ 6.296875 37.9375 6.296875 49.421875 \nQ 6.296875 60.640625 12.9375 67.421875 \nQ 19.578125 74.21875 30.609375 74.21875 \nQ 43.265625 74.21875 49.921875 64.515625 \nQ 56.59375 54.828125 56.59375 36.375 \nQ 56.59375 19.140625 48.40625 8.859375 \nQ 40.234375 -1.421875 26.421875 -1.421875 \nQ 22.703125 -1.421875 18.890625 -0.6875 \nQ 15.09375 0.046875 10.984375 1.515625 \nz\nM 30.609375 32.421875 \nQ 37.25 32.421875 41.125 36.953125 \nQ 45.015625 41.5 45.015625 49.421875 \nQ 45.015625 57.28125 41.125 61.84375 \nQ 37.25 66.40625 30.609375 66.40625 \nQ 23.96875 66.40625 20.09375 61.84375 \nQ 16.21875 57.28125 16.21875 49.421875 \nQ 16.21875 41.5 20.09375 36.953125 \nQ 23.96875 32.421875 30.609375 32.421875 \nz\n\" id=\"DejaVuSans-57\"/>\n      </defs>\n      <g transform=\"translate(7.2 72.527834)scale(0.1 -0.1)\">\n       <use xlink:href=\"#DejaVuSans-48\"/>\n       <use x=\"63.623047\" xlink:href=\"#DejaVuSans-46\"/>\n       <use x=\"95.410156\" xlink:href=\"#DejaVuSans-57\"/>\n       <use x=\"159.033203\" xlink:href=\"#DejaVuSans-48\"/>\n      </g>\n     </g>\n    </g>\n    <g id=\"ytick_5\">\n     <g id=\"line2d_25\">\n      <path clip-path=\"url(#p6db5850d8f)\" d=\"M 36.465625 28.905981 \nL 371.265625 28.905981 \n\" style=\"fill:none;stroke:#b0b0b0;stroke-linecap:square;stroke-width:0.8;\"/>\n     </g>\n     <g id=\"line2d_26\">\n      <g>\n       <use style=\"stroke:#000000;stroke-width:0.8;\" x=\"36.465625\" xlink:href=\"#ma0076ddb14\" y=\"28.905981\"/>\n      </g>\n     </g>\n     <g id=\"text_13\">\n      <!-- 0.95 -->\n      <g transform=\"translate(7.2 32.7052)scale(0.1 -0.1)\">\n       <use xlink:href=\"#DejaVuSans-48\"/>\n       <use x=\"63.623047\" xlink:href=\"#DejaVuSans-46\"/>\n       <use x=\"95.410156\" xlink:href=\"#DejaVuSans-57\"/>\n       <use x=\"159.033203\" xlink:href=\"#DejaVuSans-53\"/>\n      </g>\n     </g>\n    </g>\n   </g>\n   <g id=\"line2d_27\">\n    <path clip-path=\"url(#p6db5850d8f)\" d=\"M 51.683807 214.756364 \nL 73.424067 191.966302 \nL 95.164326 190.509795 \nL 116.904586 155.596448 \nL 138.644846 155.981994 \nL 160.385106 75.617039 \nL 182.125365 56.468247 \nL 203.865625 58.824362 \nL 225.605885 54.326324 \nL 247.346144 57.067986 \nL 269.086404 49.999639 \nL 290.826664 52.227239 \nL 312.566924 48.757324 \nL 334.307183 43.402516 \nL 356.047443 49.828285 \n\" style=\"fill:none;stroke:#1f77b4;stroke-linecap:square;stroke-width:1.5;\"/>\n   </g>\n   <g id=\"line2d_28\">\n    <path clip-path=\"url(#p6db5850d8f)\" d=\"M 51.683807 171.603754 \nL 73.424067 131.158891 \nL 95.164326 136.34413 \nL 116.904586 132.195938 \nL 138.644846 122.862509 \nL 160.385106 52.34326 \nL 182.125365 29.52821 \nL 203.865625 37.824592 \nL 225.605885 27.454114 \nL 247.346144 41.972783 \nL 269.086404 30.565257 \nL 290.826664 17.083636 \nL 312.566924 24.342971 \nL 334.307183 27.454114 \nL 356.047443 19.157732 \n\" style=\"fill:none;stroke:#ff7f0e;stroke-linecap:square;stroke-width:1.5;\"/>\n   </g>\n   <g id=\"patch_3\">\n    <path d=\"M 36.465625 224.64 \nL 36.465625 7.2 \n\" style=\"fill:none;stroke:#000000;stroke-linecap:square;stroke-linejoin:miter;stroke-width:0.8;\"/>\n   </g>\n   <g id=\"patch_4\">\n    <path d=\"M 371.265625 224.64 \nL 371.265625 7.2 \n\" style=\"fill:none;stroke:#000000;stroke-linecap:square;stroke-linejoin:miter;stroke-width:0.8;\"/>\n   </g>\n   <g id=\"patch_5\">\n    <path d=\"M 36.465625 224.64 \nL 371.265625 224.64 \n\" style=\"fill:none;stroke:#000000;stroke-linecap:square;stroke-linejoin:miter;stroke-width:0.8;\"/>\n   </g>\n   <g id=\"patch_6\">\n    <path d=\"M 36.465625 7.2 \nL 371.265625 7.2 \n\" style=\"fill:none;stroke:#000000;stroke-linecap:square;stroke-linejoin:miter;stroke-width:0.8;\"/>\n   </g>\n   <g id=\"legend_1\">\n    <g id=\"patch_7\">\n     <path d=\"M 43.465625 44.834375 \nL 112.415625 44.834375 \nQ 114.415625 44.834375 114.415625 42.834375 \nL 114.415625 14.2 \nQ 114.415625 12.2 112.415625 12.2 \nL 43.465625 12.2 \nQ 41.465625 12.2 41.465625 14.2 \nL 41.465625 42.834375 \nQ 41.465625 44.834375 43.465625 44.834375 \nz\n\" style=\"fill:#ffffff;opacity:0.8;stroke:#cccccc;stroke-linejoin:miter;\"/>\n    </g>\n    <g id=\"line2d_29\">\n     <path d=\"M 45.465625 20.298437 \nL 65.465625 20.298437 \n\" style=\"fill:none;stroke:#1f77b4;stroke-linecap:square;stroke-width:1.5;\"/>\n    </g>\n    <g id=\"line2d_30\"/>\n    <g id=\"text_14\">\n     <!-- acc -->\n     <defs>\n      <path d=\"M 34.28125 27.484375 \nQ 23.390625 27.484375 19.1875 25 \nQ 14.984375 22.515625 14.984375 16.5 \nQ 14.984375 11.71875 18.140625 8.90625 \nQ 21.296875 6.109375 26.703125 6.109375 \nQ 34.1875 6.109375 38.703125 11.40625 \nQ 43.21875 16.703125 43.21875 25.484375 \nL 43.21875 27.484375 \nz\nM 52.203125 31.203125 \nL 52.203125 0 \nL 43.21875 0 \nL 43.21875 8.296875 \nQ 40.140625 3.328125 35.546875 0.953125 \nQ 30.953125 -1.421875 24.3125 -1.421875 \nQ 15.921875 -1.421875 10.953125 3.296875 \nQ 6 8.015625 6 15.921875 \nQ 6 25.140625 12.171875 29.828125 \nQ 18.359375 34.515625 30.609375 34.515625 \nL 43.21875 34.515625 \nL 43.21875 35.40625 \nQ 43.21875 41.609375 39.140625 45 \nQ 35.0625 48.390625 27.6875 48.390625 \nQ 23 48.390625 18.546875 47.265625 \nQ 14.109375 46.140625 10.015625 43.890625 \nL 10.015625 52.203125 \nQ 14.9375 54.109375 19.578125 55.046875 \nQ 24.21875 56 28.609375 56 \nQ 40.484375 56 46.34375 49.84375 \nQ 52.203125 43.703125 52.203125 31.203125 \nz\n\" id=\"DejaVuSans-97\"/>\n      <path d=\"M 48.78125 52.59375 \nL 48.78125 44.1875 \nQ 44.96875 46.296875 41.140625 47.34375 \nQ 37.3125 48.390625 33.40625 48.390625 \nQ 24.65625 48.390625 19.8125 42.84375 \nQ 14.984375 37.3125 14.984375 27.296875 \nQ 14.984375 17.28125 19.8125 11.734375 \nQ 24.65625 6.203125 33.40625 6.203125 \nQ 37.3125 6.203125 41.140625 7.25 \nQ 44.96875 8.296875 48.78125 10.40625 \nL 48.78125 2.09375 \nQ 45.015625 0.34375 40.984375 -0.53125 \nQ 36.96875 -1.421875 32.421875 -1.421875 \nQ 20.0625 -1.421875 12.78125 6.34375 \nQ 5.515625 14.109375 5.515625 27.296875 \nQ 5.515625 40.671875 12.859375 48.328125 \nQ 20.21875 56 33.015625 56 \nQ 37.15625 56 41.109375 55.140625 \nQ 45.0625 54.296875 48.78125 52.59375 \nz\n\" id=\"DejaVuSans-99\"/>\n     </defs>\n     <g transform=\"translate(73.465625 23.798437)scale(0.1 -0.1)\">\n      <use xlink:href=\"#DejaVuSans-97\"/>\n      <use x=\"61.279297\" xlink:href=\"#DejaVuSans-99\"/>\n      <use x=\"116.259766\" xlink:href=\"#DejaVuSans-99\"/>\n     </g>\n    </g>\n    <g id=\"line2d_31\">\n     <path d=\"M 45.465625 34.976562 \nL 65.465625 34.976562 \n\" style=\"fill:none;stroke:#ff7f0e;stroke-linecap:square;stroke-width:1.5;\"/>\n    </g>\n    <g id=\"line2d_32\"/>\n    <g id=\"text_15\">\n     <!-- val_acc -->\n     <defs>\n      <path d=\"M 2.984375 54.6875 \nL 12.5 54.6875 \nL 29.59375 8.796875 \nL 46.6875 54.6875 \nL 56.203125 54.6875 \nL 35.6875 0 \nL 23.484375 0 \nz\n\" id=\"DejaVuSans-118\"/>\n      <path d=\"M 9.421875 75.984375 \nL 18.40625 75.984375 \nL 18.40625 0 \nL 9.421875 0 \nz\n\" id=\"DejaVuSans-108\"/>\n      <path d=\"M 50.984375 -16.609375 \nL 50.984375 -23.578125 \nL -0.984375 -23.578125 \nL -0.984375 -16.609375 \nz\n\" id=\"DejaVuSans-95\"/>\n     </defs>\n     <g transform=\"translate(73.465625 38.476562)scale(0.1 -0.1)\">\n      <use xlink:href=\"#DejaVuSans-118\"/>\n      <use x=\"59.179688\" xlink:href=\"#DejaVuSans-97\"/>\n      <use x=\"120.458984\" xlink:href=\"#DejaVuSans-108\"/>\n      <use x=\"148.242188\" xlink:href=\"#DejaVuSans-95\"/>\n      <use x=\"198.242188\" xlink:href=\"#DejaVuSans-97\"/>\n      <use x=\"259.521484\" xlink:href=\"#DejaVuSans-99\"/>\n      <use x=\"314.501953\" xlink:href=\"#DejaVuSans-99\"/>\n     </g>\n    </g>\n   </g>\n  </g>\n </g>\n <defs>\n  <clipPath id=\"p6db5850d8f\">\n   <rect height=\"217.44\" width=\"334.8\" x=\"36.465625\" y=\"7.2\"/>\n  </clipPath>\n </defs>\n</svg>\n",
      "image/png": "[encoded data removed]"
     },
     "metadata": {
      "needs_background": "light"
     }
    }
   ],
   "source": [
    "with open(log_file, 'r') as file:\n",
    "    log = json.load(file)\n",
    "\n",
    "plt.plot(log['acc'], label='acc')\n",
    "plt.plot(log['val_acc'], label='val_acc')\n",
    "plt.legend()\n",
    "plt.grid()"
   ]
  },
  {
   "cell_type": "code",
   "execution_count": null,
   "metadata": {},
   "outputs": [],
   "source": [
    "# # Execute this cell if you want the current variables to be added to the csv-file\n",
    "# import csv\n",
    "\n",
    "# with open(log_file, 'r') as file:\n",
    "#     log = json.load(file)\n",
    "#     ACC = log['acc']\n",
    "#     VAL_ACC = log['val_acc']\n",
    "\n",
    "# with open('var_log.csv', 'a') as f:\n",
    "#     writer = csv.writer(f, delimiter=',', lineterminator='\\n')\n",
    "#     writer.writerow([\n",
    "#         Config.DATASET_DIR.split('/')[1],        \n",
    "#         Config.LEARNING_RATE,\n",
    "#         Config.WEIGHT_DECAY,\n",
    "#         Config.CLASSES,\n",
    "#         Config.OPT_TYPE,\n",
    "#         Config.EPOCHS,\n",
    "#         Config.LR_STEPS,\n",
    "#         Config.DO_EARLY_STOPPING,\n",
    "#         Config.STOP_AFTER,\n",
    "#         Config.SEED,\n",
    "#         Config.BATCH_SIZE,\n",
    "#         Config.NUM_WORKERS,\n",
    "#         # saves a list of len(EPOCHS) with accuracies\n",
    "#         ACC,\n",
    "#         VAL_ACC,\n",
    "#         # insert optional comment\n",
    "#         \"\"\n",
    "#     ])\n",
    "# f.close()\n",
    "\n"
   ]
  },
  {
   "cell_type": "code",
   "execution_count": 11,
   "metadata": {
    "tags": []
   },
   "outputs": [
    {
     "output_type": "stream",
     "name": "stdout",
     "text": "Index   Name                \n0       model_specs.json    \n1       model.pt            \n2       log.json            \nLoading  model.pt  ...\n\n Accuracy of the network : 95% \n\nAccuracy of   alexander_bec :  87.50 % \t   Number of images: 8\nAccuracy of       alina_sch :  87.50 % \t   Number of images: 8\nAccuracy of      alissa_buh : 100.00 % \t   Number of images: 8\nAccuracy of      amanda_dab : 100.00 % \t   Number of images: 8\nAccuracy of        anna_kab :  87.50 % \t   Number of images: 8\nAccuracy of        anni_qua :  87.50 % \t   Number of images: 8\nAccuracy of     beatrix_mah : 100.00 % \t   Number of images: 8\nAccuracy of       clara_pau : 100.00 % \t   Number of images: 8\nAccuracy of     clemens_blu : 100.00 % \t   Number of images: 8\nAccuracy of      collin_sch :  75.00 % \t   Number of images: 8\nAccuracy of       david_fau :  62.50 % \t   Number of images: 8\nAccuracy of       falco_len : 100.00 % \t   Number of images: 8\nAccuracy of       felix_mec : 100.00 % \t   Number of images: 8\nAccuracy of      gregor_spi : 100.00 % \t   Number of images: 8\nAccuracy of      hammam_als : 100.00 % \t   Number of images: 8\nAccuracy of       janna_qua : 100.00 % \t   Number of images: 8\nAccuracy of      janole_pen : 100.00 % \t   Number of images: 8\nAccuracy of       jesse_kru : 100.00 % \t   Number of images: 8\nAccuracy of    johannes_wie :  87.50 % \t   Number of images: 8\nAccuracy of        jule_dre : 100.00 % \t   Number of images: 8\nAccuracy of       julia_fis : 100.00 % \t   Number of images: 8\nAccuracy of      konrad_von : 100.00 % \t   Number of images: 8\nAccuracy of        lars_fin : 100.00 % \t   Number of images: 8\nAccuracy of       linus_fal :  87.50 % \t   Number of images: 8\nAccuracy of        lynn_man : 100.00 % \t   Number of images: 8\nAccuracy of       maike_her :  87.50 % \t   Number of images: 8\nAccuracy of       malte_gas : 100.00 % \t   Number of images: 8\nAccuracy of      marcel_nim : 100.00 % \t   Number of images: 8\nAccuracy of      marcus_jue : 100.00 % \t   Number of images: 8\nAccuracy of     marejke_wen : 100.00 % \t   Number of images: 8\nAccuracy of      marina_fri :  75.00 % \t   Number of images: 8\nAccuracy of      marina_han : 100.00 % \t   Number of images: 8\nAccuracy of     matilda_kni : 100.00 % \t   Number of images: 8\nAccuracy of       meiko_pri :  87.50 % \t   Number of images: 8\nAccuracy of        mila_wol :  75.00 % \t   Number of images: 8\nAccuracy of    mohammed_muh : 100.00 % \t   Number of images: 8\nAccuracy of      moritz_bor : 100.00 % \t   Number of images: 8\nAccuracy of      moritz_mei : 100.00 % \t   Number of images: 8\nAccuracy of        nils_loo : 100.00 % \t   Number of images: 8\nAccuracy of     pauline_bus :  87.50 % \t   Number of images: 8\nAccuracy of      robert_kle : 100.00 % \t   Number of images: 8\nAccuracy of      robert_sch :  87.50 % \t   Number of images: 8\nAccuracy of       sarah_amo : 100.00 % \t   Number of images: 8\nAccuracy of       sarah_feh : 100.00 % \t   Number of images: 8\nAccuracy of        sina_jun : 100.00 % \t   Number of images: 8\nAccuracy of         tim_moe : 100.00 % \t   Number of images: 8\nAccuracy of      yannik_obe : 100.00 % \t   Number of images: 8\n"
    }
   ],
   "source": [
    "test = TestMyModel(dl_test, Config.FOLDER)\n",
    "\n",
    "test.load_model()\n",
    "test.start_testing()\n",
    "test.class_acc()"
   ]
  },
  {
   "cell_type": "code",
   "execution_count": null,
   "metadata": {},
   "outputs": [],
   "source": [
    "# model.classifier = nn.Sequential(*list(model.classifier.children())[:-2])\n",
    "# model.eval()"
   ]
  },
  {
   "cell_type": "code",
   "execution_count": null,
   "metadata": {},
   "outputs": [],
   "source": [
    "# import torch\n",
    "# torch.save(model, './models/model_classification_MN_classifier_removed_85%.pt')"
   ]
  },
  {
   "cell_type": "code",
   "execution_count": null,
   "metadata": {},
   "outputs": [],
   "source": []
  }
 ],
 "metadata": {
  "language_info": {
   "codemirror_mode": {
    "name": "ipython",
    "version": 3
   },
   "file_extension": ".py",
   "mimetype": "text/x-python",
   "name": "python",
   "nbconvert_exporter": "python",
   "pygments_lexer": "ipython3",
   "version": "3.7.8-final"
  },
  "orig_nbformat": 2,
  "kernelspec": {
   "name": "python37764bitbachelorthesisvenv2dac4a23d3734769a463ced8ddada848",
   "display_name": "Python 3.7.7 64-bit ('Bachelorthesis': venv)"
  }
 },
 "nbformat": 4,
 "nbformat_minor": 2
}