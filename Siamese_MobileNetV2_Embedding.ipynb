{
 "cells": [
  {
   "cell_type": "code",
   "execution_count": 1,
   "metadata": {},
   "outputs": [],
   "source": [
    "import sys\n",
    "sys.path.append('../..')\n",
    "import numpy as np\n",
    "# PyTorch\n",
    "import torch\n",
    "import torch.nn.functional as F\n",
    "from torch import cuda\n",
    "from torch.autograd import Variable\n",
    "from torchvision.models.mobilenet import mobilenet_v2\n",
    "\n",
    "# DLBio and own scripts\n",
    "from DLBio.pytorch_helpers import get_device\n",
    "import transforms_data as td\n",
    "from helpers import cuda_conv\n",
    "import metrics as M\n",
    "import acquire_ear_dataset as a\n",
    "\n",
    "from PIL import Image\n",
    "import glob"
   ]
  },
  {
   "cell_type": "code",
   "execution_count": 2,
   "metadata": {},
   "outputs": [],
   "source": [
    "class Config():\n",
    "    DEVICE = get_device()\n",
    "    DATASET_DIR = '../dataset/'\n",
    "    AUTH_DATASET_DIR = '../auth_dataset/unknown-auth/'\n",
    "    MODEL_DIR = './models/model_MN_color.pt'\n",
    "    RESIZE_SMALL = False\n",
    "    DATABASE_FOLDER = './embeddings/'"
   ]
  },
  {
   "cell_type": "code",
   "execution_count": 3,
   "metadata": {},
   "outputs": [],
   "source": [
    "model = torch.load(Config.MODEL_DIR, map_location=torch.device(Config.DEVICE))\n",
    "preprocess = td.transforms_siamese_verification( td.get_resize(Config.RESIZE_SMALL) )"
   ]
  },
  {
   "cell_type": "code",
   "execution_count": 4,
   "metadata": {},
   "outputs": [],
   "source": [
    "def image_pipeline(input_, preprocess):\n",
    "    #input_ = input_.convert(\"L\")\n",
    "    input_ = preprocess(input_)\n",
    "    input_ = input_.reshape(-1, td.get_resize(Config.RESIZE_SMALL)[0], td.get_resize(Config.RESIZE_SMALL)[1], 1)\n",
    "    input_ = input_.permute(3, 0, 1, 2)\n",
    "\n",
    "    if cuda.is_available():\n",
    "        return input_.type('torch.cuda.FloatTensor')\n",
    "    else:\n",
    "        return input_.type('torch.FloatTensor')"
   ]
  },
  {
   "cell_type": "code",
   "execution_count": 5,
   "metadata": {},
   "outputs": [],
   "source": [
    "result_value = []\n",
    "result_label = []\n",
    "\n",
    "img = Image.open(Config.DATASET_DIR + 'janna_qua/janna_qua003.png')\n",
    "new_embedding = model(Variable(image_pipeline(img,preprocess))).cpu()\n",
    "\n",
    "for label in os.listdir(Config.DATABASE_FOLDER):\n",
    "    loaded_embeddings = np.load(Config.DATABASE_FOLDER+label, allow_pickle=True)\n",
    "    tmp = []    \n",
    "    for embedding in loaded_embeddings:\n",
    "        dis = F.pairwise_distance(embedding,new_embedding)\n",
    "        tmp.append(dis.item())\n",
    "    result_value.append((min(tmp)))\n",
    "    result_label.append(label)\n"
   ]
  },
  {
   "cell_type": "code",
   "execution_count": 7,
   "metadata": {
    "tags": []
   },
   "outputs": [
    {
     "output_type": "stream",
     "name": "stdout",
     "text": "1 :  janna_qua.npy :  3.577686220523901e-05\n2 :  tim_moe.npy :  0.09579121321439743\n3 :  clara_pau.npy :  0.09974296391010284\n4 :  collin_sch.npy :  0.11074979603290558\n5 :  marina_fri.npy :  0.1114228218793869\n6 :  clemens_blu.npy :  0.11395391076803207\n7 :  beatrix_mah.npy :  0.11544628441333771\n8 :  gregor_spi.npy :  0.11710245907306671\n9 :  mohammed_muh.npy :  0.11872308701276779\n10 :  konrad_von.npy :  0.11907434463500977\n"
    }
   ],
   "source": [
    "result_value, result_label = zip(*sorted(zip(result_value, result_label)))\n",
    "result_value = result_value[:10]\n",
    "result_label = result_label[:10]\n",
    "\n",
    "for idx, val in enumerate(result_label):\n",
    "    print(str(idx+1) + ' : ' + ' ' + val + ' : ' + ' ' + str(result_value[idx]))"
   ]
  },
  {
   "cell_type": "code",
   "execution_count": null,
   "metadata": {},
   "outputs": [],
   "source": []
  }
 ],
 "metadata": {
  "language_info": {
   "codemirror_mode": {
    "name": "ipython",
    "version": 3
   },
   "file_extension": ".py",
   "mimetype": "text/x-python",
   "name": "python",
   "nbconvert_exporter": "python",
   "pygments_lexer": "ipython3",
   "version": "3.7.7-final"
  },
  "orig_nbformat": 2,
  "kernelspec": {
   "name": "python37764bitbachelorthesisvenv02556f6d95bb441ca9c35a29550b23bd",
   "display_name": "Python 3.7.7 64-bit ('Bachelorthesis': venv)"
  }
 },
 "nbformat": 4,
 "nbformat_minor": 2
}