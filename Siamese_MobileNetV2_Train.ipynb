{
 "cells": [
  {
   "cell_type": "code",
   "execution_count": null,
   "metadata": {},
   "outputs": [],
   "source": [
    "import sys\n",
    "sys.path.append('../..')\n",
    "from torchvision.utils import make_grid\n",
    "from torchvision.models.mobilenet import mobilenet_v2\n",
    "import torch.nn as nn\n",
    "import torch.nn.functional as F\n",
    "from torch.autograd import Variable\n",
    "import torch\n",
    "import torchvision\n",
    "from DLBio.pytorch_helpers import get_device\n",
    "import numpy as np\n",
    "import matplotlib.pyplot as plt\n",
    "import ds_ear_siamese\n",
    "import transforms_data as td\n",
    "from siamese_network_train import Training\n",
    "from ContrastiveLossFunction import ContrastiveLoss\n",
    "from torch import cuda\n",
    "from NN_Siamese import SiameseNetwork"
   ]
  },
  {
   "cell_type": "code",
   "execution_count": null,
   "metadata": {},
   "outputs": [],
   "source": [
    "def imshow(img,text=None,should_save=False):\n",
    "    npimg = img.numpy()\n",
    "    plt.axis(\"off\")\n",
    "    if text:\n",
    "        plt.text(75, 8, text, style='italic',fontweight='bold',\n",
    "            bbox={'facecolor':'white', 'alpha':0.8, 'pad':10})\n",
    "    plt.imshow(np.transpose(npimg, (1, 2, 0)))\n",
    "    plt.show()    \n",
    "\n",
    "def show_plot(iteration,loss):\n",
    "    plt.plot(iteration,loss)\n",
    "    plt.show()"
   ]
  },
  {
   "cell_type": "code",
   "execution_count": null,
   "metadata": {},
   "outputs": [],
   "source": [
    "# Set Up All Configurations here\n",
    "class Config():\n",
    "    NN_SIAMESE = False\n",
    "    dataset_dir = '../dataset_low_res/'\n",
    "    # training_dir = \"../data/ears/training/\"\n",
    "    # testing_dir = \"../data/ears/testing/\"\n",
    "    train_batch_size = 32\n",
    "    test_batch_size = 1\n",
    "    vis_batch_size = 8\n",
    "    num_workers = 3\n",
    "    \n",
    "    EPOCHS= 100\n",
    "    LEARNINGRATE = 0.001\n",
    "    WEIGHT_DECAY = 1"
   ]
  },
  {
   "cell_type": "code",
   "execution_count": null,
   "metadata": {
    "tags": []
   },
   "outputs": [],
   "source": [
    "# define indicies to split Data\n",
    "N = len(ds_ear_siamese.get_dataset(data_path=Config.dataset_dir, transform_mode='size_only'))\n",
    "print(N)\n",
    "n_80 = int(round(.8*N))\n",
    "n_70 = int(round(.7*N))\n",
    "n_60 = int(round(.6*N))\n",
    "\n",
    "rand_indices = np.random.permutation(N)\n",
    "train_indices = rand_indices[:n_70]\n",
    "test_indices = rand_indices[n_70:]\n",
    "\n",
    "# definde data loader\n",
    "# dl_train = ds_ear_siamese.get_dataloader(\n",
    "train_dataloader = ds_ear_siamese.get_dataloader(\n",
    "    indices=train_indices,\n",
    "    batch_size=Config.train_batch_size,\n",
    "    num_workers=Config.num_workers,\n",
    "    transform_mode='siamese', # TODO switch to another transform? \n",
    "    data_path=Config.dataset_dir\n",
    ")\n",
    "\n",
    "# dl_test = ds_ear_siamese.get_dataloader(\n",
    "test_dataloader = ds_ear_siamese.get_dataloader(\n",
    "    indices=test_indices,\n",
    "    batch_size=Config.test_batch_size,\n",
    "    num_workers=Config.num_workers,\n",
    "    transform_mode='siamese',\n",
    "    data_path=Config.dataset_dir\n",
    ")\n",
    "\n",
    "vis_dataloader = ds_ear_siamese.get_dataloader(\n",
    "    indices=train_indices,\n",
    "    batch_size=Config.vis_batch_size,\n",
    "    num_workers=Config.num_workers,\n",
    "    transform_mode='siamese',\n",
    "    data_path=Config.dataset_dir\n",
    ")"
   ]
  },
  {
   "cell_type": "code",
   "execution_count": null,
   "metadata": {
    "tags": []
   },
   "outputs": [],
   "source": [
    "# visualize some data....\n",
    "dataiter = iter(vis_dataloader)\n",
    "\n",
    "example_batch = next(dataiter)\n",
    "concatenated = torch.cat((example_batch[0], example_batch[1]),0)\n",
    "imshow(make_grid(concatenated))\n",
    "print(example_batch[2].numpy())"
   ]
  },
  {
   "cell_type": "code",
   "execution_count": 6,
   "metadata": {
    "tags": []
   },
   "outputs": [
    {
     "output_type": "stream",
     "name": "stdout",
     "text": "cuda:0\n"
    }
   ],
   "source": [
    "# Definde Model and load to device\n",
    "if Config.NN_SIAMESE == False:\n",
    "    model = mobilenet_v2(pretrained=True)\n",
    "    model.features[0][0] = nn.Conv2d(1, 32, kernel_size=(3, 3), stride=(2, 2), padding=(1, 1), bias=False)\n",
    "    model.classifier[1] = nn.Linear(in_features=model.classifier[1].in_features, out_features=5)\n",
    "\n",
    "    layers = []\n",
    "    for layer in model.features[0]:\n",
    "        layers.append(layer)\n",
    "    model.features[0][0] = nn.ReflectionPad2d(1)\n",
    "    model.features[0][1] = layers[0]\n",
    "    model.features[0][2] = layers[1]\n",
    "    model.features[0].add_module('3', layers[2])\n",
    "else:\n",
    "    model = SiameseNetwork()\n",
    "\n",
    "\n",
    "device = get_device()\n",
    "print(device)\n",
    "model.to(device)\n",
    "\n",
    "contrastive_loss_siamese = ContrastiveLoss(2.0)\n",
    "optimizer_siamese = torch.optim.Adam(model.parameters(),lr = Config.LEARNINGRATE)\n",
    "\n"
   ]
  },
  {
   "cell_type": "code",
   "execution_count": null,
   "metadata": {
    "tags": []
   },
   "outputs": [],
   "source": [
    "training = Training(model=model, optimizer=optimizer_siamese,train_dataloader=train_dataloader, \n",
    "                loss_contrastive=contrastive_loss_siamese, nn_Siamese=Config.NN_SIAMESE)\n",
    "\n",
    "counter, loss_history = training(Config.EPOCHS)\n",
    "show_plot(counter, loss_history)"
   ]
  },
  {
   "cell_type": "code",
   "execution_count": null,
   "metadata": {
    "tags": []
   },
   "outputs": [],
   "source": [
    "if Config.NN_SIAMESE:\n",
    "    def generate_output( img_in, img_in2):\n",
    "        if cuda.is_available():\n",
    "            return model(Variable(img_in).cuda(), Variable(img_in2).cuda())\n",
    "        else:\n",
    "            return model(Variable(img_in), Variable(img_in2))\n",
    "\n",
    "else:\n",
    "    def generate_output( img_in):\n",
    "        if cuda.is_available():\n",
    "            return model(Variable(img_in).cuda())\n",
    "        else:\n",
    "            return model(Variable(img_in))         "
   ]
  },
  {
   "cell_type": "code",
   "execution_count": null,
   "metadata": {
    "tags": []
   },
   "outputs": [],
   "source": [
    "iter_batches = iter(test_dataloader)\n",
    "accuracy_count = 0.0\n",
    "matches = []\n",
    "non_matches = []\n",
    "for i in range(len(iter_batches)):\n",
    "    # batch size schould be 1 to throw no errors in accessing the next(iter_batches) \n",
    "    img0, img1, label = next(iter_batches)\n",
    "    # appends images to matches, if label is 0 (0 = same)\n",
    "    ((matches, non_matches)[int(label)]).append( (img0,img1) )\n",
    "\n",
    "# iterate through both lists and compare the distances of the current entries\n",
    "for m, n in zip(matches, non_matches):\n",
    "    # get the models output vectors for the images\n",
    "    \n",
    "    if Config.NN_SIAMESE:\n",
    "        match_out1, match_out2 = generate_output(m[0], m[1])\n",
    "        non_match_out1, non_match_out2 = generate_output(n[0], n[1])\n",
    "    else:\n",
    "        match_out1 = generate_output(m[0])\n",
    "        match_out2 = generate_output(m[1])                 \n",
    "        non_match_out1 = generate_output(n[0])\n",
    "        non_match_out2 = generate_output(n[1])\n",
    "        \n",
    "    # positive-positive, positive-negative distance\n",
    "    euclidean_distance_pp = F.pairwise_distance(match_out1, match_out2)\n",
    "    euclidean_distance_pn = F.pairwise_distance(non_match_out1, non_match_out2)\n",
    "    \n",
    "    # format variables\n",
    "    fmt_id = '{:<12}'\n",
    "    fmt_eucl = '{:<.3f}'\n",
    "    # increase accouracy count if p-p was lower than p-n\n",
    "    if(euclidean_distance_pp < euclidean_distance_pn): accuracy_count += 1\n",
    "    # print current stats\n",
    "    print(fmt_id.format('pos-pos: '), fmt_eucl.format( euclidean_distance_pp.item()) )\n",
    "    print(fmt_id.format('pos-neg: '),fmt_eucl.format( euclidean_distance_pn.item()) )\n",
    "    print(fmt_id.format('Acc. count: '), '{:>.0f}'.format(accuracy_count), '\\n')\n",
    "\n",
    "# divide by the minimum length (zip function regulated the steps to the minimum)\n",
    "print(fmt_id.format('Overall (estimated) accuracy: '), fmt_eucl.format( 100 * accuracy_count / min(len(matches), len(non_matches)) ), ' %')"
   ]
  },
  {
   "cell_type": "code",
   "execution_count": null,
   "metadata": {},
   "outputs": [],
   "source": [
    "#model = torch.load('/Users/falcolentzsch/Develope/Bachelorthesis/Bachelorthesis/models/model.pt')"
   ]
  },
  {
   "cell_type": "code",
   "execution_count": null,
   "metadata": {},
   "outputs": [],
   "source": [
    "#torch.save(model,'/nfshome/lentzsch/Documents/Bachelorarbeit/Bachelorthesis/models/model_NN_1.pt')"
   ]
  },
  {
   "cell_type": "code",
   "execution_count": null,
   "metadata": {},
   "outputs": [],
   "source": []
  }
 ],
 "metadata": {
  "hide_input": false,
  "kernelspec": {
   "display_name": "Python 3.7.7 64-bit ('Bachelorthesis': venv)",
   "language": "python",
   "name": "python37764bitbachelorthesisvenv2dac4a23d3734769a463ced8ddada848"
  },
  "language_info": {
   "codemirror_mode": {
    "name": "ipython",
    "version": 3
   },
   "file_extension": ".py",
   "mimetype": "text/x-python",
   "name": "python",
   "nbconvert_exporter": "python",
   "pygments_lexer": "ipython3",
   "version": "3.7.7-final"
  }
 },
 "nbformat": 4,
 "nbformat_minor": 2
}