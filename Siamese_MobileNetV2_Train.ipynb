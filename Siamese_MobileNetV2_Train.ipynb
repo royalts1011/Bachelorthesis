{
 "cells": [
  {
   "cell_type": "code",
   "execution_count": null,
   "metadata": {},
   "outputs": [],
   "source": [
    "import sys\n",
    "sys.path.append('../..')\n",
    "import numpy as np\n",
    "import matplotlib.pyplot as plt\n",
    "\n",
    "# PyTorch\n",
    "import torch\n",
    "import torchvision\n",
    "import torch.nn as nn\n",
    "import torch.nn.functional as F\n",
    "from torch import cuda\n",
    "from torch.autograd import Variable\n",
    "from torchvision.utils import make_grid\n",
    "from torchvision.models.mobilenet import mobilenet_v2\n",
    "\n",
    "# DLBio and own scripts\n",
    "from DLBio.pytorch_helpers import get_device\n",
    "import ds_ear_siamese\n",
    "import transforms_data as td\n",
    "from helpers import cuda_conv\n",
    "import metrics as M\n",
    "from siamese_network_train import Training\n",
    "from ContrastiveLossFunction import ContrastiveLoss\n",
    "from NN_Siamese import SiameseNetwork"
   ]
  },
  {
   "cell_type": "code",
   "execution_count": null,
   "metadata": {},
   "outputs": [],
   "source": [
    "def imshow(img,text=None,should_save=False):\n",
    "    npimg = img.numpy()\n",
    "    plt.axis(\"off\")\n",
    "    if text:\n",
    "        plt.text(75, 8, text, style='italic',fontweight='bold',\n",
    "            bbox={'facecolor':'white', 'alpha':0.8, 'pad':10})\n",
    "    plt.imshow(np.transpose(npimg, (1, 2, 0)))\n",
    "    plt.show()    \n",
    "\n",
    "def show_plot(iteration,value1, val_iteration, value2, label1, label2, plt_number):\n",
    "    plt.figure(plt_number)\n",
    "    plt.plot(iteration,value1, label=label1)\n",
    "    plt.plot(val_iteration,value2, label=label2)\n",
    "    plt.legend()\n",
    "    plt.grid()"
   ]
  },
  {
   "cell_type": "code",
   "execution_count": null,
   "metadata": {},
   "outputs": [],
   "source": [
    "# Set Up All Configurations here\n",
    "class Config():\n",
    "    NN_SIAMESE = False\n",
    "    dataset_dir = '../dataset_low_res/'\n",
    "    # training_dir = \"../data/ears/training/\"\n",
    "    # testing_dir = \"../data/ears/testing/\"\n",
    "    train_batch_size = 32\n",
    "    val_batch_size = 32\n",
    "    test_batch_size = 16\n",
    "    vis_batch_size = 8\n",
    "    num_workers = 3\n",
    "    \n",
    "    EPOCHS= 50\n",
    "    LEARNINGRATE = 0.001\n",
    "    WEIGHT_DECAY = 1\n",
    "\n",
    "    TRESHOLD_VER = 0.8\n",
    "    a = 0"
   ]
  },
  {
   "cell_type": "code",
   "execution_count": null,
   "metadata": {
    "tags": []
   },
   "outputs": [],
   "source": [
    "# define indicies to split Data\n",
    "N = len(ds_ear_siamese.get_dataset(data_path=Config.dataset_dir, transform_mode='size_only'))\n",
    "print(N)\n",
    "n_80 = int(round(.8*N))\n",
    "n_70 = int(round(.7*N))\n",
    "n_60 = int(round(.6*N))\n",
    "n_20 = int(round(.2*N))\n",
    "n_10 = int(round(.1*N))\n",
    "\n",
    "rand_indices = np.random.permutation(N)\n",
    "train_indices = rand_indices[:n_70]\n",
    "val_indices = rand_indices[n_70:n_70+n_20]\n",
    "test_indices = rand_indices[n_70+n_20:]\n",
    "\n",
    "\n",
    "# definde data loader\n",
    "# dl_train = ds_ear_siamese.get_dataloader(\n",
    "train_dataloader = ds_ear_siamese.get_dataloader(\n",
    "    data_path=Config.dataset_dir,\n",
    "    indices=train_indices,\n",
    "    batch_size=Config.train_batch_size,\n",
    "    num_workers=Config.num_workers,\n",
    "    transform_mode='siamese', # TODO switch to another transform?\n",
    "    should_invert = False\n",
    ")\n",
    "\n",
    "val_dataloader = ds_ear_siamese.get_dataloader(\n",
    "    data_path=Config.dataset_dir,\n",
    "    indices=val_indices,\n",
    "    batch_size=Config.val_batch_size,\n",
    "    num_workers=Config.num_workers,\n",
    "    transform_mode='siamese_valid_and_test',\n",
    "    should_invert = False\n",
    ")\n",
    "# dl_test = ds_ear_siamese.get_dataloader(\n",
    "test_dataloader = ds_ear_siamese.get_dataloader(\n",
    "    data_path=Config.dataset_dir,\n",
    "    indices=test_indices,\n",
    "    batch_size=Config.test_batch_size,\n",
    "    num_workers=Config.num_workers,\n",
    "    transform_mode='siamese_valid_and_test',\n",
    "    should_invert = False\n",
    ")\n",
    "\n",
    "vis_dataloader = ds_ear_siamese.get_dataloader(\n",
    "    data_path=Config.dataset_dir,\n",
    "    indices=train_indices,\n",
    "    batch_size=Config.vis_batch_size,\n",
    "    num_workers=Config.num_workers,\n",
    "    transform_mode='siamese',\n",
    "    should_invert = False\n",
    ")"
   ]
  },
  {
   "cell_type": "code",
   "execution_count": null,
   "metadata": {
    "tags": []
   },
   "outputs": [],
   "source": [
    "# visualize some data....\n",
    "dataiter = iter(vis_dataloader)\n",
    "\n",
    "example_batch = next(dataiter)\n",
    "concatenated = torch.cat((example_batch[0], example_batch[1]),0)\n",
    "imshow(make_grid(concatenated))\n",
    "print(example_batch[2].numpy())"
   ]
  },
  {
   "cell_type": "code",
   "execution_count": null,
   "metadata": {
    "tags": []
   },
   "outputs": [],
   "source": [
    "# Definde Model and load to device\n",
    "if Config.NN_SIAMESE == False:\n",
    "    model = mobilenet_v2(pretrained=True)\n",
    "    model.features[0][0] = nn.Conv2d(1, 32, kernel_size=(3, 3), stride=(2, 2), padding=(1, 1), bias=False)\n",
    "    #model.classifier[1] = nn.Linear(in_features=model.classifier[1].in_features, out_features=10)\n",
    "    \n",
    "    layers = []\n",
    "    for layer in model.features[0]:\n",
    "        layers.append(layer)\n",
    "    model.features[0][0] = nn.ReflectionPad2d(1)\n",
    "    model.features[0][1] = layers[0]\n",
    "    model.features[0][2] = layers[1]\n",
    "    model.features[0].add_module('3', layers[2])\n",
    "    \n",
    "    model.classifier = nn.Sequential(*list(model.classifier.children())[:-2])\n",
    "    \n",
    "    #model = torch.nn.Sequential(*(list(model.children())[:-1]))\n",
    "    #model = model.features\n",
    "\n",
    "else:\n",
    "    model = SiameseNetwork()\n",
    "\n",
    "\n",
    "device = get_device()\n",
    "print(device)\n",
    "model.to(device)\n",
    "\n",
    "contrastive_loss_siamese = ContrastiveLoss(2.0)\n",
    "optimizer_siamese = torch.optim.Adam(model.parameters(),lr = Config.LEARNINGRATE)"
   ]
  },
  {
   "cell_type": "code",
   "execution_count": null,
   "metadata": {},
   "outputs": [],
   "source": [
    "# To Define which Layers we want to train\n",
    "# for param in model.parameters():\n",
    "#     param.requires_grad = False\n",
    "\n",
    "# layers = list(model.children())[0]\n",
    "# sub_layer = list(layers.children())\n",
    "# unfreezed = [1,14,15, 16, 17, 18]\n",
    "# for u in unfreezed:\n",
    "#     for param in sub_layer[u].parameters():\n",
    "#         param.requires_grad = True"
   ]
  },
  {
   "cell_type": "code",
   "execution_count": null,
   "metadata": {
    "tags": []
   },
   "outputs": [],
   "source": [
    "# To show trainable parameters\n",
    "from DLBio.pytorch_helpers import get_num_params\n",
    "\n",
    "get_num_params(model,True)"
   ]
  },
  {
   "cell_type": "code",
   "execution_count": null,
   "metadata": {
    "tags": []
   },
   "outputs": [],
   "source": [
    "training = Training(model=model, optimizer=optimizer_siamese,train_dataloader=train_dataloader, val_dataloader=val_dataloader, loss_contrastive=contrastive_loss_siamese, nn_Siamese=Config.NN_SIAMESE, THRESHOLD=Config.TRESHOLD_VER)\n",
    "\n",
    "counter, loss_history, val_counter, val_loss_history, acc_history, val_acc_history = training(Config.EPOCHS)\n",
    "show_plot(counter, loss_history,val_counter, val_loss_history,'train_loss', 'val_loss',1)\n",
    "show_plot(counter, acc_history,val_counter, val_acc_history,'train_acc', 'val_acc', 2)"
   ]
  },
  {
   "cell_type": "code",
   "execution_count": null,
   "metadata": {},
   "outputs": [],
   "source": [
    "# tn Bilder nicht gleich, Distanz größer als THRESH\n",
    "# fp Bilder nicht gleich, Distanz kleiner als THRESH\n",
    "# fn Bilder gleich, Distanz größer als THRESH\n",
    "# tp Bilder gleich, Distanz kleiner als THRESH\n",
    "\n",
    "ground_truth, prediction = [], []\n",
    "\n",
    "for data in test_dataloader:\n",
    "    # use training class for data extraction\n",
    "    label, output1, output2 = training.get_label_outputs(data)\n",
    "    # extend labels of the ground truth\n",
    "    ground_truth.extend(label.flatten().tolist())\n",
    "    # Extend the distance-threshold prediction\n",
    "    prediction.extend(M.batch_predictions_bin(output1, output2, Config.TRESHOLD_VER))\n"
   ]
  },
  {
   "cell_type": "code",
   "execution_count": null,
   "metadata": {
    "tags": []
   },
   "outputs": [],
   "source": [
    "# Set parameters for confusion_matrix plot\n",
    "cf = M.cf_matrix(ground_truth, prediction)\n",
    "labels = ['True Pos','False Neg','False Pos','True Neg']\n",
    "categories = ['Same', 'Different']\n",
    "\n",
    "# plot matrix\n",
    "M.make_confusion_matrix(cf,\n",
    "                        group_names=labels,\n",
    "                        categories=categories,\n",
    "                        cbar=True\n",
    "                        )"
   ]
  },
  {
   "cell_type": "code",
   "execution_count": null,
   "metadata": {},
   "outputs": [],
   "source": [
    "#model = torch.load('/Users/falcolentzsch/Develope/Bachelorthesis/Bachelorthesis/models/model.pt')"
   ]
  },
  {
   "cell_type": "code",
   "execution_count": null,
   "metadata": {},
   "outputs": [],
   "source": [
    "#torch.save(model,'/nfshome/lentzsch/Documents/Bachelorarbeit/Bachelorthesis/models/model_MN_1.pt')"
   ]
  },
  {
   "cell_type": "code",
   "execution_count": null,
   "metadata": {},
   "outputs": [],
   "source": []
  }
 ],
 "metadata": {
  "hide_input": false,
  "kernelspec": {
   "display_name": "Python 3.7.7 64-bit ('Bachelorthesis': venv)",
   "language": "python",
   "name": "python37764bitbachelorthesisvenv2dac4a23d3734769a463ced8ddada848"
  },
  "language_info": {
   "codemirror_mode": {
    "name": "ipython",
    "version": 3
   },
   "file_extension": ".py",
   "mimetype": "text/x-python",
   "name": "python",
   "nbconvert_exporter": "python",
   "pygments_lexer": "ipython3",
   "version": "3.7.8-final"
  }
 },
 "nbformat": 4,
 "nbformat_minor": 2
}