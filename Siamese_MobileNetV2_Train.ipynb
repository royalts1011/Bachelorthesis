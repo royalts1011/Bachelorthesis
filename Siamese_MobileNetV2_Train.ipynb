{
 "cells": [
  {
   "cell_type": "code",
   "execution_count": null,
   "metadata": {},
   "outputs": [],
   "source": [
    "import sys\n",
    "sys.path.append('../..')\n",
    "from torchvision.utils import make_grid\n",
    "from torchvision.models.mobilenet import mobilenet_v2\n",
    "import torch.nn as nn\n",
    "import torch.nn.functional as F\n",
    "from torch.autograd import Variable\n",
    "import torch\n",
    "\n",
    "from DLBio.pytorch_helpers import get_device\n",
    "\n",
    "import numpy as np\n",
    "import matplotlib.pyplot as plt\n",
    "import ds_ear_siamese\n",
    "import transforms_data as td\n",
    "from siamese_network_train import Training\n",
    "from ContrastiveLossFunction import ContrastiveLoss\n",
    "from torch import cuda"
   ]
  },
  {
   "cell_type": "code",
   "execution_count": null,
   "metadata": {},
   "outputs": [],
   "source": [
    "def imshow(img,text=None,should_save=False):\n",
    "    npimg = img.numpy()\n",
    "    plt.axis(\"off\")\n",
    "    if text:\n",
    "        plt.text(75, 8, text, style='italic',fontweight='bold',\n",
    "            bbox={'facecolor':'white', 'alpha':0.8, 'pad':10})\n",
    "    plt.imshow(np.transpose(npimg, (1, 2, 0)))\n",
    "    plt.show()    \n",
    "\n",
    "def show_plot(iteration,loss):\n",
    "    plt.plot(iteration,loss)\n",
    "    plt.show()"
   ]
  },
  {
   "cell_type": "code",
   "execution_count": null,
   "metadata": {},
   "outputs": [],
   "source": [
    "# Set Up All Configurations here\n",
    "class Config():\n",
    "    dataset_dir = '../dataset_high_res/'\n",
    "    # training_dir = \"../data/ears/training/\"\n",
    "    # testing_dir = \"../data/ears/testing/\"\n",
    "    train_batch_size = 32\n",
    "    test_batch_size = 1\n",
    "    vis_batch_size = 8\n",
    "    num_workers = 3\n",
    "    \n",
    "    EPOCHS= 5\n",
    "    LEARNINGRATE = 0.001"
   ]
  },
  {
   "cell_type": "code",
   "execution_count": 16,
   "metadata": {
    "tags": []
   },
   "outputs": [
    {
     "output_type": "stream",
     "name": "stdout",
     "text": "['alissa_buh', 'falco_len', 'gregor_spi', 'nils_loo']\n320\n"
    }
   ],
   "source": [
    "# define indicies to split Data\n",
    "N = len(ds_ear_siamese.get_dataset(data_path=Config.dataset_dir, transform_mode='size_only'))\n",
    "print(N)\n",
    "n_80 = int(round(.8*N))\n",
    "n_70 = int(round(.7*N))\n",
    "n_60 = int(round(.6*N))\n",
    "\n",
    "rand_indices = np.random.permutation(N)\n",
    "train_indices = rand_indices[:n_70]\n",
    "test_indices = rand_indices[n_70:]\n",
    "\n",
    "# definde data loader\n",
    "# dl_train = ds_ear_siamese.get_dataloader(\n",
    "train_dataloader = ds_ear_siamese.get_dataloader(\n",
    "    indices=train_indices,\n",
    "    batch_size=Config.train_batch_size,\n",
    "    num_workers=Config.num_workers,\n",
    "    transform_mode='train', # TODO switch to another transform? \n",
    "    data_path=Config.dataset_dir\n",
    ")\n",
    "\n",
    "# dl_test = ds_ear_siamese.get_dataloader(\n",
    "test_dataloader = ds_ear_siamese.get_dataloader(\n",
    "    indices=test_indices,\n",
    "    batch_size=Config.test_batch_size,\n",
    "    num_workers=Config.num_workers,\n",
    "    transform_mode='valid_and_test',\n",
    "    data_path=Config.dataset_dir\n",
    ")\n",
    "\n",
    "vis_dataloader = ds_ear_siamese.get_dataloader(\n",
    "        indices=train_indices,\n",
    "        batch_size=Config.vis_batch_size,\n",
    "        num_workers=Config.num_workers,\n",
    "        transform_mode='train',\n",
    "        data_path=Config.dataset_dir\n",
    ")"
   ]
  },
  {
   "cell_type": "code",
   "execution_count": null,
   "metadata": {
    "tags": []
   },
   "outputs": [],
   "source": [
    "# visualize some data....\n",
    "dataiter = iter(vis_dataloader)\n",
    "\n",
    "example_batch = next(dataiter)\n",
    "concatenated = torch.cat((example_batch[0], example_batch[1]),0)\n",
    "imshow(make_grid(concatenated))\n",
    "print(example_batch[2].numpy())"
   ]
  },
  {
   "cell_type": "code",
   "execution_count": null,
   "metadata": {
    "tags": []
   },
   "outputs": [],
   "source": [
    "# Definde Model and load to device\n",
    "model = mobilenet_v2(pretrained=True)\n",
    "#model.features[0][0] = nn.Conv2d(1, 32, kernel_size=(3, 3), stride=(2, 2), padding=(1, 1), bias=False)\n",
    "model.classifier[1] = nn.Linear(in_features=model.classifier[1].in_features, out_features=32)\n",
    "\n",
    "device = get_device()\n",
    "print(device)\n",
    "model.to(device)\n",
    "\n",
    "contrastive_loss_siamese = ContrastiveLoss()\n",
    "optimizer_siamese = torch.optim.Adam(model.parameters(),lr = Config.LEARNINGRATE)"
   ]
  },
  {
   "cell_type": "code",
   "execution_count": null,
   "metadata": {
    "tags": []
   },
   "outputs": [],
   "source": [
    "training = Training(model=model, optimizer=optimizer_siamese,train_dataloader=train_dataloader, \n",
    "                loss_contrastive=contrastive_loss_siamese)\n",
    "\n",
    "counter, loss_history = training(Config.EPOCHS)\n",
    "show_plot(counter, loss_history)"
   ]
  },
  {
   "cell_type": "code",
   "execution_count": null,
   "metadata": {
    "run_control": {
     "marked": true
    },
    "scrolled": false,
    "tags": []
   },
   "outputs": [],
   "source": [
    "unnormalize = td.UnNormalize()\n",
    "# Takes first image from the first batch of the test_dataloader and compares it via euclidean distance\n",
    "# to the second entry images of the next ten batches (batch size is 1 here)\n",
    "dataiter = iter(test_dataloader)\n",
    "x0,_,_ = next(dataiter)\n",
    "x0_unnormalized = unnormalize(x0)\n",
    "for i in range(10):\n",
    "    _,x1,label2 = next(dataiter)\n",
    "    concatenated = torch.cat((x0_unnormalized, unnormalize(x1)),0)\n",
    "    \n",
    "    if cuda.is_available():\n",
    "        output1 = model(Variable(x0).cuda())\n",
    "        output2 = model(Variable(x1).cuda())\n",
    "    else:\n",
    "        output1 = model(Variable(x0))\n",
    "        output2 = model(Variable(x1))\n",
    "    euclidean_distance = F.pairwise_distance(output1, output2)\n",
    "    imshow(make_grid(concatenated),'Dissimilarity: {:.2f}'.format(euclidean_distance.item()))\n",
    "\n"
   ]
  },
  {
   "cell_type": "code",
   "execution_count": 18,
   "metadata": {
    "tags": []
   },
   "outputs": [
    {
     "output_type": "stream",
     "name": "stdout",
     "text": "0.6992236375808716\n0.7235127687454224\n1.0\n \n0.7438541650772095\n0.7762323021888733\n2.0\n \n0.6653738617897034\n0.8425061106681824\n3.0\n \n0.8339099287986755\n0.8724361658096313\n4.0\n \n0.6655409336090088\n0.9859867095947266\n5.0\n \n0.7505720853805542\n0.9029063582420349\n6.0\n \n0.7557939887046814\n0.810157835483551\n7.0\n \n0.7681378126144409\n0.815054714679718\n8.0\n \n0.5110788941383362\n0.9356272220611572\n9.0\n \n0.6860977411270142\n0.777959942817688\n10.0\n \n0.6368874311447144\n0.7511181235313416\n11.0\n \n0.8671045303344727\n0.8768244385719299\n12.0\n \n0.6782304048538208\n0.7901668548583984\n13.0\n \n0.7599890828132629\n0.9040735363960266\n14.0\n \n0.6469873189926147\n0.8666126132011414\n15.0\n \n0.5\n"
    }
   ],
   "source": [
    "unnormalize = td.UnNormalize()\n",
    "dataiter = iter(test_dataloader)\n",
    "accuracy = 0.0\n",
    "for i in range(30):\n",
    "    x0,x1,label = next(dataiter)\n",
    "    while True:\n",
    "        #keep looping till a different class image is found\n",
    "        x2,x3,label2 = next(dataiter)\n",
    "        if label != label2:\n",
    "            break\n",
    "\n",
    "    concatenated = torch.cat((unnormalize(x0), unnormalize(x1)),0)\n",
    "    if cuda.is_available():\n",
    "        output1 = model(Variable(x0).cuda())\n",
    "        output2 = model(Variable(x1).cuda())\n",
    "        output3 = model(Variable(x2).cuda())\n",
    "        output4 = model(Variable(x3).cuda())\n",
    "        \n",
    "    else:\n",
    "        output1 = model(Variable(x0))\n",
    "        output2 = model(Variable(x1))\n",
    "        output3 = model(Variable(x2))\n",
    "        output4 = model(Variable(x3))\n",
    "    euclidean_distance_pp = F.pairwise_distance(output1, output2)\n",
    "    euclidean_distance_pn = F.pairwise_distance(output3, output4)\n",
    "\n",
    "    \n",
    "    if(euclidean_distance_pp < euclidean_distance_pn):\n",
    "        accuracy += 1\n",
    "        print(euclidean_distance_pp.item())\n",
    "        print(euclidean_distance_pn.item())\n",
    "        print(accuracy)\n",
    "        print(\" \")\n",
    "print(accuracy/30)"
   ]
  },
  {
   "cell_type": "code",
   "execution_count": null,
   "metadata": {
    "tags": []
   },
   "outputs": [],
   "source": [
    "unnormalize = td.UnNormalize()\n",
    "dataiter = iter(test_dataloader)\n",
    "for i in range(10):\n",
    "    x0,x1,label = next(dataiter)\n",
    "    concatenated = torch.cat((unnormalize(x0), unnormalize(x1)),0)\n",
    "    if cuda.is_available():\n",
    "        output1 = model(Variable(x0).cuda())\n",
    "        output2 = model(Variable(x1).cuda())\n",
    "    else:\n",
    "        output1 = model(Variable(x0))\n",
    "        output2 = model(Variable(x1))\n",
    "    euclidean_distance = F.pairwise_distance(output1, output2)\n",
    "    imshow(make_grid(concatenated),'Dissimilarity: {:.2f}'.format(euclidean_distance.item()))\n",
    "    #print(euclidean_distance.item())\n",
    "    print(label)"
   ]
  },
  {
   "cell_type": "code",
   "execution_count": null,
   "metadata": {},
   "outputs": [],
   "source": [
    "#model = torch.load('/Users/falcolentzsch/Develope/Bachelorthesis/Bachelorthesis/models/model.pt')"
   ]
  },
  {
   "cell_type": "code",
   "execution_count": null,
   "metadata": {},
   "outputs": [],
   "source": [
    "#torch.save(model,'/Users/falcolentzsch/Develope/Bachelorthesis/Bachelorthesis/models/model.pt')"
   ]
  },
  {
   "cell_type": "code",
   "execution_count": null,
   "metadata": {},
   "outputs": [],
   "source": []
  }
 ],
 "metadata": {
  "hide_input": false,
  "kernelspec": {
   "display_name": "Python 3.7.7 64-bit ('Bachelorthesis': venv)",
   "language": "python",
   "name": "python37764bitbachelorthesisvenv02556f6d95bb441ca9c35a29550b23bd"
  },
  "language_info": {
   "codemirror_mode": {
    "name": "ipython",
    "version": 3
   },
   "file_extension": ".py",
   "mimetype": "text/x-python",
   "name": "python",
   "nbconvert_exporter": "python",
   "pygments_lexer": "ipython3",
   "version": "3.7.7-final"
  }
 },
 "nbformat": 4,
 "nbformat_minor": 2
}